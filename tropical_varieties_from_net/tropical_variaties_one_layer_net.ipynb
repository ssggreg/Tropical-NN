{
 "cells": [
  {
   "cell_type": "code",
   "execution_count": 1,
   "metadata": {},
   "outputs": [],
   "source": [
    "import numpy as np\n",
    "from scipy.spatial import ConvexHull,Delaunay\n",
    "from mpl_toolkits.mplot3d import Axes3D\n",
    "import matplotlib.pyplot as plt\n",
    "import seaborn as sns\n",
    "\n",
    "sns.set()"
   ]
  },
  {
   "cell_type": "markdown",
   "metadata": {},
   "source": [
    "Supposons un reseau simple : de type one_net d architecture 2 5 1\n",
    "avec une activation relu : 2 5 (relu) 1 (relu)"
   ]
  },
  {
   "cell_type": "code",
   "execution_count": 5,
   "metadata": {},
   "outputs": [
    {
     "data": {
      "text/plain": [
       "(10, 2)"
      ]
     },
     "execution_count": 5,
     "metadata": {},
     "output_type": "execute_result"
    }
   ],
   "source": [
    "W1 = np.array([[ 1.2067,  0.477 ],\n",
    "        [-0.7744, -0.0382],\n",
    "        [-0.0545, -0.2608],\n",
    "        [-0.0246, -1.1567],\n",
    "        [-0.1484,  1.0552],\n",
    "        [-0.2904,  0.0486],\n",
    "        [ 0.    , -0.    ],\n",
    "        [ 0.5722,  0.0049],\n",
    "        [ 0.2667, -0.6222],\n",
    "        [-0.9105,  0.0039]])\n",
    "\n",
    "W1.shape"
   ]
  },
  {
   "cell_type": "markdown",
   "metadata": {},
   "source": [
    "W1 = np.array([[ 1.1702000e+00,  1.9960000e-01],\n",
    "        [-5.7159996e-01, -2.3000001e-03],\n",
    "        [-5.4499999e-02, -2.6080000e-01],\n",
    "        [-2.0999999e-03, -1.1590999e+00],\n",
    "        [-2.1840000e-01,  9.8379999e-01],\n",
    "        [-2.9040000e-01,  4.8599999e-02],\n",
    "        [ 0.0000000e+00, -0.0000000e+00],\n",
    "        [ 6.4330000e-01,  3.9999999e-04],\n",
    "        [ 1.3880000e-01, -4.0649998e-01],\n",
    "        [-8.2690001e-01, -1.0060000e-01]])\n",
    "\n",
    "W1.shape"
   ]
  },
  {
   "cell_type": "code",
   "execution_count": 64,
   "metadata": {},
   "outputs": [
    {
     "data": {
      "text/plain": [
       "(10,)"
      ]
     },
     "execution_count": 64,
     "metadata": {},
     "output_type": "execute_result"
    }
   ],
   "source": [
    "b1 = np.array([-9.900e-02, -1.314e-01, -6.615e-01, -2.732e-01, -3.065e-01,\n",
    "        -6.375e-01, -2.000e-04, -1.839e-01, -4.500e-03, -6.556e-01]).reshape(-1,1)\n",
    "b1.shape"
   ]
  },
  {
   "cell_type": "markdown",
   "metadata": {},
   "source": [
    "b1 = np.array([-1.6380000e-01, -2.7999999e-03, -6.6149998e-01, -3.4469998e-01,\n",
    "        -2.8009999e-01, -6.3749999e-01, -1.9999999e-04, -2.6130000e-01,\n",
    "         4.9999997e-04, -7.0989996e-01]).reshape(-1,1)\n",
    "b1.shape"
   ]
  },
  {
   "cell_type": "code",
   "execution_count": 7,
   "metadata": {},
   "outputs": [
    {
     "data": {
      "text/plain": [
       "(1, 10)"
      ]
     },
     "execution_count": 7,
     "metadata": {},
     "output_type": "execute_result"
    }
   ],
   "source": [
    "W2= np.array([[ 0.3919    ,  0.1595    ,  0.2631    ,  0.8702    ,  0.76049995,\n",
    "         -0.2333    , -0.        ,  0.7443    ,  0.74729997,  1.7297    ]]).reshape(1,-1)\n",
    "W2.shape"
   ]
  },
  {
   "cell_type": "markdown",
   "metadata": {},
   "source": [
    "#W2= np.array([-1,-2,0,1,3]).reshape(1,-1)\n",
    "W2= np.array([[ 0.46289998,  0.0669    ,  0.2631    ,  1.2672    ,  1.1229    ,\n",
    "         -0.2333    , -0.        ,  1.3639    ,  0.6024    ,  3.6285    ]]).reshape(1,-1)\n",
    "W2.shape"
   ]
  },
  {
   "cell_type": "code",
   "execution_count": 8,
   "metadata": {},
   "outputs": [
    {
     "data": {
      "text/plain": [
       "(1,)"
      ]
     },
     "execution_count": 8,
     "metadata": {},
     "output_type": "execute_result"
    }
   ],
   "source": [
    "b2 = np.array([-0.4005])\n",
    "b2.shape"
   ]
  },
  {
   "cell_type": "markdown",
   "metadata": {},
   "source": [
    "#b2 = np.array([2])\n",
    "b2 = np.array([-0.648])\n",
    "b2.shape"
   ]
  },
  {
   "cell_type": "code",
   "execution_count": 9,
   "metadata": {},
   "outputs": [],
   "source": [
    "def decompose(w):\n",
    "    return (w+abs(w))/2,(-w+abs(w))/2\n",
    "def G1(x):\n",
    "    return decompose(W1)[1].dot(x)\n",
    "def H1(x):\n",
    "    return decompose(W1)[0].dot(x)+b1\n",
    "def F1(x):\n",
    "    return np.maximum(G1(x),H1(x))\n",
    "def NU1(x):\n",
    "    return F1(x)-G(x)"
   ]
  },
  {
   "cell_type": "code",
   "execution_count": 10,
   "metadata": {},
   "outputs": [],
   "source": [
    "PG1 = np.concatenate((decompose(W1)[1],0*b1.reshape(-1,1)),axis=1)\n",
    "PH1 = np.concatenate((decompose(W1)[0],b1.reshape(-1,1)),axis=1)\n",
    "PF1 = np.stack((PG1,PH1),axis=1)"
   ]
  },
  {
   "cell_type": "code",
   "execution_count": 11,
   "metadata": {},
   "outputs": [
    {
     "data": {
      "text/plain": [
       "(array([[[ 0.0000e+00,  0.0000e+00, -0.0000e+00],\n",
       "         [ 1.2067e+00,  4.7700e-01, -9.9000e-02]],\n",
       " \n",
       "        [[ 7.7440e-01,  3.8200e-02, -0.0000e+00],\n",
       "         [ 0.0000e+00,  0.0000e+00, -1.3140e-01]],\n",
       " \n",
       "        [[ 5.4500e-02,  2.6080e-01, -0.0000e+00],\n",
       "         [ 0.0000e+00,  0.0000e+00, -6.6150e-01]],\n",
       " \n",
       "        [[ 2.4600e-02,  1.1567e+00, -0.0000e+00],\n",
       "         [ 0.0000e+00,  0.0000e+00, -2.7320e-01]],\n",
       " \n",
       "        [[ 1.4840e-01,  0.0000e+00, -0.0000e+00],\n",
       "         [ 0.0000e+00,  1.0552e+00, -3.0650e-01]],\n",
       " \n",
       "        [[ 2.9040e-01,  0.0000e+00, -0.0000e+00],\n",
       "         [ 0.0000e+00,  4.8600e-02, -6.3750e-01]],\n",
       " \n",
       "        [[ 0.0000e+00,  0.0000e+00, -0.0000e+00],\n",
       "         [ 0.0000e+00,  0.0000e+00, -2.0000e-04]],\n",
       " \n",
       "        [[ 0.0000e+00,  0.0000e+00, -0.0000e+00],\n",
       "         [ 5.7220e-01,  4.9000e-03, -1.8390e-01]],\n",
       " \n",
       "        [[ 0.0000e+00,  6.2220e-01, -0.0000e+00],\n",
       "         [ 2.6670e-01,  0.0000e+00, -4.5000e-03]],\n",
       " \n",
       "        [[ 9.1050e-01,  0.0000e+00, -0.0000e+00],\n",
       "         [ 0.0000e+00,  3.9000e-03, -6.5560e-01]]]), (10, 2, 3))"
      ]
     },
     "execution_count": 11,
     "metadata": {},
     "output_type": "execute_result"
    }
   ],
   "source": [
    "PF1,PF1.shape"
   ]
  },
  {
   "cell_type": "code",
   "execution_count": 12,
   "metadata": {},
   "outputs": [],
   "source": [
    "H2_PF1 = np.zeros((5,2,3)) \n",
    "for i in range(5): \n",
    "    H2_PF1[i]= PF1[i] * decompose(W2)[1][0][i]\n",
    "H2_PG1 = np.zeros((5,2,3)) \n",
    "for i in range(5): \n",
    "    H2_PG1[i]= PG1[i] * decompose(W2)[0][0][i]\n",
    "G2_PF1 = np.zeros((5,2,3)) \n",
    "for i in range(5): \n",
    "    G2_PF1[i]= PF1[i] * decompose(W2)[0][0][i]\n",
    "G2_PG1 = np.zeros((5,2,3)) \n",
    "for i in range(5): \n",
    "    G2_PG1[i]= PG1[i] * decompose(W2)[1][0][i]"
   ]
  },
  {
   "cell_type": "code",
   "execution_count": 13,
   "metadata": {},
   "outputs": [
    {
     "name": "stdout",
     "output_type": "stream",
     "text": [
      "g 1 0.3919\n",
      "g 2 0.1595\n",
      "g 3 0.2631\n",
      "g 4 0.8702\n",
      "g 5 0.76049995\n"
     ]
    }
   ],
   "source": [
    "H2 = []\n",
    "for i in range(5):\n",
    "    if decompose(W2)[1][0][i] !=0:\n",
    "        H2.append(PF1[i] * decompose(W2)[1][0][i])\n",
    "        print('f',i+1,decompose(W2)[1][0][i])\n",
    "    else:\n",
    "        H2.append(PG1[i] * decompose(W2)[0][0][i])\n",
    "        print('g',i+1,decompose(W2)[0][0][i])"
   ]
  },
  {
   "cell_type": "code",
   "execution_count": 14,
   "metadata": {},
   "outputs": [
    {
     "name": "stdout",
     "output_type": "stream",
     "text": [
      "f 1 0.3919\n",
      "f 2 0.1595\n",
      "f 3 0.2631\n",
      "f 4 0.8702\n",
      "f 5 0.76049995\n"
     ]
    }
   ],
   "source": [
    "G2 = []\n",
    "for i in range(5):\n",
    "    if decompose(W2)[1][0][i] !=0:\n",
    "        G2.append(PG1[i] * decompose(W2)[1][0][i])\n",
    "        print('g',i+1,decompose(W2)[1][0][i])\n",
    "    else:\n",
    "        G2.append(PF1[i] * decompose(W2)[0][0][i])\n",
    "        print('f',i+1,decompose(W2)[0][0][i])"
   ]
  },
  {
   "cell_type": "code",
   "execution_count": 15,
   "metadata": {},
   "outputs": [],
   "source": [
    "def Mink(l):\n",
    "    a = sep(l[0])\n",
    "    liste = l[1:]\n",
    "    t = len(a)\n",
    "    for i in liste:\n",
    "        print(t,'t')\n",
    "        if len(i.shape) == 1:\n",
    "            print('loop 1')\n",
    "            p=[]\n",
    "            for j in a:\n",
    "                p.append(j+i)\n",
    "                \n",
    "            a = p[:]    \n",
    "        else:\n",
    "            print('loop 2')\n",
    "            p = []\n",
    "            t = t*i.shape[0]\n",
    "            for k in range(i.shape[0]):\n",
    "                for j in a:\n",
    "                    p.append(j+i[k])\n",
    "            \n",
    "            a = p[:] \n",
    "        \n",
    "    print(len(a),t)\n",
    "                \n",
    "    return a\n",
    "            \n"
   ]
  },
  {
   "cell_type": "code",
   "execution_count": 16,
   "metadata": {},
   "outputs": [],
   "source": [
    "def clean(l):\n",
    "    a=[]\n",
    "    for i in l:\n",
    "        if np.count_nonzero(i)>0:\n",
    "            a.append(i)\n",
    "            \n",
    "    return a\n",
    "            \n"
   ]
  },
  {
   "cell_type": "code",
   "execution_count": 17,
   "metadata": {},
   "outputs": [],
   "source": [
    "def sep(el):\n",
    "    a=[]\n",
    "    if len(el.shape)==1:\n",
    "        return [el]\n",
    "    else :\n",
    "        for k in range(el.shape[0]):\n",
    "            a.append(el[k])\n",
    "        return a\n",
    "            \n",
    "        \n",
    "    "
   ]
  },
  {
   "cell_type": "code",
   "execution_count": 18,
   "metadata": {},
   "outputs": [
    {
     "name": "stdout",
     "output_type": "stream",
     "text": [
      "2 t\n",
      "loop 2\n",
      "4 t\n",
      "loop 2\n",
      "8 t\n",
      "loop 2\n",
      "16 t\n",
      "loop 2\n",
      "32 32\n"
     ]
    },
    {
     "data": {
      "text/plain": [
       "[array([ 0.27212086,  1.08126972, -0.        ]),\n",
       " array([ 0.74502659,  1.26820602, -0.0387981 ]),\n",
       " array([ 0.14860406,  1.07517682, -0.0209583 ]),\n",
       " array([ 0.62150979,  1.26211312, -0.0597564 ]),\n",
       " array([ 0.25778191,  1.01265324, -0.17404065]),\n",
       " array([ 0.73068764,  1.19958954, -0.21283875]),\n",
       " array([ 0.13426511,  1.00656034, -0.19499895]),\n",
       " array([ 0.60717084,  1.19349664, -0.23379705]),\n",
       " array([ 0.25071394,  0.07470938, -0.23773864]),\n",
       " array([ 0.72361967,  0.26164568, -0.27653674]),\n",
       " array([ 0.12719714,  0.06861648, -0.25869694]),\n",
       " array([ 0.60010287,  0.25555278, -0.29749504]),\n",
       " array([ 0.23637499,  0.0060929 , -0.41177929]),\n",
       " array([ 0.70928072,  0.1930292 , -0.45057739]),\n",
       " array([ 0.11285819,  0.        , -0.43273759]),\n",
       " array([ 0.58576392,  0.1869363 , -0.47153569]),\n",
       " array([ 0.15926267,  1.88374927, -0.23309323]),\n",
       " array([ 0.6321684 ,  2.07068557, -0.27189133]),\n",
       " array([ 0.03574587,  1.87765637, -0.25405153]),\n",
       " array([ 0.5086516 ,  2.06459267, -0.29284963]),\n",
       " array([ 0.14492372,  1.81513279, -0.40713388]),\n",
       " array([ 0.61782945,  2.00206909, -0.44593198]),\n",
       " array([ 0.02140692,  1.80903989, -0.42809218]),\n",
       " array([ 0.49431265,  1.99597619, -0.46689028]),\n",
       " array([ 0.13785575,  0.87718893, -0.47083187]),\n",
       " array([ 0.61076148,  1.06412523, -0.50962997]),\n",
       " array([ 0.01433895,  0.87109603, -0.49179017]),\n",
       " array([ 0.48724468,  1.05803233, -0.53058827]),\n",
       " array([ 0.1235168 ,  0.80857245, -0.64487252]),\n",
       " array([ 0.59642253,  0.99550875, -0.68367062]),\n",
       " array([ 0.        ,  0.80247955, -0.66583082]),\n",
       " array([ 0.47290573,  0.98941585, -0.70462892])]"
      ]
     },
     "execution_count": 18,
     "metadata": {},
     "output_type": "execute_result"
    }
   ],
   "source": [
    "Mink(clean(G2))"
   ]
  },
  {
   "cell_type": "code",
   "execution_count": 19,
   "metadata": {},
   "outputs": [
    {
     "name": "stdout",
     "output_type": "stream",
     "text": [
      "1 t\n",
      "loop 1\n",
      "1 t\n",
      "loop 1\n",
      "1 t\n",
      "loop 1\n",
      "1 1\n"
     ]
    },
    {
     "data": {
      "text/plain": [
       "[array([ 0.27212086,  1.08126972, -0.        ])]"
      ]
     },
     "execution_count": 19,
     "metadata": {},
     "output_type": "execute_result"
    }
   ],
   "source": [
    "Mink(clean(H2))"
   ]
  },
  {
   "cell_type": "code",
   "execution_count": 20,
   "metadata": {},
   "outputs": [
    {
     "name": "stdout",
     "output_type": "stream",
     "text": [
      "1 t\n",
      "loop 1\n",
      "1 t\n",
      "loop 1\n",
      "1 t\n",
      "loop 1\n",
      "1 1\n",
      "2 t\n",
      "loop 2\n",
      "4 t\n",
      "loop 2\n",
      "8 t\n",
      "loop 2\n",
      "16 t\n",
      "loop 2\n",
      "32 32\n"
     ]
    },
    {
     "data": {
      "text/plain": [
       "[array([ 0.27212086,  1.08126972, -0.        ]),\n",
       " array([ 0.27212086,  1.08126972, -0.        ]),\n",
       " array([ 0.74502659,  1.26820602, -0.0387981 ]),\n",
       " array([ 0.14860406,  1.07517682, -0.0209583 ]),\n",
       " array([ 0.62150979,  1.26211312, -0.0597564 ]),\n",
       " array([ 0.25778191,  1.01265324, -0.17404065]),\n",
       " array([ 0.73068764,  1.19958954, -0.21283875]),\n",
       " array([ 0.13426511,  1.00656034, -0.19499895]),\n",
       " array([ 0.60717084,  1.19349664, -0.23379705]),\n",
       " array([ 0.25071394,  0.07470938, -0.23773864]),\n",
       " array([ 0.72361967,  0.26164568, -0.27653674]),\n",
       " array([ 0.12719714,  0.06861648, -0.25869694]),\n",
       " array([ 0.60010287,  0.25555278, -0.29749504]),\n",
       " array([ 0.23637499,  0.0060929 , -0.41177929]),\n",
       " array([ 0.70928072,  0.1930292 , -0.45057739]),\n",
       " array([ 0.11285819,  0.        , -0.43273759]),\n",
       " array([ 0.58576392,  0.1869363 , -0.47153569]),\n",
       " array([ 0.15926267,  1.88374927, -0.23309323]),\n",
       " array([ 0.6321684 ,  2.07068557, -0.27189133]),\n",
       " array([ 0.03574587,  1.87765637, -0.25405153]),\n",
       " array([ 0.5086516 ,  2.06459267, -0.29284963]),\n",
       " array([ 0.14492372,  1.81513279, -0.40713388]),\n",
       " array([ 0.61782945,  2.00206909, -0.44593198]),\n",
       " array([ 0.02140692,  1.80903989, -0.42809218]),\n",
       " array([ 0.49431265,  1.99597619, -0.46689028]),\n",
       " array([ 0.13785575,  0.87718893, -0.47083187]),\n",
       " array([ 0.61076148,  1.06412523, -0.50962997]),\n",
       " array([ 0.01433895,  0.87109603, -0.49179017]),\n",
       " array([ 0.48724468,  1.05803233, -0.53058827]),\n",
       " array([ 0.1235168 ,  0.80857245, -0.64487252]),\n",
       " array([ 0.59642253,  0.99550875, -0.68367062]),\n",
       " array([ 0.        ,  0.80247955, -0.66583082]),\n",
       " array([ 0.47290573,  0.98941585, -0.70462892])]"
      ]
     },
     "execution_count": 20,
     "metadata": {},
     "output_type": "execute_result"
    }
   ],
   "source": [
    "F2 = Mink(clean(H2))+ Mink(clean(G2))\n",
    "F2"
   ]
  },
  {
   "cell_type": "code",
   "execution_count": 21,
   "metadata": {},
   "outputs": [
    {
     "data": {
      "text/plain": [
       "(array([[ 0.48724468,  1.05803233, -0.53058827],\n",
       "        [ 0.03574587,  1.87765637, -0.25405153],\n",
       "        [ 0.62150979,  1.26211312, -0.0597564 ],\n",
       "        [ 0.01433895,  0.87109603, -0.49179017],\n",
       "        [ 0.6321684 ,  2.07068557, -0.27189133],\n",
       "        [ 0.5086516 ,  2.06459267, -0.29284963],\n",
       "        [ 0.61782945,  2.00206909, -0.44593198],\n",
       "        [ 0.49431265,  1.99597619, -0.46689028],\n",
       "        [ 0.12719714,  0.06861648, -0.25869694],\n",
       "        [ 0.1235168 ,  0.80857245, -0.64487252],\n",
       "        [ 0.27212086,  1.08126972, -0.        ],\n",
       "        [ 0.25778191,  1.01265324, -0.17404065],\n",
       "        [ 0.73068764,  1.19958954, -0.21283875],\n",
       "        [ 0.15926267,  1.88374927, -0.23309323],\n",
       "        [ 0.14492372,  1.81513279, -0.40713388],\n",
       "        [ 0.61076148,  1.06412523, -0.50962997],\n",
       "        [ 0.74502659,  1.26820602, -0.0387981 ],\n",
       "        [ 0.23637499,  0.0060929 , -0.41177929],\n",
       "        [ 0.02140692,  1.80903989, -0.42809218],\n",
       "        [ 0.25071394,  0.07470938, -0.23773864],\n",
       "        [ 0.72361967,  0.26164568, -0.27653674],\n",
       "        [ 0.60010287,  0.25555278, -0.29749504],\n",
       "        [ 0.70928072,  0.1930292 , -0.45057739],\n",
       "        [ 0.58576392,  0.1869363 , -0.47153569],\n",
       "        [ 0.13785575,  0.87718893, -0.47083187],\n",
       "        [ 0.59642253,  0.99550875, -0.68367062],\n",
       "        [ 0.14860406,  1.07517682, -0.0209583 ],\n",
       "        [ 0.        ,  0.80247955, -0.66583082],\n",
       "        [ 0.47290573,  0.98941585, -0.70462892],\n",
       "        [ 0.13426511,  1.00656034, -0.19499895],\n",
       "        [ 0.11285819,  0.        , -0.43273759],\n",
       "        [ 0.60717084,  1.19349664, -0.23379705]]), (32, 3))"
      ]
     },
     "execution_count": 21,
     "metadata": {},
     "output_type": "execute_result"
    }
   ],
   "source": [
    "tupled_lst = set(map(tuple, F2))\n",
    "lst = map(list, tupled_lst)\n",
    "FF = list(set(map(tuple, F2)))\n",
    "f3 = np.zeros((len(FF),3))\n",
    "for i in range(len(FF)):\n",
    "    f3[i,0]=FF[i][0]\n",
    "    f3[i,1]=FF[i][1]\n",
    "    f3[i,2]=FF[i][2]\n",
    "f3,f3.shape"
   ]
  },
  {
   "cell_type": "code",
   "execution_count": 22,
   "metadata": {},
   "outputs": [],
   "source": [
    "hull = ConvexHull(f3)"
   ]
  },
  {
   "cell_type": "code",
   "execution_count": 23,
   "metadata": {},
   "outputs": [
    {
     "data": {
      "text/plain": [
       "array([[ 3,  8, 30],\n",
       "       [ 3, 30, 27],\n",
       "       [26, 19,  8],\n",
       "       [26, 19, 10],\n",
       "       [26,  3,  8],\n",
       "       [26,  3,  1],\n",
       "       [13, 26,  1],\n",
       "       [13, 26, 10],\n",
       "       [23, 28, 27],\n",
       "       [23, 30, 27],\n",
       "       [18,  3,  1],\n",
       "       [18,  3, 27],\n",
       "       [17, 23, 30],\n",
       "       [17, 23, 22],\n",
       "       [17,  8, 30],\n",
       "       [17, 19,  8],\n",
       "       [20, 19, 10],\n",
       "       [20, 10, 16],\n",
       "       [20, 17, 22],\n",
       "       [20, 17, 19],\n",
       "       [ 4, 13, 10],\n",
       "       [ 4, 10, 16],\n",
       "       [ 4, 13,  1],\n",
       "       [ 4,  1,  5],\n",
       "       [12, 20, 16],\n",
       "       [12, 20, 22],\n",
       "       [12,  4, 16],\n",
       "       [12,  4,  6],\n",
       "       [25, 23, 28],\n",
       "       [25, 23, 22],\n",
       "       [25, 12, 22],\n",
       "       [25, 12,  6],\n",
       "       [ 7, 28, 27],\n",
       "       [ 7, 18, 27],\n",
       "       [ 7, 25, 28],\n",
       "       [ 7, 25,  6],\n",
       "       [ 7, 18,  1],\n",
       "       [ 7,  1,  5],\n",
       "       [ 7,  4,  5],\n",
       "       [ 7,  4,  6]], dtype=int32)"
      ]
     },
     "execution_count": 23,
     "metadata": {},
     "output_type": "execute_result"
    }
   ],
   "source": [
    "hull.simplices"
   ]
  },
  {
   "cell_type": "code",
   "execution_count": 24,
   "metadata": {},
   "outputs": [
    {
     "data": {
      "text/plain": [
       "array([[ 0.03574587,  1.87765637, -0.25405153],\n",
       "       [ 0.01433895,  0.87109603, -0.49179017],\n",
       "       [ 0.6321684 ,  2.07068557, -0.27189133],\n",
       "       [ 0.5086516 ,  2.06459267, -0.29284963],\n",
       "       [ 0.61782945,  2.00206909, -0.44593198],\n",
       "       [ 0.49431265,  1.99597619, -0.46689028],\n",
       "       [ 0.12719714,  0.06861648, -0.25869694],\n",
       "       [ 0.27212086,  1.08126972, -0.        ],\n",
       "       [ 0.73068764,  1.19958954, -0.21283875],\n",
       "       [ 0.15926267,  1.88374927, -0.23309323],\n",
       "       [ 0.74502659,  1.26820602, -0.0387981 ],\n",
       "       [ 0.23637499,  0.0060929 , -0.41177929],\n",
       "       [ 0.02140692,  1.80903989, -0.42809218],\n",
       "       [ 0.25071394,  0.07470938, -0.23773864],\n",
       "       [ 0.72361967,  0.26164568, -0.27653674],\n",
       "       [ 0.70928072,  0.1930292 , -0.45057739],\n",
       "       [ 0.58576392,  0.1869363 , -0.47153569],\n",
       "       [ 0.59642253,  0.99550875, -0.68367062],\n",
       "       [ 0.14860406,  1.07517682, -0.0209583 ],\n",
       "       [ 0.        ,  0.80247955, -0.66583082],\n",
       "       [ 0.47290573,  0.98941585, -0.70462892],\n",
       "       [ 0.11285819,  0.        , -0.43273759]])"
      ]
     },
     "execution_count": 24,
     "metadata": {},
     "output_type": "execute_result"
    }
   ],
   "source": [
    "p2 = f3[list(hull.vertices)]\n",
    "p2"
   ]
  },
  {
   "cell_type": "code",
   "execution_count": 25,
   "metadata": {},
   "outputs": [],
   "source": [
    "p = np.array([[ 4.,  7.,  0.],\n",
    "       [ 6.,  5., -0.],\n",
    "       [ 1.,  3.,  0.],])\n",
    "\n",
    "t = np.array([[ 4.,  7.,  1.],\n",
    "       [ 6.,  5., 1.],\n",
    "       [ 1.,  3.,  1.]])"
   ]
  },
  {
   "cell_type": "code",
   "execution_count": 26,
   "metadata": {},
   "outputs": [
    {
     "data": {
      "image/png": "[encoded data removed]",
      "text/plain": [
       "<Figure size 432x288 with 1 Axes>"
      ]
     },
     "metadata": {
      "needs_background": "light"
     },
     "output_type": "display_data"
    }
   ],
   "source": [
    "fig = plt.figure() # For plotting\n",
    "ax = fig.add_subplot(111, projection='3d')\n",
    "ax.plot_trisurf(p[:,0], p[:,1], p[:,2],cmap='viridis', linewidth=0.3)\n",
    "ax.plot_trisurf(t[:,0], t[:,1], t[:,2],cmap='viridis', linewidth=0.3)\n",
    "\n",
    "#ax.view_init(elev=0, azim=100)\n",
    "fig.tight_layout()"
   ]
  },
  {
   "cell_type": "code",
   "execution_count": 27,
   "metadata": {},
   "outputs": [
    {
     "data": {
      "text/plain": [
       "array([[ 3,  8, 30],\n",
       "       [ 3, 30, 27],\n",
       "       [26, 19,  8],\n",
       "       [26, 19, 10],\n",
       "       [26,  3,  8],\n",
       "       [26,  3,  1],\n",
       "       [13, 26,  1],\n",
       "       [13, 26, 10],\n",
       "       [23, 28, 27],\n",
       "       [23, 30, 27],\n",
       "       [18,  3,  1],\n",
       "       [18,  3, 27],\n",
       "       [17, 23, 30],\n",
       "       [17, 23, 22],\n",
       "       [17,  8, 30],\n",
       "       [17, 19,  8],\n",
       "       [20, 19, 10],\n",
       "       [20, 10, 16],\n",
       "       [20, 17, 22],\n",
       "       [20, 17, 19],\n",
       "       [ 4, 13, 10],\n",
       "       [ 4, 10, 16],\n",
       "       [ 4, 13,  1],\n",
       "       [ 4,  1,  5],\n",
       "       [12, 20, 16],\n",
       "       [12, 20, 22],\n",
       "       [12,  4, 16],\n",
       "       [12,  4,  6],\n",
       "       [25, 23, 28],\n",
       "       [25, 23, 22],\n",
       "       [25, 12, 22],\n",
       "       [25, 12,  6],\n",
       "       [ 7, 28, 27],\n",
       "       [ 7, 18, 27],\n",
       "       [ 7, 25, 28],\n",
       "       [ 7, 25,  6],\n",
       "       [ 7, 18,  1],\n",
       "       [ 7,  1,  5],\n",
       "       [ 7,  4,  5],\n",
       "       [ 7,  4,  6]], dtype=int32)"
      ]
     },
     "execution_count": 27,
     "metadata": {},
     "output_type": "execute_result"
    }
   ],
   "source": [
    "hull.simplices"
   ]
  },
  {
   "cell_type": "code",
   "execution_count": 40,
   "metadata": {},
   "outputs": [],
   "source": [
    "def hyp(simplices,points):\n",
    "    \n",
    "    e = [ppp(f3,i)*1 for i in range(simplices.shape[0])]\n",
    "    c=0\n",
    "    for s in simplices:\n",
    "        p = list(s)\n",
    "        p.append(s[0])\n",
    "        #if a[c]==0:\n",
    "        #if d[c]==1:\n",
    "        if e[c]==1:\n",
    "            for k in range(3):\n",
    "                x=[points[p[k]][0],points[p[k+1]][0]]\n",
    "                y=[points[p[k]][1],points[p[k+1]][1]]\n",
    "                plt.plot(x,y,marker = 'o')\n",
    "        c+=1\n",
    "    plt.xlim(-2,2.5)\n",
    "    plt.ylim(-2,2.5)\n",
    "    plt.show()\n",
    "        "
   ]
  },
  {
   "cell_type": "code",
   "execution_count": 41,
   "metadata": {},
   "outputs": [],
   "source": [
    "def ppp(f,i):\n",
    "    l = np.zeros((f.shape[0]+1,f.shape[1]))\n",
    "    a = ConvexHull(f)\n",
    "    b = f[a.simplices[i]]\n",
    "    c = np.mean(b,axis=0)\n",
    "    d = np.cross(b[1]-b[0],b[2]-b[0])\n",
    "    \n",
    "    for k in range(f.shape[0]):\n",
    "        l[k]=f[k]\n",
    "    l[-1]=c + 0.001*d\n",
    "    \n",
    "    e = ConvexHull(l)\n",
    "    g = f.shape[0] in list(e.vertices)\n",
    "    gg = d[2]>0\n",
    "    \n",
    "    if gg + g ==2 or gg+g == 0:\n",
    "        return True\n",
    "    return False"
   ]
  },
  {
   "cell_type": "code",
   "execution_count": 42,
   "metadata": {},
   "outputs": [
    {
     "data": {
      "image/png": "[encoded data removed]",
      "text/plain": [
       "<Figure size 432x288 with 1 Axes>"
      ]
     },
     "metadata": {
      "needs_background": "light"
     },
     "output_type": "display_data"
    }
   ],
   "source": [
    "hyp(hull.simplices,f3)\n"
   ]
  },
  {
   "cell_type": "code",
   "execution_count": 43,
   "metadata": {},
   "outputs": [
    {
     "data": {
      "text/plain": [
       "(40, 3)"
      ]
     },
     "execution_count": 43,
     "metadata": {},
     "output_type": "execute_result"
    }
   ],
   "source": [
    "hull.simplices.shape"
   ]
  },
  {
   "cell_type": "markdown",
   "metadata": {},
   "source": []
  },
  {
   "cell_type": "code",
   "execution_count": 44,
   "metadata": {},
   "outputs": [
    {
     "name": "stdout",
     "output_type": "stream",
     "text": [
      "2 t\n",
      "loop 2\n",
      "4 t\n",
      "loop 2\n",
      "8 t\n",
      "loop 2\n",
      "16 t\n",
      "loop 2\n",
      "32 32\n"
     ]
    },
    {
     "data": {
      "text/plain": [
       "(array([[ 0.48724468,  1.05803233, -0.53058827],\n",
       "        [ 0.03574587,  1.87765637, -0.25405153],\n",
       "        [ 0.62150979,  1.26211312, -0.0597564 ],\n",
       "        [ 0.01433895,  0.87109603, -0.49179017],\n",
       "        [ 0.6321684 ,  2.07068557, -0.27189133],\n",
       "        [ 0.5086516 ,  2.06459267, -0.29284963],\n",
       "        [ 0.61782945,  2.00206909, -0.44593198],\n",
       "        [ 0.49431265,  1.99597619, -0.46689028],\n",
       "        [ 0.12719714,  0.06861648, -0.25869694],\n",
       "        [ 0.1235168 ,  0.80857245, -0.64487252],\n",
       "        [ 0.27212086,  1.08126972, -0.        ],\n",
       "        [ 0.25778191,  1.01265324, -0.17404065],\n",
       "        [ 0.73068764,  1.19958954, -0.21283875],\n",
       "        [ 0.15926267,  1.88374927, -0.23309323],\n",
       "        [ 0.14492372,  1.81513279, -0.40713388],\n",
       "        [ 0.61076148,  1.06412523, -0.50962997],\n",
       "        [ 0.74502659,  1.26820602, -0.0387981 ],\n",
       "        [ 0.23637499,  0.0060929 , -0.41177929],\n",
       "        [ 0.02140692,  1.80903989, -0.42809218],\n",
       "        [ 0.25071394,  0.07470938, -0.23773864],\n",
       "        [ 0.72361967,  0.26164568, -0.27653674],\n",
       "        [ 0.60010287,  0.25555278, -0.29749504],\n",
       "        [ 0.70928072,  0.1930292 , -0.45057739],\n",
       "        [ 0.58576392,  0.1869363 , -0.47153569],\n",
       "        [ 0.13785575,  0.87718893, -0.47083187],\n",
       "        [ 0.59642253,  0.99550875, -0.68367062],\n",
       "        [ 0.14860406,  1.07517682, -0.0209583 ],\n",
       "        [ 0.        ,  0.80247955, -0.66583082],\n",
       "        [ 0.47290573,  0.98941585, -0.70462892],\n",
       "        [ 0.13426511,  1.00656034, -0.19499895],\n",
       "        [ 0.11285819,  0.        , -0.43273759],\n",
       "        [ 0.60717084,  1.19349664, -0.23379705]]), (32, 3))"
      ]
     },
     "execution_count": 44,
     "metadata": {},
     "output_type": "execute_result"
    }
   ],
   "source": [
    "FF = list(set(map(tuple,  Mink(clean(G2)))))\n",
    "g3 = np.zeros((len(FF),3))\n",
    "for i in range(len(FF)):\n",
    "    g3[i,0]=FF[i][0]\n",
    "    g3[i,1]=FF[i][1]\n",
    "    g3[i,2]=FF[i][2]\n",
    "g3,g3.shape"
   ]
  },
  {
   "cell_type": "code",
   "execution_count": 45,
   "metadata": {},
   "outputs": [
    {
     "name": "stdout",
     "output_type": "stream",
     "text": [
      "1 t\n",
      "loop 1\n",
      "1 t\n",
      "loop 1\n",
      "1 t\n",
      "loop 1\n",
      "1 1\n"
     ]
    },
    {
     "data": {
      "text/plain": [
       "(array([[ 0.27212086,  1.08126972, -0.        ]]), (1, 3))"
      ]
     },
     "execution_count": 45,
     "metadata": {},
     "output_type": "execute_result"
    }
   ],
   "source": [
    "FF = list(set(map(tuple,  Mink(clean(H2)))))\n",
    "h3 = np.zeros((len(FF),3))\n",
    "for i in range(len(FF)):\n",
    "    h3[i,0]=FF[i][0]\n",
    "    h3[i,1]=FF[i][1]\n",
    "    h3[i,2]=FF[i][2]\n",
    "h3,h3.shape"
   ]
  },
  {
   "cell_type": "code",
   "execution_count": 54,
   "metadata": {},
   "outputs": [],
   "source": [
    "g3g = ConvexHull(g3)"
   ]
  },
  {
   "cell_type": "code",
   "execution_count": 57,
   "metadata": {},
   "outputs": [],
   "source": [
    "import mpl_toolkits.mplot3d as a3"
   ]
  },
  {
   "cell_type": "code",
   "execution_count": 59,
   "metadata": {},
   "outputs": [
    {
     "data": {
      "image/png": "[encoded data removed]",
      "text/plain": [
       "<Figure size 432x288 with 1 Axes>"
      ]
     },
     "metadata": {
      "needs_background": "light"
     },
     "output_type": "display_data"
    }
   ],
   "source": [
    "import matplotlib.colors as colors\n",
    "import pylab as pl\n",
    "import scipy as sp\n",
    "\n",
    "min_=np.min(f3,axis=0)\n",
    "max_=np.max(f3,axis=0)\n",
    "ax = a3.Axes3D(pl.figure())\n",
    "for s in hull.simplices:\n",
    "    p2 = f3[s]\n",
    "    tri = a3.art3d.Poly3DCollection([p2])\n",
    "    tri.set_color(colors.rgb2hex(sp.rand(3)))\n",
    "    tri.set_edgecolor('k')\n",
    "    ax.add_collection3d(tri)\n",
    "ax.set_xlim3d(min_[0], max_[0])\n",
    "ax.set_ylim3d(min_[1],max_[1])\n",
    "ax.set_zlim3d(min_[2],max_[2])\n",
    "ax.view_init(elev=-20, azim=60)\n",
    "pl.show()"
   ]
  },
  {
   "cell_type": "code",
   "execution_count": 60,
   "metadata": {},
   "outputs": [
    {
     "data": {
      "image/png": "[encoded data removed]",
      "text/plain": [
       "<Figure size 432x288 with 1 Axes>"
      ]
     },
     "metadata": {
      "needs_background": "light"
     },
     "output_type": "display_data"
    }
   ],
   "source": [
    "import matplotlib.colors as colors\n",
    "import pylab as pl\n",
    "import scipy as sp\n",
    "\n",
    "min_=np.min(g3,axis=0)\n",
    "max_=np.max(g3,axis=0)\n",
    "ax = a3.Axes3D(pl.figure())\n",
    "\n",
    "p2 = g3[np.array([0,1,2])]\n",
    "tri = a3.art3d.Poly3DCollection([p2])\n",
    "tri.set_color(colors.rgb2hex(sp.rand(3)))\n",
    "tri.set_edgecolor('k')\n",
    "ax.add_collection3d(tri)\n",
    "\n",
    "p2 = g3[np.array([1,2,3])]\n",
    "tri = a3.art3d.Poly3DCollection([p2])\n",
    "tri.set_color(colors.rgb2hex(sp.rand(3)))\n",
    "tri.set_edgecolor('k')\n",
    "ax.add_collection3d(tri)\n",
    "\n",
    "p2 = g3[np.array([2,3,0])]\n",
    "tri = a3.art3d.Poly3DCollection([p2])\n",
    "tri.set_color(colors.rgb2hex(sp.rand(3)))\n",
    "tri.set_edgecolor('k')\n",
    "ax.add_collection3d(tri)\n",
    "\n",
    "p2 = g3[np.array([3,0,1])]\n",
    "tri = a3.art3d.Poly3DCollection([p2])\n",
    "tri.set_color(colors.rgb2hex(sp.rand(3)))\n",
    "tri.set_edgecolor('k')\n",
    "ax.add_collection3d(tri)\n",
    "\n",
    "ax.set_xlim3d(min_[0], max_[0])\n",
    "ax.set_ylim3d(min_[1],max_[1])\n",
    "ax.set_zlim3d(min_[2],max_[2])\n",
    "ax.view_init(elev=20, azim=60)\n",
    "pl.show()"
   ]
  },
  {
   "cell_type": "code",
   "execution_count": null,
   "metadata": {},
   "outputs": [],
   "source": []
  }
 ],
 "metadata": {
  "kernelspec": {
   "display_name": "Python 3",
   "language": "python",
   "name": "python3"
  },
  "language_info": {
   "codemirror_mode": {
    "name": "ipython",
    "version": 3
   },
   "file_extension": ".py",
   "mimetype": "text/x-python",
   "name": "python",
   "nbconvert_exporter": "python",
   "pygments_lexer": "ipython3",
   "version": "3.7.3"
  }
 },
 "nbformat": 4,
 "nbformat_minor": 2
}
