{
 "cells": [
  {
   "cell_type": "code",
   "execution_count": 335,
   "metadata": {},
   "outputs": [],
   "source": [
    "import matplotlib.pyplot as plt\n",
    "import numpy as np\n",
    "import seaborn as sns\n",
    "sns.set()"
   ]
  },
  {
   "cell_type": "markdown",
   "metadata": {},
   "source": [
    "Supposons un reseau simple : de type one_net d architecture 2 5 1\n",
    "avec une activation relu : 2 5 (relu) 1 (relu)"
   ]
  },
  {
   "cell_type": "code",
   "execution_count": 336,
   "metadata": {},
   "outputs": [],
   "source": [
    "#W1 = np.array([[2,0,-3,-1,2],[-1,0,2,1,-2]]).T\n",
    "W1 = np.array([[-1,1,1,-4,3],[1,-3,2,1,2]]).T\n",
    "W1\n"
   ]
  },
  {
   "cell_type": "code",
   "execution_count": 338,
   "metadata": {},
   "outputs": [],
   "source": [
    "#b1 = np.array([2,0,-3,+4,2]).reshape(5,1)\n",
    "b1 = np.array([1,-1,2,0,-2]).reshape(5,1)"
   ]
  },
  {
   "cell_type": "code",
   "execution_count": 4,
   "metadata": {},
   "outputs": [
    {
     "data": {
      "text/plain": [
       "array([[ 1,  2,  1, -1, -3]])"
      ]
     },
     "execution_count": 4,
     "metadata": {},
     "output_type": "execute_result"
    }
   ],
   "source": [
    "#W2= np.array([-1,-2,0,1,3]).reshape(1,-1)\n",
    "W2= np.array([1,2,1,-1,-3]).reshape(1,-1)\n",
    "W2"
   ]
  },
  {
   "cell_type": "code",
   "execution_count": 5,
   "metadata": {},
   "outputs": [
    {
     "data": {
      "text/plain": [
       "array([0])"
      ]
     },
     "execution_count": 5,
     "metadata": {},
     "output_type": "execute_result"
    }
   ],
   "source": [
    "#b2 = np.array([2])\n",
    "b2 = np.array([0])\n",
    "b2"
   ]
  },
  {
   "cell_type": "code",
   "execution_count": 6,
   "metadata": {},
   "outputs": [],
   "source": [
    "def decompose(w):\n",
    "    return (w+abs(w))/2,(-w+abs(w))/2\n",
    "def G1(x):\n",
    "    return decompose(W1)[1].dot(x)\n",
    "def H1(x):\n",
    "    return decompose(W1)[0].dot(x)+b1\n",
    "def F1(x):\n",
    "    return np.maximum(G1(x),H1(x))\n",
    "def NU1(x):\n",
    "    return F1(x)-G(x)"
   ]
  },
  {
   "cell_type": "code",
   "execution_count": 7,
   "metadata": {},
   "outputs": [],
   "source": [
    "PG1 = np.concatenate((decompose(W1)[1],0*b1.reshape(-1,1)),axis=1)\n",
    "PH1 = np.concatenate((decompose(W1)[0],b1.reshape(-1,1)),axis=1)\n",
    "PF1 = np.stack((PG1,PH1),axis=1)"
   ]
  },
  {
   "cell_type": "code",
   "execution_count": 8,
   "metadata": {},
   "outputs": [
    {
     "data": {
      "text/plain": [
       "(array([[[ 1.,  0.,  0.],\n",
       "         [ 0.,  1.,  1.]],\n",
       " \n",
       "        [[ 0.,  3.,  0.],\n",
       "         [ 1.,  0., -1.]],\n",
       " \n",
       "        [[ 0.,  0.,  0.],\n",
       "         [ 1.,  2.,  2.]],\n",
       " \n",
       "        [[ 4.,  0.,  0.],\n",
       "         [ 0.,  1.,  0.]],\n",
       " \n",
       "        [[ 0.,  0.,  0.],\n",
       "         [ 3.,  2., -2.]]]), (5, 2, 3))"
      ]
     },
     "execution_count": 8,
     "metadata": {},
     "output_type": "execute_result"
    }
   ],
   "source": [
    "PF1,PF1.shape"
   ]
  },
  {
   "cell_type": "markdown",
   "metadata": {},
   "source": [
    "ATTENTION : ici PG1_i et PH1_i sont des points et PF1_i un segment"
   ]
  },
  {
   "cell_type": "markdown",
   "metadata": {},
   "source": [
    "deuxieme couche derniere couche, une sortie, c est donc relativement facile"
   ]
  },
  {
   "cell_type": "code",
   "execution_count": 9,
   "metadata": {},
   "outputs": [],
   "source": [
    "H2_PF1 = np.zeros((5,2,3)) \n",
    "for i in range(5): \n",
    "    H2_PF1[i]= PF1[i] * decompose(W2)[1][0][i]\n",
    "H2_PG1 = np.zeros((5,2,3)) \n",
    "for i in range(5): \n",
    "    H2_PG1[i]= PG1[i] * decompose(W2)[0][0][i]\n",
    "G2_PF1 = np.zeros((5,2,3)) \n",
    "for i in range(5): \n",
    "    G2_PF1[i]= PF1[i] * decompose(W2)[0][0][i]\n",
    "G2_PG1 = np.zeros((5,2,3)) \n",
    "for i in range(5): \n",
    "    G2_PG1[i]= PG1[i] * decompose(W2)[1][0][i]"
   ]
  },
  {
   "cell_type": "code",
   "execution_count": 10,
   "metadata": {},
   "outputs": [
    {
     "name": "stdout",
     "output_type": "stream",
     "text": [
      "g 1 1.0\n",
      "g 2 2.0\n",
      "g 3 1.0\n",
      "f 4 1.0\n",
      "f 5 3.0\n"
     ]
    }
   ],
   "source": [
    "H2 = []\n",
    "for i in range(5):\n",
    "    if decompose(W2)[1][0][i] !=0:\n",
    "        H2.append(PF1[i] * decompose(W2)[1][0][i])\n",
    "        print('f',i+1,decompose(W2)[1][0][i])\n",
    "    else:\n",
    "        H2.append(PG1[i] * decompose(W2)[0][0][i])\n",
    "        print('g',i+1,decompose(W2)[0][0][i])"
   ]
  },
  {
   "cell_type": "code",
   "execution_count": 11,
   "metadata": {},
   "outputs": [
    {
     "name": "stdout",
     "output_type": "stream",
     "text": [
      "f 1 1.0\n",
      "f 2 2.0\n",
      "f 3 1.0\n",
      "g 4 1.0\n",
      "g 5 3.0\n"
     ]
    }
   ],
   "source": [
    "G2 = []\n",
    "for i in range(5):\n",
    "    if decompose(W2)[1][0][i] !=0:\n",
    "        G2.append(PG1[i] * decompose(W2)[1][0][i])\n",
    "        print('g',i+1,decompose(W2)[1][0][i])\n",
    "    else:\n",
    "        G2.append(PF1[i] * decompose(W2)[0][0][i])\n",
    "        print('f',i+1,decompose(W2)[0][0][i])"
   ]
  },
  {
   "cell_type": "code",
   "execution_count": 15,
   "metadata": {},
   "outputs": [],
   "source": [
    "def Mink(l):\n",
    "    a = sep(l[0])\n",
    "    liste = l[1:]\n",
    "    t = len(a)\n",
    "    for i in liste:\n",
    "        print(t,'t')\n",
    "        if len(i.shape) == 1:\n",
    "            print('loop 1')\n",
    "            p=[]\n",
    "            for j in a:\n",
    "                p.append(j+i)\n",
    "                \n",
    "            a = p[:]    \n",
    "        else:\n",
    "            print('loop 2')\n",
    "            p = []\n",
    "            t = t*i.shape[0]\n",
    "            for k in range(i.shape[0]):\n",
    "                for j in a:\n",
    "                    p.append(j+i[k])\n",
    "            \n",
    "            a = p[:] \n",
    "        \n",
    "    print(len(a),t)\n",
    "                \n",
    "    return a\n",
    "            \n"
   ]
  },
  {
   "cell_type": "code",
   "execution_count": 16,
   "metadata": {},
   "outputs": [],
   "source": [
    "def clean(l):\n",
    "    a=[]\n",
    "    for i in l:\n",
    "        if np.count_nonzero(i)>0:\n",
    "            a.append(i)\n",
    "            \n",
    "    return a\n",
    "            \n"
   ]
  },
  {
   "cell_type": "code",
   "execution_count": 17,
   "metadata": {},
   "outputs": [],
   "source": [
    "def sep(el):\n",
    "    a=[]\n",
    "    if len(el.shape)==1:\n",
    "        return [el]\n",
    "    else :\n",
    "        for k in range(el.shape[0]):\n",
    "            a.append(el[k])\n",
    "        return a\n",
    "            \n",
    "        \n",
    "    "
   ]
  },
  {
   "cell_type": "code",
   "execution_count": 18,
   "metadata": {},
   "outputs": [
    {
     "name": "stdout",
     "output_type": "stream",
     "text": [
      "2 t\n",
      "loop 2\n",
      "4 t\n",
      "loop 2\n",
      "8 t\n",
      "loop 1\n",
      "8 8\n"
     ]
    },
    {
     "data": {
      "text/plain": [
       "[array([5., 6., 0.]),\n",
       " array([4., 7., 1.]),\n",
       " array([ 7.,  0., -2.]),\n",
       " array([ 6.,  1., -1.]),\n",
       " array([6., 8., 2.]),\n",
       " array([5., 9., 3.]),\n",
       " array([8., 2., 0.]),\n",
       " array([7., 3., 1.])]"
      ]
     },
     "execution_count": 18,
     "metadata": {},
     "output_type": "execute_result"
    }
   ],
   "source": [
    "Mink(clean(G2))"
   ]
  },
  {
   "cell_type": "code",
   "execution_count": 19,
   "metadata": {},
   "outputs": [
    {
     "name": "stdout",
     "output_type": "stream",
     "text": [
      "1 t\n",
      "loop 1\n",
      "1 t\n",
      "loop 2\n",
      "2 t\n",
      "loop 2\n",
      "4 4\n"
     ]
    },
    {
     "data": {
      "text/plain": [
       "[array([5., 6., 0.]),\n",
       " array([1., 7., 0.]),\n",
       " array([14., 12., -6.]),\n",
       " array([10., 13., -6.])]"
      ]
     },
     "execution_count": 19,
     "metadata": {},
     "output_type": "execute_result"
    }
   ],
   "source": [
    "Mink(clean(H2))"
   ]
  },
  {
   "cell_type": "code",
   "execution_count": 20,
   "metadata": {},
   "outputs": [
    {
     "name": "stdout",
     "output_type": "stream",
     "text": [
      "1 t\n",
      "loop 1\n",
      "1 t\n",
      "loop 2\n",
      "2 t\n",
      "loop 2\n",
      "4 4\n",
      "2 t\n",
      "loop 2\n",
      "4 t\n",
      "loop 2\n",
      "8 t\n",
      "loop 1\n",
      "8 8\n"
     ]
    },
    {
     "data": {
      "text/plain": [
       "[array([5., 6., 0.]),\n",
       " array([1., 7., 0.]),\n",
       " array([14., 12., -6.]),\n",
       " array([10., 13., -6.]),\n",
       " array([5., 6., 0.]),\n",
       " array([4., 7., 1.]),\n",
       " array([ 7.,  0., -2.]),\n",
       " array([ 6.,  1., -1.]),\n",
       " array([6., 8., 2.]),\n",
       " array([5., 9., 3.]),\n",
       " array([8., 2., 0.]),\n",
       " array([7., 3., 1.])]"
      ]
     },
     "execution_count": 20,
     "metadata": {},
     "output_type": "execute_result"
    }
   ],
   "source": [
    "F2 = Mink(clean(H2))+ Mink(clean(G2))\n",
    "F2"
   ]
  },
  {
   "cell_type": "code",
   "execution_count": 150,
   "metadata": {},
   "outputs": [],
   "source": [
    "tupled_lst = set(map(tuple, F2))\n",
    "lst = map(list, tupled_lst)"
   ]
  },
  {
   "cell_type": "code",
   "execution_count": 160,
   "metadata": {},
   "outputs": [
    {
     "data": {
      "text/plain": [
       "(array([[10., 13., -6.],\n",
       "        [14., 12., -6.],\n",
       "        [ 7.,  3.,  1.],\n",
       "        [ 4.,  7.,  1.],\n",
       "        [ 6.,  8.,  2.],\n",
       "        [ 1.,  7.,  0.],\n",
       "        [ 7.,  0., -2.],\n",
       "        [ 5.,  6.,  0.],\n",
       "        [ 5.,  9.,  3.],\n",
       "        [ 8.,  2.,  0.],\n",
       "        [ 6.,  1., -1.]]), (11, 3))"
      ]
     },
     "execution_count": 160,
     "metadata": {},
     "output_type": "execute_result"
    }
   ],
   "source": [
    "FF = list(set(map(tuple, F2)))\n",
    "f3 = np.zeros((len(FF),3))\n",
    "for i in range(len(FF)):\n",
    "    f3[i,0]=FF[i][0]\n",
    "    f3[i,1]=FF[i][1]\n",
    "    f3[i,2]=FF[i][2]\n",
    "f3,f3.shape"
   ]
  },
  {
   "cell_type": "code",
   "execution_count": 23,
   "metadata": {},
   "outputs": [
    {
     "data": {
      "text/plain": [
       "(array([[ 5.,  6.,  0.],\n",
       "        [ 1.,  7.,  0.],\n",
       "        [14., 12., -6.],\n",
       "        [10., 13., -6.],\n",
       "        [ 5.,  6.,  0.],\n",
       "        [ 4.,  7.,  1.],\n",
       "        [ 7.,  0., -2.],\n",
       "        [ 6.,  1., -1.],\n",
       "        [ 6.,  8.,  2.],\n",
       "        [ 5.,  9.,  3.],\n",
       "        [ 8.,  2.,  0.],\n",
       "        [ 7.,  3.,  1.]]), (12, 3))"
      ]
     },
     "execution_count": 23,
     "metadata": {},
     "output_type": "execute_result"
    }
   ],
   "source": [
    "f2 = np.zeros((len(F2),3))\n",
    "for i in range(len(F2)):\n",
    "    f2[i]=F2[i]\n",
    "f2,f2.shape"
   ]
  },
  {
   "cell_type": "code",
   "execution_count": 25,
   "metadata": {},
   "outputs": [],
   "source": [
    "def ppadd(arr,c):\n",
    "    a,b = arr.shape\n",
    "    r = np.zeros((2*a,3))\n",
    "    for i in range(a):\n",
    "        r[i]= arr[i]\n",
    "        r[a+i]= arr[i]+np.array([0,0,c])\n",
    "    return r"
   ]
  },
  {
   "cell_type": "code",
   "execution_count": 69,
   "metadata": {},
   "outputs": [],
   "source": [
    "from scipy.spatial import ConvexHull,Delaunay"
   ]
  },
  {
   "cell_type": "code",
   "execution_count": 343,
   "metadata": {},
   "outputs": [],
   "source": [
    "hull = ConvexHull(f3)"
   ]
  },
  {
   "cell_type": "code",
   "execution_count": 216,
   "metadata": {},
   "outputs": [
    {
     "ename": "RuntimeError",
     "evalue": "incremental mode not enabled or already closed",
     "output_type": "error",
     "traceback": [
      "\u001b[1;31m---------------------------------------------------------------------------\u001b[0m",
      "\u001b[1;31mRuntimeError\u001b[0m                              Traceback (most recent call last)",
      "\u001b[1;32m<ipython-input-216-4a947bf88ce4>\u001b[0m in \u001b[0;36m<module>\u001b[1;34m\u001b[0m\n\u001b[1;32m----> 1\u001b[1;33m \u001b[0mhull\u001b[0m\u001b[1;33m.\u001b[0m\u001b[0madd_points\u001b[0m\u001b[1;33m(\u001b[0m\u001b[0mnp\u001b[0m\u001b[1;33m.\u001b[0m\u001b[0marray\u001b[0m\u001b[1;33m(\u001b[0m\u001b[1;33m[\u001b[0m\u001b[1;36m0\u001b[0m\u001b[1;33m,\u001b[0m\u001b[1;36m0\u001b[0m\u001b[1;33m,\u001b[0m\u001b[1;36m0\u001b[0m\u001b[1;33m]\u001b[0m\u001b[1;33m)\u001b[0m\u001b[1;33m)\u001b[0m\u001b[1;33m\u001b[0m\u001b[1;33m\u001b[0m\u001b[0m\n\u001b[0m",
      "\u001b[1;32mqhull.pyx\u001b[0m in \u001b[0;36mscipy.spatial.qhull.ConvexHull.add_points\u001b[1;34m()\u001b[0m\n",
      "\u001b[1;32mqhull.pyx\u001b[0m in \u001b[0;36mscipy.spatial.qhull._QhullUser._add_points\u001b[1;34m()\u001b[0m\n",
      "\u001b[1;31mRuntimeError\u001b[0m: incremental mode not enabled or already closed"
     ]
    }
   ],
   "source": [
    "hull.add_points(np.array([0,0,0]))"
   ]
  },
  {
   "cell_type": "code",
   "execution_count": 190,
   "metadata": {},
   "outputs": [
    {
     "data": {
      "text/plain": [
       "array([[ 0,  6,  5],\n",
       "       [ 0,  6,  1],\n",
       "       [ 0,  8,  5],\n",
       "       [ 0,  8,  1],\n",
       "       [ 2,  8,  5],\n",
       "       [10,  6,  5],\n",
       "       [10,  2,  5],\n",
       "       [ 9,  6,  1],\n",
       "       [ 9,  2,  8],\n",
       "       [ 9,  8,  1],\n",
       "       [ 9, 10,  6],\n",
       "       [ 9, 10,  2]], dtype=int32)"
      ]
     },
     "execution_count": 190,
     "metadata": {},
     "output_type": "execute_result"
    }
   ],
   "source": [
    "hull.simplices"
   ]
  },
  {
   "cell_type": "code",
   "execution_count": 191,
   "metadata": {},
   "outputs": [],
   "source": [
    "def vect(a):\n",
    "    return np.cross(a[1]-a[0],a[2]-a[0])"
   ]
  },
  {
   "cell_type": "code",
   "execution_count": 196,
   "metadata": {},
   "outputs": [
    {
     "data": {
      "text/plain": [
       "[0, 1, 0, 1, 1, 1, 1, 1, 0, 0, 1, 0]"
      ]
     },
     "execution_count": 196,
     "metadata": {},
     "output_type": "execute_result"
    }
   ],
   "source": [
    "[ (vect(f3[hull.simplices[i]])[2] > 0) *1 for i in range(12)]"
   ]
  },
  {
   "cell_type": "code",
   "execution_count": null,
   "metadata": {},
   "outputs": [],
   "source": [
    "def vect_b(a):\n",
    "    "
   ]
  },
  {
   "cell_type": "code",
   "execution_count": 166,
   "metadata": {},
   "outputs": [],
   "source": [
    "hulll = ConvexHull(f3,qhull_options='Qc p')"
   ]
  },
  {
   "cell_type": "code",
   "execution_count": 167,
   "metadata": {},
   "outputs": [
    {
     "data": {
      "text/plain": [
       "array([[4, 8, 8]], dtype=int32)"
      ]
     },
     "execution_count": 167,
     "metadata": {},
     "output_type": "execute_result"
    }
   ],
   "source": [
    "hulll.coplanar"
   ]
  },
  {
   "cell_type": "code",
   "execution_count": 171,
   "metadata": {},
   "outputs": [],
   "source": [
    "def sous(lis,p,m):\n",
    "    a=[]\n",
    "    l = len(lis)\n",
    "    for i in range(l):\n",
    "        if (lis[i] in p) and (lis[i] in p):\n",
    "            a.append(lis[i])\n",
    "        else:\n",
    "            if (lis[i] not in p) :\n",
    "                a.append(lis[i])            \n",
    "    return a"
   ]
  },
  {
   "cell_type": "code",
   "execution_count": 172,
   "metadata": {},
   "outputs": [
    {
     "data": {
      "text/plain": [
       "[0, 1, 2, 5, 6, 8, 9, 10]"
      ]
     },
     "execution_count": 172,
     "metadata": {},
     "output_type": "execute_result"
    }
   ],
   "source": [
    "sous(list(hull.vertices),list(hullb.vertices),list(hullc.vertices))"
   ]
  },
  {
   "cell_type": "code",
   "execution_count": 344,
   "metadata": {},
   "outputs": [
    {
     "data": {
      "text/plain": [
       "(8, 3)"
      ]
     },
     "execution_count": 344,
     "metadata": {},
     "output_type": "execute_result"
    }
   ],
   "source": [
    "p2 = f2[list(hull.vertices)]\n",
    "p2.shape"
   ]
  },
  {
   "cell_type": "code",
   "execution_count": 347,
   "metadata": {},
   "outputs": [
    {
     "data": {
      "text/plain": [
       "array([[ 5.,  6.,  0.],\n",
       "       [ 1.,  7.,  0.],\n",
       "       [14., 12., -6.],\n",
       "       [10., 13., -6.],\n",
       "       [ 5.,  6.,  0.],\n",
       "       [ 4.,  7.,  1.],\n",
       "       [ 7.,  0., -2.],\n",
       "       [ 6.,  1., -1.],\n",
       "       [ 6.,  8.,  2.],\n",
       "       [ 5.,  9.,  3.],\n",
       "       [ 8.,  2.,  0.],\n",
       "       [ 7.,  3.,  1.]])"
      ]
     },
     "execution_count": 347,
     "metadata": {},
     "output_type": "execute_result"
    }
   ],
   "source": [
    "f2"
   ]
  },
  {
   "cell_type": "code",
   "execution_count": 345,
   "metadata": {},
   "outputs": [
    {
     "data": {
      "text/plain": [
       "array([[ 5.,  6.,  0.],\n",
       "       [ 1.,  7.,  0.],\n",
       "       [14., 12., -6.],\n",
       "       [ 4.,  7.,  1.],\n",
       "       [ 7.,  0., -2.],\n",
       "       [ 6.,  8.,  2.],\n",
       "       [ 5.,  9.,  3.],\n",
       "       [ 8.,  2.,  0.]])"
      ]
     },
     "execution_count": 345,
     "metadata": {},
     "output_type": "execute_result"
    }
   ],
   "source": [
    "p2"
   ]
  },
  {
   "cell_type": "code",
   "execution_count": 341,
   "metadata": {},
   "outputs": [
    {
     "data": {
      "image/png": "[encoded data removed]",
      "text/plain": [
       "<Figure size 432x288 with 1 Axes>"
      ]
     },
     "metadata": {},
     "output_type": "display_data"
    }
   ],
   "source": [
    "fig = plt.figure() # For plotting\n",
    "ax = fig.add_subplot(111, projection='3d')\n",
    "\n",
    "ax.plot_trisurf(p2[:,0], p2[:,1], p2[:,2],cmap='viridis', linewidth=0.3)\n",
    "fig.tight_layout()"
   ]
  },
  {
   "cell_type": "code",
   "execution_count": 329,
   "metadata": {},
   "outputs": [],
   "source": [
    "def hyp(simplices,points):\n",
    "    a = np.array([0, 1, 0, 1, 1, 1, 1, 1, 0, 0, 1, 0])\n",
    "    b = [0, 1, 0, 0, 1, 1, 1, 0, 0, 1, 1, 0]\n",
    "    d = [0, 0, 1, 1, 1, 0, 0, 0, 1, 1, 0, 0]\n",
    "    e = [0, 0, 1, 1, 1, 0, 1, 1, 1, 1, 1, 1]\n",
    "    c=0\n",
    "    for s in simplices:\n",
    "        p = list(s)\n",
    "        p.append(s[0])\n",
    "        #if a[c]==0:\n",
    "        #if d[c]==1:\n",
    "        if e[c]==1:\n",
    "            print(c)\n",
    "            for k in range(3):\n",
    "                x=[points[p[k]][0],points[p[k+1]][0]]\n",
    "                y=[points[p[k]][1],points[p[k+1]][1]]\n",
    "                plt.plot(x,y,marker = 'o')\n",
    "        c+=1\n",
    "    plt.show()\n",
    "        "
   ]
  },
  {
   "cell_type": "code",
   "execution_count": 330,
   "metadata": {},
   "outputs": [],
   "source": [
    "def ppp(f,i):\n",
    "    l = np.zeros((f.shape[0]+1,f.shape[1]))\n",
    "    a = ConvexHull(f)\n",
    "    b = f[a.simplices[i]]\n",
    "    c = np.mean(b,axis=0)\n",
    "    d = np.cross(b[1]-b[0],b[2]-b[0])\n",
    "    print(b)\n",
    "    print(d)\n",
    "    print(a.simplices[i])\n",
    "    \n",
    "    for k in range(f.shape[0]):\n",
    "        l[k]=f[k]\n",
    "    l[-1]=c + 0.001*d\n",
    "    \n",
    "    print(l[-1],l[i])\n",
    "    e = ConvexHull(l)\n",
    "    g = f.shape[0] in list(e.vertices)\n",
    "    gg = d[2]>0\n",
    "    print(g,gg)\n",
    "    \n",
    "    if gg * g ==1 or gg+g == 0:\n",
    "        return True\n",
    "    return False"
   ]
  },
  {
   "cell_type": "code",
   "execution_count": 333,
   "metadata": {},
   "outputs": [
    {
     "name": "stdout",
     "output_type": "stream",
     "text": [
      "2\n",
      "3\n",
      "4\n",
      "6\n",
      "7\n",
      "8\n",
      "9\n",
      "10\n",
      "11\n"
     ]
    },
    {
     "data": {
      "image/png": "[encoded data removed]",
      "text/plain": [
       "<Figure size 432x288 with 1 Axes>"
      ]
     },
     "metadata": {
      "needs_background": "light"
     },
     "output_type": "display_data"
    }
   ],
   "source": [
    "hyp(hull.simplices,f3)"
   ]
  },
  {
   "cell_type": "code",
   "execution_count": null,
   "metadata": {},
   "outputs": [],
   "source": []
  }
 ],
 "metadata": {
  "kernelspec": {
   "display_name": "Python 3",
   "language": "python",
   "name": "python3"
  },
  "language_info": {
   "codemirror_mode": {
    "name": "ipython",
    "version": 3
   },
   "file_extension": ".py",
   "mimetype": "text/x-python",
   "name": "python",
   "nbconvert_exporter": "python",
   "pygments_lexer": "ipython3",
   "version": "3.7.3"
  }
 },
 "nbformat": 4,
 "nbformat_minor": 2
}
