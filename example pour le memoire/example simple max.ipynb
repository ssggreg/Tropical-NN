{
 "cells": [
  {
   "cell_type": "code",
   "execution_count": 1,
   "metadata": {},
   "outputs": [
    {
     "name": "stdout",
     "output_type": "stream",
     "text": [
      "explained variance ratio (first two components): [0.92461872 0.05306648]\n"
     ]
    }
   ],
   "source": [
    "import matplotlib.pyplot as plt\n",
    "import numpy as np\n",
    "from sklearn import datasets\n",
    "from sklearn.decomposition import PCA\n",
    "from sklearn.discriminant_analysis import LinearDiscriminantAnalysis\n",
    "\n",
    "iris = datasets.load_iris()\n",
    "\n",
    "X = iris.data\n",
    "y = iris.target\n",
    "target_names = iris.target_names\n",
    "\n",
    "pca = PCA(n_components=2)\n",
    "X_r = pca.fit(X).transform(X)\n",
    "\n",
    "lda = LinearDiscriminantAnalysis(n_components=2)\n",
    "X_r2 = lda.fit(X, y).transform(X)\n",
    "\n",
    "# Percentage of variance explained for each components\n",
    "print('explained variance ratio (first two components): %s'\n",
    "      % str(pca.explained_variance_ratio_))\n"
   ]
  },
  {
   "cell_type": "code",
   "execution_count": 336,
   "metadata": {},
   "outputs": [],
   "source": [
    "x= np.arange(0,4,0.01)\n",
    "y= np.exp(x)"
   ]
  },
  {
   "cell_type": "code",
   "execution_count": 337,
   "metadata": {},
   "outputs": [
    {
     "data": {
      "text/plain": [
       "[<matplotlib.lines.Line2D at 0x7f15583c2fd0>]"
      ]
     },
     "execution_count": 337,
     "metadata": {},
     "output_type": "execute_result"
    },
    {
     "data": {
      "image/png": "[encoded data removed]",
      "text/plain": [
       "<Figure size 432x288 with 1 Axes>"
      ]
     },
     "metadata": {
      "needs_background": "light"
     },
     "output_type": "display_data"
    }
   ],
   "source": [
    "plt.plot(x,y)"
   ]
  },
  {
   "cell_type": "code",
   "execution_count": 338,
   "metadata": {},
   "outputs": [],
   "source": [
    "import numpy as np\n",
    "from sklearn.datasets.samples_generator import make_blobs\n",
    "import matplotlib.pyplot as plt\n",
    "from sklearn.datasets import make_classification\n",
    "from sklearn.metrics.pairwise import euclidean_distances"
   ]
  },
  {
   "cell_type": "code",
   "execution_count": 396,
   "metadata": {},
   "outputs": [],
   "source": [
    "circle = np.array([[x,np.exp(x)] for x in (np.random.rand(30)*2+1.5)])\n",
    "X, Y = make_blobs(n_samples=15, centers=circle, n_features=2,\n",
    "                 random_state=0,cluster_std =0.1)\n",
    "r = np.random.uniform(-2,2,(200,2))\n",
    "lr = (np.min(euclidean_distances(circle,r),axis = 0)>0.1)*1.\n",
    "Xtrain = np.concatenate((r,X))\n",
    "Ytrain = np.concatenate((lr,np.zeros(70))).astype(float)\n",
    "Xtrain.shape,Ytrain.shape\n",
    "Ytrain = Ytrain.reshape(-1,1)\n",
    "Ytrain.shape\n",
    "t = np.linspace(-2, 2,100, endpoint=False)\n",
    "T = np.zeros((10100,2))\n",
    "a=0\n",
    "for i in t:\n",
    "    for j in t:\n",
    "        T[a]=np.array([i,j])\n",
    "        a+=1\n",
    "    a+=1"
   ]
  },
  {
   "cell_type": "code",
   "execution_count": 397,
   "metadata": {},
   "outputs": [
    {
     "data": {
      "text/plain": [
       "[<matplotlib.lines.Line2D at 0x7f154ba54d30>]"
      ]
     },
     "execution_count": 397,
     "metadata": {},
     "output_type": "execute_result"
    },
    {
     "data": {
      "image/png": "[encoded data removed]",
      "text/plain": [
       "<Figure size 432x288 with 1 Axes>"
      ]
     },
     "metadata": {
      "needs_background": "light"
     },
     "output_type": "display_data"
    }
   ],
   "source": [
    "plt.scatter(X[:,0],X[:,1])\n",
    "plt.plot(x,y)"
   ]
  },
  {
   "cell_type": "markdown",
   "metadata": {},
   "source": [
    "plt.figure()\n",
    "colors = ['navy', 'turquoise', 'darkorange']\n",
    "lw = 2\n",
    "\n",
    "for color, i, target_name in zip(colors, [0, 1, 2], target_names):\n",
    "    plt.scatter(X_r[y == i, 0], X_r[y == i, 1], color=color, alpha=.8, lw=lw,\n",
    "                label=target_name)\n",
    "plt.legend(loc='best', shadow=False, scatterpoints=1)\n",
    "\n",
    "plt.scatter(x,f1(x),alpha=.1,)\n",
    "plt.scatter(x,f2(x))\n",
    "plt.scatter(x,f3(x))\n",
    "plt.ylim((-2,4))\n",
    "plt.title('PCA of IRIS dataset')\n",
    "\n"
   ]
  },
  {
   "cell_type": "markdown",
   "metadata": {},
   "source": [
    "plt.figure()\n",
    "for color, i, target_name in zip(colors, [0, 1, 2], target_names):\n",
    "    plt.scatter(X_r2[y == i, 0], X_r2[y == i, 1], alpha=.8, color=color,\n",
    "                label=target_name)\n",
    "plt.legend(loc='best', shadow=False, scatterpoints=1)\n",
    "plt.title('LDA of IRIS dataset')\n",
    "\n",
    "plt.show()"
   ]
  },
  {
   "cell_type": "code",
   "execution_count": 398,
   "metadata": {},
   "outputs": [],
   "source": [
    "import numpy as np\n",
    "import torch\n",
    "import torch.nn as nn\n",
    "import torch.optim as optim\n",
    "import matplotlib.pyplot as plt\n",
    "import seaborn as sns\n",
    "import pandas as pd\n",
    "import torch.nn.functional as F\n",
    "from torch.utils.data.dataloader import DataLoader\n",
    "from torch.optim.optimizer import Optimizer"
   ]
  },
  {
   "cell_type": "code",
   "execution_count": 399,
   "metadata": {},
   "outputs": [],
   "source": [
    "torch.cuda.set_device(2)"
   ]
  },
  {
   "cell_type": "code",
   "execution_count": 400,
   "metadata": {},
   "outputs": [],
   "source": [
    "class csvDataset():\n",
    "    def __init__(self, data,label, transform=None):\n",
    "        self.label = label\n",
    "        self.data = data\n",
    "        #self.train_set = TensorDataset()\n",
    "        self.transform = transform\n",
    "    def __len__(self):\n",
    "        return len(self.data)\n",
    "    def __getitem__(self, idx):\n",
    "        data = self.data[idx]\n",
    "        label = self.label[idx]\n",
    "        sample = { 'data': data,'label': label}\n",
    "        if self.transform:\n",
    "            sample = self.transform(sample)\n",
    "        return sample\n",
    "    \n",
    "class ToTensor(object):\n",
    "    def __call__(self, sample):\n",
    "        data, label= sample['data'],sample['label']\n",
    "        return {'data': torch.from_numpy(data).float(),'label': torch.from_numpy(label).float()}"
   ]
  },
  {
   "cell_type": "code",
   "execution_count": 401,
   "metadata": {},
   "outputs": [],
   "source": [
    "def train_model_cc_fast(model, trainloader,inference_loader, criterion, optimizer,size, num_epochs=25):\n",
    "    train_accuracy = []\n",
    "    for epoch in range(num_epochs):\n",
    "        model.train(True)\n",
    "        for i in trainloader:\n",
    "            inputs = i['data']\n",
    "            labels = i['label']\n",
    "            inputs, labels = inputs.cuda(), labels.cuda()\n",
    "            def closure():\n",
    "                optimizer.zero_grad()\n",
    "                logits = model.forward(inputs)\n",
    "                loss = criterion(logits,labels)\n",
    "                loss.backward()\n",
    "                return loss\n",
    "            loss = optimizer.step(closure)\n",
    "\n",
    "        train_accuracy.append(accuracy(model, trainloader,size))\n",
    "\n",
    "        \n",
    "    return model, train_accuracy"
   ]
  },
  {
   "cell_type": "code",
   "execution_count": 402,
   "metadata": {},
   "outputs": [],
   "source": [
    "def accuracy(model, dataloader,size):\n",
    "    \"\"\" Computes the model's classification accuracy on the train dataset\n",
    "    Computes classification accuracy and loss(optional) on the test dataset\n",
    "    The model should return logits\n",
    "    \"\"\"\n",
    "    model.eval()\n",
    "    with torch.no_grad():\n",
    "        error = 0.\n",
    "        for i in (dataloader):\n",
    "            inputs = i['data']\n",
    "            labels = i['label']\n",
    "            inputs, labels = inputs.cuda(), labels.cuda()\n",
    "            pred = model(inputs).cpu().numpy()\n",
    "            labels = labels.cpu().numpy()\n",
    "            error+= (np.sum((pred-labels)**2))\n",
    "            \n",
    "    accuracy = error / size\n",
    "    return accuracy"
   ]
  },
  {
   "cell_type": "code",
   "execution_count": 857,
   "metadata": {},
   "outputs": [],
   "source": [
    "\n",
    "file_dataset = csvDataset(X[:,0].reshape(-1,1),X[:,1].reshape(-1,1),transform= ToTensor())\n",
    "final_loader = torch.utils.data.DataLoader(file_dataset,batch_size=1 ,shuffle=True)"
   ]
  },
  {
   "cell_type": "code",
   "execution_count": 901,
   "metadata": {},
   "outputs": [],
   "source": [
    "class nettt(nn.Module):\n",
    "    def __init__(self,h):\n",
    "        super(type(self), self).__init__()\n",
    "        self.f1 = nn.Linear(1, h)\n",
    "        self.f2 = nn.Linear(h, h)\n",
    "        self.f3 = nn.Linear(h,  1)\n",
    "    def forward(self, x):\n",
    "        out = x\n",
    "        out = F.relu(self.f1(out))\n",
    "        out = F.relu(self.f2(out))\n",
    "        out = self.f3(out)\n",
    "        return out"
   ]
  },
  {
   "cell_type": "code",
   "execution_count": 902,
   "metadata": {},
   "outputs": [],
   "source": [
    "torch.cuda.set_device(2)"
   ]
  },
  {
   "cell_type": "code",
   "execution_count": 903,
   "metadata": {},
   "outputs": [],
   "source": [
    "\n",
    "model = nettt(256)\n",
    "model = model.float().cuda()\n",
    "optimizer = optim.Adam(model.parameters(), weight_decay=0)\n",
    "criterion = F.mse_loss\n",
    "model, error= train_model_cc_fast(model, final_loader,final_loader, criterion, optimizer,X[:,0].shape[0], num_epochs=100)"
   ]
  },
  {
   "cell_type": "code",
   "execution_count": 970,
   "metadata": {},
   "outputs": [
    {
     "name": "stdout",
     "output_type": "stream",
     "text": [
      "f1.weight torch.Size([256, 1])\n",
      "f1.bias torch.Size([256])\n",
      "f2.weight torch.Size([256, 256])\n",
      "f2.bias torch.Size([256])\n",
      "f3.weight torch.Size([1, 256])\n",
      "f3.bias torch.Size([1])\n"
     ]
    }
   ],
   "source": [
    "for a,i in model.named_parameters():\n",
    "    print(a,i.shape)"
   ]
  },
  {
   "cell_type": "code",
   "execution_count": null,
   "metadata": {},
   "outputs": [],
   "source": []
  },
  {
   "cell_type": "code",
   "execution_count": 904,
   "metadata": {},
   "outputs": [
    {
     "data": {
      "text/plain": [
       "[<matplotlib.lines.Line2D at 0x7f1543e8ae48>]"
      ]
     },
     "execution_count": 904,
     "metadata": {},
     "output_type": "execute_result"
    },
    {
     "data": {
      "image/png": "[encoded data removed]",
      "text/plain": [
       "<Figure size 432x288 with 1 Axes>"
      ]
     },
     "metadata": {
      "needs_background": "light"
     },
     "output_type": "display_data"
    }
   ],
   "source": [
    "plt.plot(error)"
   ]
  },
  {
   "cell_type": "code",
   "execution_count": 905,
   "metadata": {},
   "outputs": [],
   "source": [
    "xx = torch.from_numpy(x).float().cuda().reshape(-1,1)"
   ]
  },
  {
   "cell_type": "code",
   "execution_count": 906,
   "metadata": {},
   "outputs": [],
   "source": [
    "ypred = model.forward(xx).cpu().detach().numpy()"
   ]
  },
  {
   "cell_type": "code",
   "execution_count": 907,
   "metadata": {},
   "outputs": [],
   "source": [
    "ypredb=np.array([ypred[i+1] for i in range(399)])"
   ]
  },
  {
   "cell_type": "code",
   "execution_count": 908,
   "metadata": {},
   "outputs": [
    {
     "data": {
      "text/plain": [
       "(array([ 71.,  13.,  14.,  98.,  51.,  11.,   2.,   1.,  19., 119.]),\n",
       " array([0.00025177, 0.01796265, 0.03567352, 0.0533844 , 0.07109527,\n",
       "        0.08880615, 0.10651703, 0.1242279 , 0.14193878, 0.15964966,\n",
       "        0.17736053], dtype=float32),\n",
       " <a list of 10 Patch objects>)"
      ]
     },
     "execution_count": 908,
     "metadata": {},
     "output_type": "execute_result"
    },
    {
     "data": {
      "image/png": "[encoded data removed]",
      "text/plain": [
       "<Figure size 432x288 with 1 Axes>"
      ]
     },
     "metadata": {
      "needs_background": "light"
     },
     "output_type": "display_data"
    }
   ],
   "source": [
    "plt.hist(ypredb-ypred[:399])"
   ]
  },
  {
   "cell_type": "code",
   "execution_count": 937,
   "metadata": {},
   "outputs": [],
   "source": [
    "def f(x):\n",
    "    return np.amax((0,7*x-6,17*x-31))"
   ]
  },
  {
   "cell_type": "code",
   "execution_count": 950,
   "metadata": {},
   "outputs": [],
   "source": [
    "import seaborn as sns"
   ]
  },
  {
   "cell_type": "code",
   "execution_count": 951,
   "metadata": {},
   "outputs": [],
   "source": [
    "sns.set()"
   ]
  },
  {
   "cell_type": "code",
   "execution_count": 953,
   "metadata": {},
   "outputs": [
    {
     "data": {
      "text/plain": [
       "[<matplotlib.lines.Line2D at 0x7f1528705e80>]"
      ]
     },
     "execution_count": 953,
     "metadata": {},
     "output_type": "execute_result"
    },
    {
     "data": {
      "image/png": "[encoded data removed]",
      "text/plain": [
       "<Figure size 432x288 with 1 Axes>"
      ]
     },
     "metadata": {},
     "output_type": "display_data"
    }
   ],
   "source": [
    "plt.plot(x-2,np.maximum(0,x-2))"
   ]
  },
  {
   "cell_type": "code",
   "execution_count": 954,
   "metadata": {},
   "outputs": [],
   "source": [
    "yy= np.array([f(0.01*i) for i in range(400)])"
   ]
  },
  {
   "cell_type": "code",
   "execution_count": 962,
   "metadata": {},
   "outputs": [],
   "source": [
    "a=[6/7,25/10]\n",
    "b=[0+0.1,7*25/10-6+0.1]"
   ]
  },
  {
   "cell_type": "code",
   "execution_count": 963,
   "metadata": {},
   "outputs": [
    {
     "data": {
      "text/plain": [
       "[<matplotlib.lines.Line2D at 0x7f15287ded68>]"
      ]
     },
     "execution_count": 963,
     "metadata": {},
     "output_type": "execute_result"
    },
    {
     "data": {
      "image/png": "[encoded data removed]",
      "text/plain": [
       "<Figure size 432x288 with 1 Axes>"
      ]
     },
     "metadata": {},
     "output_type": "display_data"
    }
   ],
   "source": [
    "plt.scatter(X[:,0],X[:,1])\n",
    "#plt.plot(x,y)\n",
    "plt.plot(x[:370],y[:370],'k--')\n",
    "plt.scatter(a,b,color='orange')\n",
    "plt.plot(x,yy,color='orange')"
   ]
  },
  {
   "cell_type": "code",
   "execution_count": 943,
   "metadata": {},
   "outputs": [
    {
     "name": "stdout",
     "output_type": "stream",
     "text": [
      "('f1.weight', Parameter containing:\n",
      "tensor([[ 0.2681],\n",
      "        [ 0.4278],\n",
      "        [-0.1227],\n",
      "        [ 0.8217],\n",
      "        [-0.8332],\n",
      "        [-0.9154],\n",
      "        [-0.9142],\n",
      "        [-0.2867],\n",
      "        [-0.8159],\n",
      "        [-0.9132],\n",
      "        [-0.0994],\n",
      "        [-0.9283],\n",
      "        [ 0.1342],\n",
      "        [ 0.9831],\n",
      "        [-0.0622],\n",
      "        [ 0.2276],\n",
      "        [ 0.3498],\n",
      "        [ 0.8377],\n",
      "        [ 0.2369],\n",
      "        [-0.8303],\n",
      "        [-0.4562],\n",
      "        [ 0.3354],\n",
      "        [-0.4670],\n",
      "        [ 0.2722],\n",
      "        [-0.9109],\n",
      "        [-0.6727],\n",
      "        [ 0.5228],\n",
      "        [-0.4716],\n",
      "        [-0.6830],\n",
      "        [ 0.6983],\n",
      "        [ 0.2844],\n",
      "        [-0.2599],\n",
      "        [ 0.0734],\n",
      "        [ 0.3770],\n",
      "        [ 0.4331],\n",
      "        [ 0.6333],\n",
      "        [-0.0907],\n",
      "        [-0.6581],\n",
      "        [-0.9016],\n",
      "        [-0.8561],\n",
      "        [ 0.9213],\n",
      "        [-0.6033],\n",
      "        [ 0.8306],\n",
      "        [ 0.2051],\n",
      "        [ 0.1139],\n",
      "        [-0.1825],\n",
      "        [ 0.2183],\n",
      "        [-0.0349],\n",
      "        [-0.5567],\n",
      "        [ 0.9499],\n",
      "        [-0.6642],\n",
      "        [-0.0289],\n",
      "        [-0.3880],\n",
      "        [-0.7594],\n",
      "        [ 0.3418],\n",
      "        [ 1.0041],\n",
      "        [ 0.3699],\n",
      "        [ 0.9521],\n",
      "        [-0.1668],\n",
      "        [-0.4340],\n",
      "        [ 0.6320],\n",
      "        [-0.0502],\n",
      "        [ 0.0505],\n",
      "        [-0.8271],\n",
      "        [ 0.4929],\n",
      "        [-0.1574],\n",
      "        [-0.8477],\n",
      "        [ 0.5207],\n",
      "        [ 0.1344],\n",
      "        [-0.1576],\n",
      "        [ 0.5567],\n",
      "        [ 0.6552],\n",
      "        [ 0.6391],\n",
      "        [ 0.0008],\n",
      "        [-0.1687],\n",
      "        [-0.8252],\n",
      "        [ 0.7902],\n",
      "        [ 0.7019],\n",
      "        [-0.5834],\n",
      "        [-0.5367],\n",
      "        [ 0.8048],\n",
      "        [-0.3109],\n",
      "        [ 0.1121],\n",
      "        [ 0.3842],\n",
      "        [-0.7580],\n",
      "        [-0.4643],\n",
      "        [ 0.6342],\n",
      "        [-0.6800],\n",
      "        [ 0.6824],\n",
      "        [-0.1599],\n",
      "        [ 0.5248],\n",
      "        [ 0.8798],\n",
      "        [ 0.7653],\n",
      "        [ 0.2638],\n",
      "        [ 0.7562],\n",
      "        [-0.8078],\n",
      "        [-0.7584],\n",
      "        [ 0.9733],\n",
      "        [-0.9982],\n",
      "        [ 0.4565],\n",
      "        [-0.2705],\n",
      "        [-0.8435],\n",
      "        [ 0.0513],\n",
      "        [-0.3303],\n",
      "        [-0.4059],\n",
      "        [ 0.2899],\n",
      "        [-0.5171],\n",
      "        [ 0.9225],\n",
      "        [-0.4924],\n",
      "        [ 0.3936],\n",
      "        [-0.3738],\n",
      "        [-0.4850],\n",
      "        [-0.8569],\n",
      "        [ 0.7990],\n",
      "        [-0.1703],\n",
      "        [-0.5280],\n",
      "        [-0.1509],\n",
      "        [ 0.8595],\n",
      "        [-0.0058],\n",
      "        [ 0.4828],\n",
      "        [-0.3049],\n",
      "        [ 0.8269],\n",
      "        [ 0.0780],\n",
      "        [ 0.4950],\n",
      "        [-0.9600],\n",
      "        [-0.1066],\n",
      "        [ 0.0401],\n",
      "        [-0.3157],\n",
      "        [-0.8135],\n",
      "        [-0.2607],\n",
      "        [-0.9676],\n",
      "        [ 0.0315],\n",
      "        [-0.6413],\n",
      "        [-0.4652],\n",
      "        [ 0.4561],\n",
      "        [ 0.8479],\n",
      "        [-0.2882],\n",
      "        [-0.1378],\n",
      "        [-0.6054],\n",
      "        [-0.0810],\n",
      "        [-0.5751],\n",
      "        [ 0.9115],\n",
      "        [-0.9550],\n",
      "        [ 0.3488],\n",
      "        [-0.9827],\n",
      "        [-0.3877],\n",
      "        [-0.3683],\n",
      "        [-0.2236],\n",
      "        [ 0.6567],\n",
      "        [-0.9457],\n",
      "        [-0.9810],\n",
      "        [-0.2888],\n",
      "        [ 0.5881],\n",
      "        [ 0.2478],\n",
      "        [ 0.1755],\n",
      "        [ 0.1907],\n",
      "        [-0.4524],\n",
      "        [-0.0981],\n",
      "        [-0.2589],\n",
      "        [-0.8965],\n",
      "        [ 0.1983],\n",
      "        [ 0.6452],\n",
      "        [-0.9888],\n",
      "        [ 0.5300],\n",
      "        [ 0.5435],\n",
      "        [ 0.8757],\n",
      "        [-0.2060],\n",
      "        [ 0.1420],\n",
      "        [-0.6499],\n",
      "        [ 0.2453],\n",
      "        [-0.0391],\n",
      "        [-0.6888],\n",
      "        [ 0.4871],\n",
      "        [-0.1909],\n",
      "        [ 0.8901],\n",
      "        [-0.6452],\n",
      "        [-0.1717],\n",
      "        [-0.5684],\n",
      "        [ 0.5100],\n",
      "        [ 0.1271],\n",
      "        [-0.6286],\n",
      "        [ 0.0075],\n",
      "        [-0.0372],\n",
      "        [-0.9295],\n",
      "        [ 0.6628],\n",
      "        [-0.5915],\n",
      "        [-0.1473],\n",
      "        [ 0.1596],\n",
      "        [-0.6884],\n",
      "        [ 0.2011],\n",
      "        [-0.4521],\n",
      "        [-0.6391],\n",
      "        [-0.7045],\n",
      "        [-0.0832],\n",
      "        [-0.8724],\n",
      "        [ 0.3707],\n",
      "        [ 0.5364],\n",
      "        [-0.7664],\n",
      "        [-0.0423],\n",
      "        [ 0.5868],\n",
      "        [ 0.8990],\n",
      "        [-0.4265],\n",
      "        [-0.2415],\n",
      "        [-0.3943],\n",
      "        [ 0.4715],\n",
      "        [ 0.0473],\n",
      "        [ 0.8409],\n",
      "        [-0.6537],\n",
      "        [ 0.9685],\n",
      "        [ 0.0230],\n",
      "        [-0.4213],\n",
      "        [ 0.7794],\n",
      "        [-0.6691],\n",
      "        [-0.4862],\n",
      "        [ 0.9952],\n",
      "        [ 0.5148],\n",
      "        [ 0.5157],\n",
      "        [ 0.3756],\n",
      "        [ 0.6692],\n",
      "        [ 0.7696],\n",
      "        [ 0.5717],\n",
      "        [ 0.1173],\n",
      "        [-0.1265],\n",
      "        [ 0.3279],\n",
      "        [-0.7238],\n",
      "        [ 0.5447],\n",
      "        [ 0.0840],\n",
      "        [-0.6467],\n",
      "        [ 0.7889],\n",
      "        [ 0.0471],\n",
      "        [-0.2304],\n",
      "        [ 0.8460],\n",
      "        [ 0.7412],\n",
      "        [-0.9454],\n",
      "        [ 0.4201],\n",
      "        [ 0.2822],\n",
      "        [-0.0503],\n",
      "        [-0.4091],\n",
      "        [-0.3134],\n",
      "        [-0.9577],\n",
      "        [-0.1724],\n",
      "        [ 0.2984],\n",
      "        [ 0.8093],\n",
      "        [-0.1601],\n",
      "        [-0.9836],\n",
      "        [ 0.5374],\n",
      "        [ 0.3189],\n",
      "        [ 0.0694],\n",
      "        [ 0.6967],\n",
      "        [ 0.9667],\n",
      "        [-0.0300],\n",
      "        [-0.9996],\n",
      "        [ 0.7000],\n",
      "        [-0.8726],\n",
      "        [ 0.7735],\n",
      "        [-0.1670]], device='cuda:2'))\n",
      "('f1.bias', Parameter containing:\n",
      "tensor([-0.6284, -1.0514,  0.8796,  0.4399, -0.1854,  0.1883, -0.7545,\n",
      "         0.3606, -0.1611,  0.7385, -0.6562, -0.4079,  0.1167,  0.3447,\n",
      "        -0.1483, -0.5572, -0.2405, -0.3706,  0.3174,  0.3225,  0.1214,\n",
      "        -0.8498, -0.4977, -0.6407, -0.0881,  0.2283, -0.6527,  0.5137,\n",
      "        -0.6843,  0.7364, -0.7006,  0.9872,  0.7978, -0.9353,  0.6252,\n",
      "        -0.2721, -0.4777, -0.0407,  0.9072,  0.5812, -0.0446, -0.4268,\n",
      "        -1.0149,  0.8000,  0.8964,  0.2245, -0.1215, -0.1843, -0.7157,\n",
      "        -0.6977, -0.3039,  0.9707,  0.9992,  0.8645,  0.6663, -0.0009,\n",
      "         0.6565,  0.2898, -0.9067,  0.0098, -0.3614,  0.2943,  0.4990,\n",
      "        -0.1791,  0.7413,  0.7617, -0.6953, -0.5801,  0.4844, -0.0237,\n",
      "         0.5971, -0.4397, -0.4404, -0.7733,  0.0531,  0.1039, -0.3058,\n",
      "        -0.0433, -0.9797,  0.5962,  0.8518,  0.2587,  0.6662, -0.8284,\n",
      "        -0.0959, -0.0323,  0.2640,  0.4915, -0.8987,  0.6706, -0.1319,\n",
      "         0.9156, -0.0748, -0.3239, -0.3793,  0.1103,  0.3279, -0.5863,\n",
      "         0.3809, -0.8954, -0.7437,  0.1841, -0.4839,  1.2224,  0.2654,\n",
      "        -0.0269, -0.6217, -0.3502, -0.3505, -0.9709, -0.2206, -0.2570,\n",
      "         0.2090,  0.0301, -0.7580,  0.2389,  0.8756,  0.5792, -0.7060,\n",
      "         0.4146,  0.2666, -0.3471,  0.2671,  0.1795, -0.9143,  0.4725,\n",
      "         0.7243,  1.1765,  0.8692, -0.5780,  0.7817, -0.7017, -0.4119,\n",
      "        -0.1059, -0.3782, -0.3033, -0.2972,  1.0225, -0.2198,  0.0557,\n",
      "        -0.6186, -0.5558, -0.5709,  0.0538,  0.2501, -0.9423, -0.4367,\n",
      "        -0.5209,  0.8875, -0.5184, -0.1917, -0.5348, -1.1155, -0.5917,\n",
      "        -0.4123,  0.4931,  0.0932, -0.8135,  1.0060, -0.1643, -0.4946,\n",
      "        -0.3234,  0.0811, -1.1185,  0.3681,  0.1791,  0.1099, -0.5742,\n",
      "         0.7094, -0.0539,  0.5578,  0.8775,  0.5244, -0.4425,  0.4647,\n",
      "         0.2844,  0.6549, -0.1655,  0.9158,  0.7141, -0.3392,  0.7859,\n",
      "        -0.9790, -0.2021, -0.5742,  0.6813, -0.6196,  0.7114, -0.7059,\n",
      "        -0.1619, -0.8444, -0.2661, -0.6454,  0.9341, -0.7308,  0.8450,\n",
      "        -0.4335,  0.6235,  0.8808,  0.5397, -0.2918, -0.9802, -0.2487,\n",
      "        -0.6930,  0.4967, -0.7168, -0.9754, -0.1663, -0.1670,  0.3826,\n",
      "         0.3253,  0.4904, -0.9025,  0.3198, -1.0267, -1.0893,  0.7490,\n",
      "        -0.3325,  0.5746,  0.5787,  0.4124,  0.0896, -0.0991,  0.7479,\n",
      "        -0.5964, -0.8189,  0.3571, -0.3318, -0.2882, -0.1738, -0.0289,\n",
      "         0.7546, -0.9208,  0.7414, -0.8260, -0.7201, -0.0457,  0.4142,\n",
      "        -0.6930, -0.2218,  0.7141, -0.3211,  0.5993, -0.8659,  0.8525,\n",
      "        -1.0463,  0.1960,  1.0006,  0.3229,  0.6222, -0.7326, -0.5846,\n",
      "        -0.6037,  0.5979, -0.2978,  0.7262], device='cuda:2'))\n",
      "('f2.weight', Parameter containing:\n",
      "tensor([[-6.7031e-02,  1.0845e-02,  1.4573e-02,  ..., -2.9643e-02,\n",
      "          5.0265e-02,  4.5767e-02],\n",
      "        [-3.3836e-02,  6.2202e-02, -2.6986e-02,  ...,  3.2864e-02,\n",
      "          2.6129e-02,  4.1174e-02],\n",
      "        [ 6.5570e-02,  1.8285e-01, -5.0410e-02,  ...,  2.3688e-02,\n",
      "          8.4680e-02, -2.5070e-01],\n",
      "        ...,\n",
      "        [-2.6381e-02,  3.3994e-02, -4.1708e-02,  ...,  3.7387e-02,\n",
      "         -6.0478e-02, -5.0668e-02],\n",
      "        [ 3.2294e-02, -1.5717e-02,  1.7362e-02,  ...,  3.5480e-02,\n",
      "          1.1914e-02, -3.8029e-02],\n",
      "        [ 5.9773e-02,  2.2540e-01, -2.8269e-02,  ..., -8.2631e-03,\n",
      "         -1.2472e-02, -2.0321e-01]], device='cuda:2'))\n",
      "('f2.bias', Parameter containing:\n",
      "tensor([ 2.0392e-02,  1.8927e-02, -1.1390e-02, -5.2482e-02,  3.8557e-02,\n",
      "         2.3315e-02, -1.0586e-02, -8.4695e-03, -3.1722e-02,  3.8927e-02,\n",
      "         9.3678e-03, -4.5629e-02, -7.0302e-02,  2.8617e-02,  5.5063e-02,\n",
      "        -3.8480e-02, -4.7505e-02, -6.9468e-02, -2.5273e-02,  9.4511e-03,\n",
      "        -3.3544e-02, -4.5025e-02, -3.9688e-03, -1.0646e-02,  1.4514e-02,\n",
      "        -2.9921e-02, -3.1549e-02, -2.9590e-02,  1.3689e-02, -4.7427e-02,\n",
      "        -8.4963e-03, -1.1024e-02,  4.3945e-02, -5.5106e-02, -3.5799e-02,\n",
      "        -6.0289e-03, -4.5824e-02, -4.4572e-02, -3.1098e-03, -2.2350e-02,\n",
      "        -3.6478e-02,  4.4163e-02, -3.1311e-02, -6.7041e-02, -7.1996e-03,\n",
      "        -3.5144e-03, -2.6329e-03, -6.8873e-03,  1.1666e-02,  3.2742e-03,\n",
      "         2.9852e-02,  3.1974e-02, -3.8684e-02,  4.2329e-02,  4.3748e-03,\n",
      "         3.7386e-02,  9.2487e-03, -3.5602e-02, -3.7195e-03, -1.2901e-01,\n",
      "        -5.3924e-02,  4.9234e-02,  3.2130e-02, -6.1677e-02, -9.0101e-03,\n",
      "        -5.1382e-02, -9.1410e-03,  2.3097e-03,  1.1899e-02,  5.6103e-02,\n",
      "        -5.8158e-02,  3.3762e-02, -3.4412e-02, -4.9622e-02, -5.3169e-03,\n",
      "         1.9894e-02,  2.6374e-02, -3.2625e-02, -1.1955e-02, -6.2617e-02,\n",
      "        -2.5284e-02,  2.0289e-03, -6.9648e-02, -1.3101e-02, -1.5748e-02,\n",
      "        -6.0083e-02, -3.8107e-02,  2.8137e-02, -5.6143e-02, -1.7101e-02,\n",
      "        -3.0932e-02,  3.4735e-02, -5.2833e-02, -4.0552e-02, -6.0111e-02,\n",
      "        -1.4281e-02, -2.4646e-02,  4.7132e-03, -6.0309e-02, -3.1107e-02,\n",
      "        -3.7251e-02,  1.1657e-02, -6.2287e-02,  3.3953e-02,  8.4760e-04,\n",
      "         2.3968e-02, -4.3813e-02, -5.8368e-02, -2.5702e-02,  2.8834e-02,\n",
      "         2.1818e-02,  4.9074e-02,  2.4256e-02, -1.5828e-02, -5.6609e-02,\n",
      "        -6.5742e-02,  5.8712e-02,  3.8303e-02,  4.1208e-02,  1.3552e-02,\n",
      "         2.9737e-03, -1.7855e-02, -5.8413e-02, -5.3291e-02,  5.1623e-02,\n",
      "         3.4687e-02, -3.6720e-02, -4.3107e-03, -2.2119e-02,  6.2328e-02,\n",
      "         3.4370e-02,  4.2014e-02, -4.3124e-02,  1.5009e-02, -3.1140e-03,\n",
      "         5.2134e-02, -1.9235e-02, -4.1509e-02, -5.3309e-02, -1.4104e-02,\n",
      "        -5.0943e-02,  2.8372e-02, -7.0064e-03, -5.4125e-02,  1.0850e-02,\n",
      "        -5.7581e-02, -3.9293e-02, -2.5985e-02, -8.9134e-02,  4.8507e-02,\n",
      "         4.6166e-02, -3.2782e-02,  5.9045e-03,  5.1081e-02,  3.3170e-02,\n",
      "        -1.9579e-02, -4.8710e-02,  1.6552e-02,  2.9049e-02, -1.2949e-01,\n",
      "        -1.0087e-02, -4.4068e-02,  3.7851e-02,  5.3672e-02, -4.7732e-02,\n",
      "        -7.7024e-03, -4.5195e-02,  1.9726e-02, -4.1647e-02, -5.3911e-02,\n",
      "         2.9606e-02,  4.4294e-02, -3.1889e-02,  3.7856e-02, -2.5999e-02,\n",
      "        -4.8852e-03, -7.6661e-02,  3.7324e-02, -8.1221e-02, -7.9449e-02,\n",
      "        -3.0432e-02, -4.8867e-02,  6.9085e-03,  3.4850e-03,  3.5627e-02,\n",
      "         1.9799e-02, -1.1510e-02,  3.9081e-02,  8.9821e-03, -3.5860e-02,\n",
      "         1.6225e-02, -5.6558e-02, -2.5653e-02, -1.0586e-02, -1.7366e-02,\n",
      "        -3.0959e-02,  4.9523e-03,  4.6689e-02, -4.1063e-02, -4.4312e-02,\n",
      "        -2.5193e-02,  8.5957e-03, -6.5212e-02, -7.5814e-02, -2.5780e-02,\n",
      "         1.4081e-02,  4.6643e-02,  5.0503e-02,  4.2334e-02, -2.3785e-02,\n",
      "        -3.8376e-02,  3.8248e-02, -5.8942e-02,  4.9948e-03, -4.5991e-02,\n",
      "         8.3447e-07, -4.3606e-02, -4.8550e-02, -7.3361e-02, -1.0114e-02,\n",
      "         4.3443e-03, -3.3954e-02, -7.4856e-02, -5.3303e-02,  4.4357e-02,\n",
      "        -3.3132e-02,  2.2854e-02,  3.7101e-02,  3.1851e-02, -3.2198e-02,\n",
      "        -1.2199e-02, -4.8733e-02,  5.5743e-03, -7.4023e-03, -3.2607e-02,\n",
      "         4.4656e-02, -3.7079e-02,  4.7955e-02, -1.1954e-01, -4.1974e-02,\n",
      "         1.6644e-02,  5.0117e-02,  4.4426e-02, -1.3178e-01,  3.9641e-02,\n",
      "        -5.7255e-02, -1.4853e-02, -4.4115e-02,  3.0811e-02, -5.4034e-02,\n",
      "        -4.5013e-02, -5.3894e-02, -6.1885e-02, -3.8196e-02, -5.9040e-02,\n",
      "        -4.4411e-02], device='cuda:2'))\n",
      "('f3.weight', Parameter containing:\n",
      "tensor([[-0.0539, -0.0150,  0.0396,  0.0953, -0.0516, -0.0497, -0.0152,\n",
      "         -0.0343, -0.0613, -0.0554, -0.0098,  0.0158,  0.0974, -0.0595,\n",
      "          0.0035,  0.0189,  0.0355, -0.0334,  0.0271,  0.0814, -0.0068,\n",
      "         -0.0372,  0.0615, -0.0208, -0.0066, -0.0399, -0.0503,  0.0046,\n",
      "         -0.0319, -0.0321,  0.0356, -0.0086, -0.0403, -0.0443, -0.0478,\n",
      "          0.0022,  0.0784, -0.0368, -0.0341, -0.0044, -0.0136,  0.0555,\n",
      "          0.0921, -0.0467, -0.0071,  0.0096, -0.0401, -0.0273,  0.0221,\n",
      "         -0.0399,  0.0529,  0.0337,  0.0476,  0.0883,  0.1017, -0.0241,\n",
      "         -0.0030,  0.0997, -0.0515,  0.0874,  0.0800, -0.0531, -0.0052,\n",
      "          0.0004, -0.0053,  0.0665,  0.0596,  0.0997,  0.0694,  0.0147,\n",
      "          0.0406, -0.0127, -0.0319,  0.0520,  0.0392, -0.0194,  0.0124,\n",
      "          0.0628, -0.0089,  0.0716,  0.0239,  0.0309,  0.0578,  0.0944,\n",
      "         -0.0441,  0.0587, -0.0148, -0.0076, -0.0153,  0.0913,  0.0493,\n",
      "          0.0655,  0.0924,  0.0593,  0.0588, -0.0431, -0.0121,  0.0302,\n",
      "          0.0288, -0.0348,  0.0949, -0.0220, -0.0610,  0.0935,  0.0633,\n",
      "          0.0316,  0.0058,  0.0275, -0.0132,  0.0249, -0.0251, -0.0044,\n",
      "          0.0580,  0.0731, -0.0547,  0.0931, -0.0030, -0.0093,  0.0521,\n",
      "          0.0413,  0.0495,  0.0861, -0.0026, -0.0095, -0.0382, -0.0389,\n",
      "         -0.0098, -0.0022,  0.0063,  0.0399,  0.0086,  0.0894, -0.0317,\n",
      "         -0.0460, -0.0193, -0.0563, -0.0284, -0.0247,  0.0187, -0.0194,\n",
      "          0.0662,  0.0512, -0.0007, -0.0244, -0.0308, -0.0166,  0.0713,\n",
      "          0.0446,  0.1376,  0.0440, -0.0603,  0.0856, -0.0037, -0.0403,\n",
      "          0.0073,  0.0005,  0.1052,  0.0083, -0.0206,  0.0723, -0.0045,\n",
      "          0.1300,  0.0023, -0.0264,  0.0721,  0.0147,  0.0117,  0.0023,\n",
      "          0.0435,  0.0849, -0.0269,  0.0319, -0.0078, -0.0120,  0.0057,\n",
      "          0.0314,  0.0914,  0.0529,  0.0477,  0.0996,  0.0351, -0.0038,\n",
      "          0.0918, -0.0097, -0.0164,  0.0445, -0.0388,  0.0732,  0.0814,\n",
      "          0.0597, -0.0061, -0.0417,  0.0903, -0.0496, -0.0324, -0.0239,\n",
      "          0.0949, -0.0376,  0.0860, -0.0297,  0.0772, -0.0277, -0.0199,\n",
      "          0.0872,  0.0413, -0.0137, -0.0474, -0.0550,  0.0326,  0.1068,\n",
      "          0.0713, -0.0483,  0.0013,  0.1024,  0.0037,  0.0208,  0.0602,\n",
      "         -0.0321, -0.0093,  0.0259,  0.0596, -0.0115,  0.0400, -0.0375,\n",
      "          0.0864,  0.0817, -0.0240,  0.0759, -0.0267,  0.0878, -0.0172,\n",
      "          0.0920, -0.0402,  0.0785, -0.0428, -0.0036,  0.0162,  0.0882,\n",
      "          0.0822,  0.1326,  0.0033, -0.0475, -0.0341,  0.1042, -0.0149,\n",
      "          0.0294, -0.0113, -0.0524, -0.0268, -0.0244,  0.0246, -0.0528,\n",
      "         -0.0430, -0.0384, -0.0465,  0.0531]], device='cuda:2'))\n",
      "('f3.bias', Parameter containing:\n",
      "tensor(1.00000e-02 *\n",
      "       [-3.5670], device='cuda:2'))\n"
     ]
    }
   ],
   "source": [
    "for i in model.named_parameters():\n",
    "    print(i)"
   ]
  },
  {
   "cell_type": "code",
   "execution_count": 702,
   "metadata": {},
   "outputs": [
    {
     "data": {
      "text/plain": [
       "(15, 2)"
      ]
     },
     "execution_count": 702,
     "metadata": {},
     "output_type": "execute_result"
    }
   ],
   "source": [
    "Xs = np.sort(X,axis=0)\n",
    "Xs.shape"
   ]
  },
  {
   "cell_type": "code",
   "execution_count": 807,
   "metadata": {},
   "outputs": [
    {
     "data": {
      "text/plain": [
       "array([1.28382486, 1.57684359])"
      ]
     },
     "execution_count": 807,
     "metadata": {},
     "output_type": "execute_result"
    }
   ],
   "source": [
    "Xs[:2,0]"
   ]
  },
  {
   "cell_type": "code",
   "execution_count": 710,
   "metadata": {},
   "outputs": [],
   "source": [
    "files_dataset = csvDataset(Xs[:,0].reshape(-1,1),Xs[:,1].reshape(-1,1),transform= ToTensor())\n",
    "finals_loader = torch.utils.data.DataLoader(files_dataset,batch_size=1 ,shuffle=False)"
   ]
  },
  {
   "cell_type": "code",
   "execution_count": 831,
   "metadata": {},
   "outputs": [],
   "source": [
    "class Maxout(nn.Module):\n",
    "\n",
    "    def __init__(self, d_in, d_out, pool_size):\n",
    "        super().__init__()\n",
    "        self.d_in, self.d_out, self.pool_size = d_in, d_out, pool_size\n",
    "        self.lin = nn.Linear(d_in, d_out * pool_size)\n",
    "\n",
    "\n",
    "    def forward(self, inputs):\n",
    "        shape = list(inputs.size())\n",
    "        shape[-1] = self.d_out\n",
    "        shape.append(self.pool_size)\n",
    "        max_dim = len(shape) - 1\n",
    "        out = self.lin(inputs)\n",
    "        out = out.view(*shape)\n",
    "        \n",
    "        a = np.random.rand(self.pool_size)\n",
    "        for i in range(self.pool_size):\n",
    "            if a[i]>1:\n",
    "                out[:,:,i]=-20\n",
    "        \n",
    "        if inputs<2:\n",
    "            out[:,:,1:]=-20\n",
    "                \n",
    "        elif (inputs < 3):\n",
    "            out[:,:,0]=-20\n",
    "            out[:,:,2]=-20\n",
    "                \n",
    "        else:\n",
    "            out[:,:,:2]=-20\n",
    "                \n",
    "        m, i = out.max(max_dim)\n",
    "        return m\n",
    "    \n",
    "class maxout_Net(nn.Module):\n",
    "    def __init__(self,h,n):\n",
    "        super(type(self), self).__init__()\n",
    "        self.f1 = Maxout(h, h, n)\n",
    "    def forward(self, x):\n",
    "        out = x\n",
    "        out = self.f1(out)\n",
    "        return out"
   ]
  },
  {
   "cell_type": "code",
   "execution_count": 832,
   "metadata": {},
   "outputs": [],
   "source": [
    "model = maxout_Net(1,3)\n",
    "model = model.float().cuda()\n",
    "optimizer = optim.Adam(model.parameters(), weight_decay=0)\n",
    "criterion = F.mse_loss\n",
    "\n",
    "\n",
    "\n",
    "model, error= train_model_cc_fast(model, finals_loader,finals_loader, criterion, optimizer,X[:,0].shape[0], num_epochs=1000)"
   ]
  },
  {
   "cell_type": "code",
   "execution_count": null,
   "metadata": {},
   "outputs": [],
   "source": []
  },
  {
   "cell_type": "code",
   "execution_count": 833,
   "metadata": {},
   "outputs": [],
   "source": [
    "ypred = [model.forward(xx[i].reshape(1,1)).cpu().detach().numpy() for i in range(xx.shape[0])]\n",
    "ypred=np.array(ypred).reshape(400)"
   ]
  },
  {
   "cell_type": "code",
   "execution_count": 834,
   "metadata": {},
   "outputs": [
    {
     "data": {
      "text/plain": [
       "(400,)"
      ]
     },
     "execution_count": 834,
     "metadata": {},
     "output_type": "execute_result"
    }
   ],
   "source": [
    "ypred.shape"
   ]
  },
  {
   "cell_type": "code",
   "execution_count": 835,
   "metadata": {},
   "outputs": [
    {
     "data": {
      "text/plain": [
       "[<matplotlib.lines.Line2D at 0x7f154847ac18>]"
      ]
     },
     "execution_count": 835,
     "metadata": {},
     "output_type": "execute_result"
    },
    {
     "data": {
      "image/png": "[encoded data removed]",
      "text/plain": [
       "<Figure size 432x288 with 1 Axes>"
      ]
     },
     "metadata": {
      "needs_background": "light"
     },
     "output_type": "display_data"
    }
   ],
   "source": [
    "plt.scatter(X[:,0],X[:,1])\n",
    "#plt.plot(x,y)\n",
    "plt.plot(x,ypred)"
   ]
  },
  {
   "cell_type": "code",
   "execution_count": 836,
   "metadata": {},
   "outputs": [
    {
     "name": "stdout",
     "output_type": "stream",
     "text": [
      "('f1.lin.weight', Parameter containing:\n",
      "tensor([[ 1.7871],\n",
      "        [ 3.5782],\n",
      "        [ 6.3711]], device='cuda:2'))\n",
      "('f1.lin.bias', Parameter containing:\n",
      "tensor([ 2.2130,  4.0540,  4.7019], device='cuda:2'))\n"
     ]
    }
   ],
   "source": [
    "for i in model.named_parameters():\n",
    "    print(i)"
   ]
  },
  {
   "cell_type": "code",
   "execution_count": 837,
   "metadata": {},
   "outputs": [
    {
     "data": {
      "text/plain": [
       "(27.000774, 3.5, 21.86725)"
      ]
     },
     "execution_count": 837,
     "metadata": {},
     "output_type": "execute_result"
    }
   ],
   "source": [
    "ypred[350],x[350],3.5*4.9175+4.656"
   ]
  },
  {
   "cell_type": "code",
   "execution_count": 838,
   "metadata": {},
   "outputs": [
    {
     "data": {
      "text/plain": [
       "(12.999441, 2.5, 12.893749999999999)"
      ]
     },
     "execution_count": 838,
     "metadata": {},
     "output_type": "execute_result"
    }
   ],
   "source": [
    "ypred[250],x[250],2.5*3.6955+3.655"
   ]
  },
  {
   "cell_type": "code",
   "execution_count": null,
   "metadata": {},
   "outputs": [],
   "source": []
  }
 ],
 "metadata": {
  "kernelspec": {
   "display_name": "Python 3",
   "language": "python",
   "name": "python3"
  },
  "language_info": {
   "codemirror_mode": {
    "name": "ipython",
    "version": 3
   },
   "file_extension": ".py",
   "mimetype": "text/x-python",
   "name": "python",
   "nbconvert_exporter": "python",
   "pygments_lexer": "ipython3",
   "version": "3.6.6"
  }
 },
 "nbformat": 4,
 "nbformat_minor": 2
}
