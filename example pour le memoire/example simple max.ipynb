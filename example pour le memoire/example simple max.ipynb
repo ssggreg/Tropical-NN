{
 "cells": [
  {
   "cell_type": "code",
   "execution_count": 1,
   "metadata": {},
   "outputs": [
    {
     "name": "stdout",
     "output_type": "stream",
     "text": [
      "explained variance ratio (first two components): [0.92461872 0.05306648]\n"
     ]
    }
   ],
   "source": [
    "import matplotlib.pyplot as plt\n",
    "import numpy as np\n",
    "from sklearn import datasets\n",
    "from sklearn.decomposition import PCA\n",
    "from sklearn.discriminant_analysis import LinearDiscriminantAnalysis\n",
    "\n",
    "iris = datasets.load_iris()\n",
    "\n",
    "X = iris.data\n",
    "y = iris.target\n",
    "target_names = iris.target_names\n",
    "\n",
    "pca = PCA(n_components=2)\n",
    "X_r = pca.fit(X).transform(X)\n",
    "\n",
    "lda = LinearDiscriminantAnalysis(n_components=2)\n",
    "X_r2 = lda.fit(X, y).transform(X)\n",
    "\n",
    "# Percentage of variance explained for each components\n",
    "print('explained variance ratio (first two components): %s'\n",
    "      % str(pca.explained_variance_ratio_))\n"
   ]
  },
  {
   "cell_type": "code",
   "execution_count": 2,
   "metadata": {},
   "outputs": [],
   "source": [
    "x= np.arange(0,4,0.01)\n",
    "y= np.exp(x)"
   ]
  },
  {
   "cell_type": "code",
   "execution_count": 3,
   "metadata": {},
   "outputs": [
    {
     "data": {
      "text/plain": [
       "[<matplotlib.lines.Line2D at 0x7f31ca80ef98>]"
      ]
     },
     "execution_count": 3,
     "metadata": {},
     "output_type": "execute_result"
    },
    {
     "data": {
      "image/png": "[encoded data removed]",
      "text/plain": [
       "<Figure size 432x288 with 1 Axes>"
      ]
     },
     "metadata": {
      "needs_background": "light"
     },
     "output_type": "display_data"
    }
   ],
   "source": [
    "plt.plot(x,y)"
   ]
  },
  {
   "cell_type": "code",
   "execution_count": 4,
   "metadata": {},
   "outputs": [],
   "source": [
    "import numpy as np\n",
    "from sklearn.datasets.samples_generator import make_blobs\n",
    "import matplotlib.pyplot as plt\n",
    "from sklearn.datasets import make_classification\n",
    "from sklearn.metrics.pairwise import euclidean_distances"
   ]
  },
  {
   "cell_type": "code",
   "execution_count": 5,
   "metadata": {},
   "outputs": [],
   "source": [
    "circle = np.array([[x,np.exp(x)] for x in (np.random.rand(30)*2+1.5)])\n",
    "X, Y = make_blobs(n_samples=15, centers=circle, n_features=2,\n",
    "                 random_state=0,cluster_std =0.1)\n",
    "r = np.random.uniform(-2,2,(200,2))\n",
    "lr = (np.min(euclidean_distances(circle,r),axis = 0)>0.1)*1.\n",
    "Xtrain = np.concatenate((r,X))\n",
    "Ytrain = np.concatenate((lr,np.zeros(70))).astype(float)\n",
    "Xtrain.shape,Ytrain.shape\n",
    "Ytrain = Ytrain.reshape(-1,1)\n",
    "Ytrain.shape\n",
    "t = np.linspace(-2, 2,100, endpoint=False)\n",
    "T = np.zeros((10100,2))\n",
    "a=0\n",
    "for i in t:\n",
    "    for j in t:\n",
    "        T[a]=np.array([i,j])\n",
    "        a+=1\n",
    "    a+=1"
   ]
  },
  {
   "cell_type": "code",
   "execution_count": 6,
   "metadata": {},
   "outputs": [
    {
     "data": {
      "text/plain": [
       "[<matplotlib.lines.Line2D at 0x7f31c8102c88>]"
      ]
     },
     "execution_count": 6,
     "metadata": {},
     "output_type": "execute_result"
    },
    {
     "data": {
      "image/png": "[encoded data removed]",
      "text/plain": [
       "<Figure size 432x288 with 1 Axes>"
      ]
     },
     "metadata": {
      "needs_background": "light"
     },
     "output_type": "display_data"
    }
   ],
   "source": [
    "plt.scatter(X[:,0],X[:,1])\n",
    "plt.plot(x,y)"
   ]
  },
  {
   "cell_type": "markdown",
   "metadata": {},
   "source": [
    "plt.figure()\n",
    "colors = ['navy', 'turquoise', 'darkorange']\n",
    "lw = 2\n",
    "\n",
    "for color, i, target_name in zip(colors, [0, 1, 2], target_names):\n",
    "    plt.scatter(X_r[y == i, 0], X_r[y == i, 1], color=color, alpha=.8, lw=lw,\n",
    "                label=target_name)\n",
    "plt.legend(loc='best', shadow=False, scatterpoints=1)\n",
    "\n",
    "plt.scatter(x,f1(x),alpha=.1,)\n",
    "plt.scatter(x,f2(x))\n",
    "plt.scatter(x,f3(x))\n",
    "plt.ylim((-2,4))\n",
    "plt.title('PCA of IRIS dataset')\n",
    "\n"
   ]
  },
  {
   "cell_type": "markdown",
   "metadata": {},
   "source": [
    "plt.figure()\n",
    "for color, i, target_name in zip(colors, [0, 1, 2], target_names):\n",
    "    plt.scatter(X_r2[y == i, 0], X_r2[y == i, 1], alpha=.8, color=color,\n",
    "                label=target_name)\n",
    "plt.legend(loc='best', shadow=False, scatterpoints=1)\n",
    "plt.title('LDA of IRIS dataset')\n",
    "\n",
    "plt.show()"
   ]
  },
  {
   "cell_type": "code",
   "execution_count": 7,
   "metadata": {},
   "outputs": [],
   "source": [
    "import numpy as np\n",
    "import torch\n",
    "import torch.nn as nn\n",
    "import torch.optim as optim\n",
    "import matplotlib.pyplot as plt\n",
    "import seaborn as sns\n",
    "import pandas as pd\n",
    "import torch.nn.functional as F\n",
    "from torch.utils.data.dataloader import DataLoader\n",
    "from torch.optim.optimizer import Optimizer"
   ]
  },
  {
   "cell_type": "code",
   "execution_count": 8,
   "metadata": {},
   "outputs": [],
   "source": [
    "torch.cuda.set_device(2)"
   ]
  },
  {
   "cell_type": "code",
   "execution_count": 9,
   "metadata": {},
   "outputs": [],
   "source": [
    "class csvDataset():\n",
    "    def __init__(self, data,label, transform=None):\n",
    "        self.label = label\n",
    "        self.data = data\n",
    "        #self.train_set = TensorDataset()\n",
    "        self.transform = transform\n",
    "    def __len__(self):\n",
    "        return len(self.data)\n",
    "    def __getitem__(self, idx):\n",
    "        data = self.data[idx]\n",
    "        label = self.label[idx]\n",
    "        sample = { 'data': data,'label': label}\n",
    "        if self.transform:\n",
    "            sample = self.transform(sample)\n",
    "        return sample\n",
    "    \n",
    "class ToTensor(object):\n",
    "    def __call__(self, sample):\n",
    "        data, label= sample['data'],sample['label']\n",
    "        return {'data': torch.from_numpy(data).float(),'label': torch.from_numpy(label).float()}"
   ]
  },
  {
   "cell_type": "code",
   "execution_count": 10,
   "metadata": {},
   "outputs": [],
   "source": [
    "def train_model_cc_fast(model, trainloader,inference_loader, criterion, optimizer,size, num_epochs=25):\n",
    "    train_accuracy = []\n",
    "    for epoch in range(num_epochs):\n",
    "        model.train(True)\n",
    "        for i in trainloader:\n",
    "            inputs = i['data']\n",
    "            labels = i['label']\n",
    "            inputs, labels = inputs.cuda(), labels.cuda()\n",
    "            def closure():\n",
    "                optimizer.zero_grad()\n",
    "                logits = model.forward(inputs)\n",
    "                loss = criterion(logits,labels)\n",
    "                loss.backward()\n",
    "                return loss\n",
    "            loss = optimizer.step(closure)\n",
    "\n",
    "        train_accuracy.append(accuracy(model, trainloader,size))\n",
    "\n",
    "        \n",
    "    return model, train_accuracy"
   ]
  },
  {
   "cell_type": "code",
   "execution_count": 11,
   "metadata": {},
   "outputs": [],
   "source": [
    "def accuracy(model, dataloader,size):\n",
    "    \"\"\" Computes the model's classification accuracy on the train dataset\n",
    "    Computes classification accuracy and loss(optional) on the test dataset\n",
    "    The model should return logits\n",
    "    \"\"\"\n",
    "    model.eval()\n",
    "    with torch.no_grad():\n",
    "        error = 0.\n",
    "        for i in (dataloader):\n",
    "            inputs = i['data']\n",
    "            labels = i['label']\n",
    "            inputs, labels = inputs.cuda(), labels.cuda()\n",
    "            pred = model(inputs).cpu().numpy()\n",
    "            labels = labels.cpu().numpy()\n",
    "            error+= (np.sum((pred-labels)**2))\n",
    "            \n",
    "    accuracy = error / size\n",
    "    return accuracy"
   ]
  },
  {
   "cell_type": "code",
   "execution_count": 12,
   "metadata": {},
   "outputs": [],
   "source": [
    "\n",
    "file_dataset = csvDataset(X[:,0].reshape(-1,1),X[:,1].reshape(-1,1),transform= ToTensor())\n",
    "final_loader = torch.utils.data.DataLoader(file_dataset,batch_size=1 ,shuffle=True)"
   ]
  },
  {
   "cell_type": "code",
   "execution_count": 13,
   "metadata": {},
   "outputs": [],
   "source": [
    "class nettt(nn.Module):\n",
    "    def __init__(self,h):\n",
    "        super(type(self), self).__init__()\n",
    "        self.f1 = nn.Linear(1, h)\n",
    "        self.f2 = nn.Linear(h, h)\n",
    "        self.f3 = nn.Linear(h,  1)\n",
    "    def forward(self, x):\n",
    "        out = x\n",
    "        out = F.relu(self.f1(out))\n",
    "        out = F.relu(self.f2(out))\n",
    "        out = self.f3(out)\n",
    "        return out"
   ]
  },
  {
   "cell_type": "code",
   "execution_count": 14,
   "metadata": {},
   "outputs": [],
   "source": [
    "torch.cuda.set_device(2)"
   ]
  },
  {
   "cell_type": "code",
   "execution_count": 15,
   "metadata": {},
   "outputs": [],
   "source": [
    "\n",
    "model = nettt(256)\n",
    "model = model.float().cuda()\n",
    "optimizer = optim.Adam(model.parameters(), weight_decay=0)\n",
    "criterion = F.mse_loss\n",
    "model, error= train_model_cc_fast(model, final_loader,final_loader, criterion, optimizer,X[:,0].shape[0], num_epochs=100)"
   ]
  },
  {
   "cell_type": "code",
   "execution_count": 16,
   "metadata": {},
   "outputs": [
    {
     "name": "stdout",
     "output_type": "stream",
     "text": [
      "f1.weight torch.Size([256, 1])\n",
      "f1.bias torch.Size([256])\n",
      "f2.weight torch.Size([256, 256])\n",
      "f2.bias torch.Size([256])\n",
      "f3.weight torch.Size([1, 256])\n",
      "f3.bias torch.Size([1])\n"
     ]
    }
   ],
   "source": [
    "for a,i in model.named_parameters():\n",
    "    print(a,i.shape)"
   ]
  },
  {
   "cell_type": "code",
   "execution_count": null,
   "metadata": {},
   "outputs": [],
   "source": []
  },
  {
   "cell_type": "code",
   "execution_count": 17,
   "metadata": {},
   "outputs": [
    {
     "data": {
      "text/plain": [
       "[<matplotlib.lines.Line2D at 0x7f31b9027a20>]"
      ]
     },
     "execution_count": 17,
     "metadata": {},
     "output_type": "execute_result"
    },
    {
     "data": {
      "image/png": "[encoded data removed]",
      "text/plain": [
       "<Figure size 432x288 with 1 Axes>"
      ]
     },
     "metadata": {
      "needs_background": "light"
     },
     "output_type": "display_data"
    }
   ],
   "source": [
    "plt.plot(error)"
   ]
  },
  {
   "cell_type": "code",
   "execution_count": 18,
   "metadata": {},
   "outputs": [],
   "source": [
    "xx = torch.from_numpy(x).float().cuda().reshape(-1,1)"
   ]
  },
  {
   "cell_type": "code",
   "execution_count": 19,
   "metadata": {},
   "outputs": [],
   "source": [
    "ypred = model.forward(xx).cpu().detach().numpy()"
   ]
  },
  {
   "cell_type": "code",
   "execution_count": 20,
   "metadata": {},
   "outputs": [],
   "source": [
    "ypredb=np.array([ypred[i+1] for i in range(399)])"
   ]
  },
  {
   "cell_type": "code",
   "execution_count": 21,
   "metadata": {},
   "outputs": [
    {
     "data": {
      "text/plain": [
       "(array([112.,   7.,   9.,   5.,   5.,   9.,  12.,  51.,  30., 159.]),\n",
       " array([-0.00040307,  0.01302358,  0.02645024,  0.03987689,  0.05330354,\n",
       "         0.06673019,  0.08015684,  0.09358349,  0.10701015,  0.1204368 ,\n",
       "         0.13386345], dtype=float32),\n",
       " <a list of 10 Patch objects>)"
      ]
     },
     "execution_count": 21,
     "metadata": {},
     "output_type": "execute_result"
    },
    {
     "data": {
      "image/png": "[encoded data removed]",
      "text/plain": [
       "<Figure size 432x288 with 1 Axes>"
      ]
     },
     "metadata": {
      "needs_background": "light"
     },
     "output_type": "display_data"
    }
   ],
   "source": [
    "plt.hist(ypredb-ypred[:399])"
   ]
  },
  {
   "cell_type": "code",
   "execution_count": 22,
   "metadata": {},
   "outputs": [],
   "source": [
    "def f(x):\n",
    "    return np.amax((0,7*x-6,17*x-31))"
   ]
  },
  {
   "cell_type": "code",
   "execution_count": 23,
   "metadata": {},
   "outputs": [],
   "source": [
    "import seaborn as sns"
   ]
  },
  {
   "cell_type": "code",
   "execution_count": 24,
   "metadata": {},
   "outputs": [],
   "source": [
    "sns.set()"
   ]
  },
  {
   "cell_type": "code",
   "execution_count": 25,
   "metadata": {},
   "outputs": [
    {
     "data": {
      "text/plain": [
       "[<matplotlib.lines.Line2D at 0x7f31b6918be0>]"
      ]
     },
     "execution_count": 25,
     "metadata": {},
     "output_type": "execute_result"
    },
    {
     "data": {
      "image/png": "[encoded data removed]",
      "text/plain": [
       "<Figure size 432x288 with 1 Axes>"
      ]
     },
     "metadata": {},
     "output_type": "display_data"
    }
   ],
   "source": [
    "plt.plot(x-2,np.maximum(0,x-2))"
   ]
  },
  {
   "cell_type": "code",
   "execution_count": 50,
   "metadata": {},
   "outputs": [],
   "source": [
    "yy= np.array([f(0.01*i) for i in range(400)])\n",
    "y1= np.array([0.01*i*0+0.1 for i in range(400)])\n",
    "y2= np.array([0.01*i*7-6 for i in range(400)])\n",
    "y3= np.array([0.01*i*17-31 for i in range(400)])\n"
   ]
  },
  {
   "cell_type": "code",
   "execution_count": 51,
   "metadata": {},
   "outputs": [],
   "source": [
    "a=[6/7,25/10]\n",
    "b=[0+0.1,7*25/10-6+0.1]"
   ]
  },
  {
   "cell_type": "code",
   "execution_count": 66,
   "metadata": {},
   "outputs": [
    {
     "data": {
      "text/plain": [
       "(-10, 30)"
      ]
     },
     "execution_count": 66,
     "metadata": {},
     "output_type": "execute_result"
    },
    {
     "data": {
      "image/png": "[encoded data removed]",
      "text/plain": [
       "<Figure size 432x288 with 1 Axes>"
      ]
     },
     "metadata": {},
     "output_type": "display_data"
    }
   ],
   "source": [
    "#plt.scatter(X[:,0],X[:,1])\n",
    "#plt.plot(x,y)\n",
    "#plt.plot(x[:370],y[:370],'k--')\n",
    "plt.scatter(a,b,color='orange')\n",
    "plt.plot(x,yy,color='orange',lw=4)\n",
    "plt.plot(x,y1,'k--')\n",
    "plt.plot(x,y2,'k--')\n",
    "plt.plot(x,y3,'k--')\n",
    "plt.fill_between(x,40,yy)\n",
    "plt.ylim(-10,30)"
   ]
  },
  {
   "cell_type": "code",
   "execution_count": null,
   "metadata": {},
   "outputs": [],
   "source": []
  },
  {
   "cell_type": "code",
   "execution_count": 29,
   "metadata": {},
   "outputs": [
    {
     "name": "stdout",
     "output_type": "stream",
     "text": [
      "('f1.weight', Parameter containing:\n",
      "tensor([[-0.7947],\n",
      "        [ 0.9838],\n",
      "        [ 0.3175],\n",
      "        [ 0.4564],\n",
      "        [ 0.6098],\n",
      "        [-0.5931],\n",
      "        [-0.2096],\n",
      "        [-0.8323],\n",
      "        [-0.7350],\n",
      "        [-0.4630],\n",
      "        [ 0.2010],\n",
      "        [ 0.8110],\n",
      "        [ 0.8200],\n",
      "        [ 0.6592],\n",
      "        [ 1.0000],\n",
      "        [ 0.2429],\n",
      "        [-0.0685],\n",
      "        [ 0.0226],\n",
      "        [-0.1945],\n",
      "        [-0.2693],\n",
      "        [-0.2641],\n",
      "        [-0.2962],\n",
      "        [-0.4278],\n",
      "        [ 0.5148],\n",
      "        [-0.9886],\n",
      "        [-0.5017],\n",
      "        [-0.9996],\n",
      "        [-0.1535],\n",
      "        [ 0.6564],\n",
      "        [ 0.3153],\n",
      "        [ 0.9563],\n",
      "        [-0.6274],\n",
      "        [ 0.0946],\n",
      "        [-0.1167],\n",
      "        [-0.3181],\n",
      "        [-0.8312],\n",
      "        [ 0.1093],\n",
      "        [-0.8458],\n",
      "        [ 0.0785],\n",
      "        [-0.8423],\n",
      "        [-0.8512],\n",
      "        [-0.7371],\n",
      "        [-0.5811],\n",
      "        [-0.0376],\n",
      "        [-0.7363],\n",
      "        [-0.2603],\n",
      "        [ 0.2605],\n",
      "        [ 0.7044],\n",
      "        [-0.4497],\n",
      "        [ 0.7772],\n",
      "        [ 0.9188],\n",
      "        [-0.1876],\n",
      "        [ 0.5476],\n",
      "        [-0.9335],\n",
      "        [ 0.8264],\n",
      "        [ 0.7060],\n",
      "        [ 0.2342],\n",
      "        [ 0.6631],\n",
      "        [-0.7728],\n",
      "        [ 0.6862],\n",
      "        [-0.5144],\n",
      "        [ 0.8075],\n",
      "        [-0.8124],\n",
      "        [ 0.6085],\n",
      "        [-0.8518],\n",
      "        [-0.5785],\n",
      "        [ 0.4640],\n",
      "        [-0.7633],\n",
      "        [ 0.5800],\n",
      "        [-0.5214],\n",
      "        [ 0.1024],\n",
      "        [-0.7961],\n",
      "        [-0.6271],\n",
      "        [ 0.4297],\n",
      "        [ 0.8388],\n",
      "        [ 0.5847],\n",
      "        [ 0.2576],\n",
      "        [ 0.1069],\n",
      "        [ 0.0951],\n",
      "        [ 0.8282],\n",
      "        [-0.3695],\n",
      "        [ 0.6549],\n",
      "        [ 0.5564],\n",
      "        [-0.8960],\n",
      "        [ 0.1852],\n",
      "        [-0.4359],\n",
      "        [ 0.4970],\n",
      "        [ 0.6340],\n",
      "        [-0.3911],\n",
      "        [-0.4745],\n",
      "        [-0.9346],\n",
      "        [-0.4530],\n",
      "        [-0.0110],\n",
      "        [-0.7229],\n",
      "        [-0.4663],\n",
      "        [ 0.5490],\n",
      "        [ 0.1519],\n",
      "        [ 0.1198],\n",
      "        [ 0.7597],\n",
      "        [-0.2483],\n",
      "        [-0.8065],\n",
      "        [ 0.2066],\n",
      "        [-0.7394],\n",
      "        [ 0.9015],\n",
      "        [ 0.0791],\n",
      "        [ 0.4330],\n",
      "        [ 0.6497],\n",
      "        [ 0.6520],\n",
      "        [ 0.7761],\n",
      "        [-0.2444],\n",
      "        [ 0.7800],\n",
      "        [-0.2280],\n",
      "        [ 0.4466],\n",
      "        [ 0.2130],\n",
      "        [ 0.3533],\n",
      "        [ 0.7372],\n",
      "        [ 0.1719],\n",
      "        [-0.0494],\n",
      "        [ 0.5931],\n",
      "        [ 0.7047],\n",
      "        [-0.6238],\n",
      "        [-0.5313],\n",
      "        [-0.8923],\n",
      "        [-0.6333],\n",
      "        [ 0.7999],\n",
      "        [ 0.3328],\n",
      "        [-0.4653],\n",
      "        [-0.3243],\n",
      "        [-0.6079],\n",
      "        [ 0.4314],\n",
      "        [ 0.0960],\n",
      "        [ 0.6983],\n",
      "        [ 0.3390],\n",
      "        [ 0.9344],\n",
      "        [-0.3002],\n",
      "        [ 0.8966],\n",
      "        [-0.2524],\n",
      "        [ 0.1627],\n",
      "        [ 0.9725],\n",
      "        [-0.5296],\n",
      "        [-0.8497],\n",
      "        [ 0.8413],\n",
      "        [-0.2225],\n",
      "        [-0.1686],\n",
      "        [ 0.8866],\n",
      "        [-0.4673],\n",
      "        [ 0.3110],\n",
      "        [ 0.0529],\n",
      "        [-0.7672],\n",
      "        [ 0.6012],\n",
      "        [ 0.9336],\n",
      "        [ 0.1240],\n",
      "        [ 0.8173],\n",
      "        [ 0.2716],\n",
      "        [ 0.5092],\n",
      "        [-0.5192],\n",
      "        [-0.4720],\n",
      "        [-0.4493],\n",
      "        [ 0.0309],\n",
      "        [-0.1871],\n",
      "        [-0.5466],\n",
      "        [-0.2725],\n",
      "        [-0.3362],\n",
      "        [-0.9718],\n",
      "        [-0.9968],\n",
      "        [-0.4498],\n",
      "        [ 0.0080],\n",
      "        [-0.6056],\n",
      "        [ 0.0537],\n",
      "        [-0.8008],\n",
      "        [-0.0282],\n",
      "        [ 0.6461],\n",
      "        [ 0.9607],\n",
      "        [ 0.9311],\n",
      "        [-0.5813],\n",
      "        [ 0.7910],\n",
      "        [-0.5261],\n",
      "        [ 0.2486],\n",
      "        [ 0.1390],\n",
      "        [-0.4183],\n",
      "        [ 0.5386],\n",
      "        [-0.1664],\n",
      "        [ 0.7348],\n",
      "        [ 0.0701],\n",
      "        [-0.3300],\n",
      "        [-0.9762],\n",
      "        [-0.1803],\n",
      "        [-0.2127],\n",
      "        [ 0.5764],\n",
      "        [-0.6557],\n",
      "        [ 0.6131],\n",
      "        [-0.2018],\n",
      "        [ 0.7056],\n",
      "        [-0.7229],\n",
      "        [ 0.8065],\n",
      "        [-0.7544],\n",
      "        [-0.0883],\n",
      "        [-0.1172],\n",
      "        [ 0.7268],\n",
      "        [ 0.6612],\n",
      "        [-0.0580],\n",
      "        [-0.2306],\n",
      "        [ 0.3019],\n",
      "        [ 0.9291],\n",
      "        [-0.9877],\n",
      "        [-0.4822],\n",
      "        [-0.4100],\n",
      "        [ 0.9454],\n",
      "        [ 0.6571],\n",
      "        [ 0.2098],\n",
      "        [ 0.9012],\n",
      "        [-0.7782],\n",
      "        [ 0.6187],\n",
      "        [-0.6062],\n",
      "        [-0.3937],\n",
      "        [-0.5248],\n",
      "        [-0.6265],\n",
      "        [-0.9244],\n",
      "        [ 0.5743],\n",
      "        [ 0.1519],\n",
      "        [ 0.9270],\n",
      "        [ 0.4918],\n",
      "        [-0.5764],\n",
      "        [-0.0739],\n",
      "        [-0.1664],\n",
      "        [ 0.5043],\n",
      "        [-0.2720],\n",
      "        [ 0.0171],\n",
      "        [ 0.9809],\n",
      "        [ 0.1708],\n",
      "        [-0.9314],\n",
      "        [ 0.5592],\n",
      "        [-0.4282],\n",
      "        [ 0.8883],\n",
      "        [ 0.0006],\n",
      "        [ 0.1792],\n",
      "        [ 0.8059],\n",
      "        [-0.0491],\n",
      "        [-0.0209],\n",
      "        [ 0.3879],\n",
      "        [-0.0024],\n",
      "        [ 1.0008],\n",
      "        [ 0.5831],\n",
      "        [ 0.4307],\n",
      "        [ 0.7154],\n",
      "        [ 0.4528],\n",
      "        [-0.5285],\n",
      "        [-0.9290],\n",
      "        [ 0.5528],\n",
      "        [ 0.9981],\n",
      "        [ 0.1275],\n",
      "        [ 0.4187],\n",
      "        [ 0.7539],\n",
      "        [-0.9319],\n",
      "        [ 0.4340],\n",
      "        [ 0.2247]], device='cuda:2'))\n",
      "('f1.bias', Parameter containing:\n",
      "tensor([-0.9734, -0.6761,  0.1772, -0.9561,  0.7577,  0.2313,  0.8059,\n",
      "         0.0344, -0.6382, -0.6792,  0.9265,  0.8649,  0.2334, -1.0245,\n",
      "         0.6952, -0.1567, -0.2249, -0.8695,  0.8605,  0.1866, -0.5957,\n",
      "         1.1042, -0.6714,  0.9042,  0.8713,  0.0725, -0.7891,  0.6306,\n",
      "         0.2675, -0.1646,  0.3629, -0.2046, -0.9425, -0.9873,  0.2615,\n",
      "         0.5870,  0.0345, -0.8320, -0.6789,  0.8181,  0.6296, -0.8642,\n",
      "        -0.6657,  0.8517,  0.7396,  1.0325,  0.8897,  0.8368,  0.5492,\n",
      "         0.5742, -0.0233, -0.5541, -0.6180,  0.8537,  0.3173, -0.7322,\n",
      "         0.8520, -0.5163, -0.9262,  0.8890, -0.2322,  0.1533, -0.4931,\n",
      "        -0.6261,  0.6230, -0.0992,  0.9421, -0.9517, -0.2369, -0.3346,\n",
      "        -0.7062, -0.8082,  0.9522, -0.9038, -0.6886, -0.1218, -0.2848,\n",
      "         0.3874, -0.3675,  0.2490, -0.1277, -0.9640, -0.9386,  0.5223,\n",
      "        -0.8203, -0.2633,  0.2346, -0.1818, -0.4816,  0.2403,  0.7367,\n",
      "         0.4870, -0.4716, -0.6434,  0.6742, -0.3639,  0.7147,  0.1828,\n",
      "        -0.4663,  0.9413,  0.5054, -0.1755,  0.6114, -1.0391, -0.0267,\n",
      "        -0.1947,  0.6334,  0.2720, -0.9418,  0.1327, -0.2436, -0.2351,\n",
      "        -0.3107,  0.0688, -0.4697,  0.1645,  0.5760,  0.2583,  0.4216,\n",
      "         0.2389,  0.2658,  0.6317,  0.4170,  0.4209, -0.0087, -0.7051,\n",
      "        -0.6138,  0.3530,  0.1971,  0.3648, -0.1013,  0.3630,  0.0332,\n",
      "        -0.3394, -0.2941, -1.0182, -0.7029, -0.6473,  0.0708, -0.1361,\n",
      "        -0.8912,  0.4273, -0.5269, -0.8379,  0.3429,  0.6701,  0.0641,\n",
      "         0.0251, -0.9144, -0.0506, -0.1564,  0.3291, -0.3694, -0.9633,\n",
      "         0.7877, -0.0343, -0.1901, -0.1681, -0.3186,  0.7905, -0.3783,\n",
      "         1.0148, -0.4846, -0.7266,  0.3311,  0.3212, -0.5684, -0.5449,\n",
      "         0.6832,  0.9095,  0.5452,  0.4199,  0.3985,  0.0767, -0.3866,\n",
      "         0.5634,  0.9059, -0.9309,  0.5541, -0.2291, -0.4158,  0.0393,\n",
      "         0.3952, -0.3361, -0.8742, -0.8635, -0.9354, -0.9841, -0.0994,\n",
      "         0.4552, -0.7972,  0.3113,  0.2553,  0.5761,  0.2845, -0.5100,\n",
      "        -0.6639, -0.3018,  0.8474,  0.9494,  0.3961, -0.2054, -0.6350,\n",
      "         0.6417,  0.2028, -0.5082, -0.6962, -0.2953,  0.3659,  0.2573,\n",
      "        -0.0952, -0.0728, -0.6258,  0.1395, -0.6243,  0.8358, -0.3015,\n",
      "        -0.7385,  0.6209,  0.1116,  0.5710, -0.5946,  0.5634,  0.4950,\n",
      "         0.6783,  0.2837,  1.0229,  0.4535,  0.1467,  0.8810,  0.7600,\n",
      "         0.0268, -0.0758,  0.8007,  0.8980,  0.7652,  0.8072, -0.8017,\n",
      "        -0.1855, -0.5626, -0.8995, -0.8221, -0.6665, -0.9033, -1.0566,\n",
      "        -0.2259,  0.1699, -0.5093, -0.9127, -0.7658,  0.2367, -0.8792,\n",
      "        -0.2116,  0.5865, -0.0382,  0.9479], device='cuda:2'))\n",
      "('f2.weight', Parameter containing:\n",
      "tensor([[-1.0569e-02,  1.3800e-02,  5.7922e-02,  ...,  4.7313e-02,\n",
      "          5.9258e-02,  2.6512e-02],\n",
      "        [ 1.8438e-02, -5.4819e-02, -5.1328e-02,  ...,  2.4377e-02,\n",
      "          3.7232e-02, -3.4620e-02],\n",
      "        [-6.0489e-02,  5.5408e-02, -4.8515e-02,  ..., -4.2315e-02,\n",
      "          9.5641e-03, -5.8082e-02],\n",
      "        ...,\n",
      "        [-3.5364e-02, -2.6687e-02,  3.4221e-02,  ..., -1.0257e-02,\n",
      "          5.0940e-03,  5.6762e-02],\n",
      "        [ 1.1743e-02,  8.6859e-02,  9.0396e-03,  ..., -4.0882e-02,\n",
      "          1.5061e-02, -4.9022e-02],\n",
      "        [-2.4042e-02,  8.3656e-03,  7.5655e-03,  ...,  6.0010e-04,\n",
      "          7.9877e-02, -6.3256e-03]], device='cuda:2'))\n",
      "('f2.bias', Parameter containing:\n",
      "tensor([ 0.0054, -0.0439, -0.0204,  0.0228, -0.0468,  0.0127, -0.0508,\n",
      "        -0.0602,  0.0231, -0.0785, -0.0440, -0.0313, -0.0261,  0.0354,\n",
      "        -0.0068, -0.0166, -0.0314, -0.0009,  0.0150, -0.0812, -0.0003,\n",
      "        -0.0040, -0.0509,  0.0398,  0.0183,  0.0243, -0.0294, -0.0541,\n",
      "         0.0463, -0.0296, -0.0128, -0.0673, -0.0345,  0.0296, -0.0556,\n",
      "        -0.0392,  0.0293,  0.0414,  0.0457,  0.0391, -0.0565,  0.0369,\n",
      "        -0.0517,  0.0405, -0.0135, -0.0483, -0.0194,  0.0260, -0.0070,\n",
      "         0.0420,  0.0439, -0.0440, -0.0123, -0.0171, -0.0306, -0.0596,\n",
      "         0.0328,  0.0365, -0.0583,  0.0510, -0.0164, -0.0375,  0.0464,\n",
      "         0.0115, -0.0858, -0.0330,  0.0375,  0.0000, -0.0616, -0.0349,\n",
      "        -0.0295,  0.0375,  0.0622, -0.0466,  0.0506, -0.0171,  0.0222,\n",
      "        -0.0598, -0.0030,  0.0566,  0.0365, -0.0488, -0.0209,  0.0512,\n",
      "        -0.0515, -0.0454, -0.0549,  0.0341,  0.0192, -0.0520, -0.0606,\n",
      "        -0.0194,  0.0578,  0.0621, -0.0582,  0.0443, -0.0212, -0.0973,\n",
      "        -0.0255, -0.0805, -0.0205, -0.0542, -0.0794, -0.0545,  0.0367,\n",
      "         0.0022, -0.0526, -0.0583, -0.0196,  0.0003, -0.0744, -0.0238,\n",
      "        -0.0042,  0.0178,  0.0564, -0.0468,  0.0432,  0.0170, -0.0381,\n",
      "        -0.0034, -0.0677, -0.0114, -0.0193,  0.0391,  0.0269, -0.0232,\n",
      "        -0.0157,  0.0448, -0.0142, -0.0460,  0.0087, -0.0161,  0.0353,\n",
      "        -0.0430, -0.0694,  0.0053,  0.0405, -0.0734,  0.0589, -0.0055,\n",
      "        -0.0056, -0.0423, -0.0288, -0.0282,  0.0237, -0.1092, -0.0029,\n",
      "        -0.0304, -0.0776,  0.0253,  0.0386, -0.0047,  0.0187, -0.0166,\n",
      "        -0.0624, -0.0023,  0.0491,  0.0526, -0.0480,  0.0198,  0.0008,\n",
      "        -0.0561, -0.0855, -0.0170,  0.0006, -0.0676, -0.0449,  0.0159,\n",
      "         0.0096,  0.0348, -0.0977,  0.0186,  0.0465, -0.1104, -0.0070,\n",
      "        -0.0263, -0.0144, -0.0023, -0.0275,  0.0474, -0.0294,  0.0034,\n",
      "        -0.0148, -0.0572,  0.0220, -0.0608, -0.0620,  0.0396, -0.0053,\n",
      "        -0.0539,  0.0379,  0.0080, -0.0598, -0.1043,  0.0049, -0.0934,\n",
      "         0.0094, -0.0103,  0.0240,  0.0297,  0.0157, -0.0376, -0.1057,\n",
      "         0.0134,  0.0332, -0.0045,  0.0241,  0.0253,  0.0271, -0.0271,\n",
      "         0.0319,  0.0029, -0.0484,  0.0066, -0.0030, -0.0156,  0.0073,\n",
      "         0.0351,  0.0294,  0.0608, -0.0197,  0.0169, -0.0613, -0.0153,\n",
      "         0.0099,  0.0517,  0.0299,  0.0143, -0.0609, -0.0608, -0.0269,\n",
      "        -0.0451,  0.0001,  0.0561, -0.0745,  0.0009, -0.0545,  0.0118,\n",
      "        -0.0166, -0.0171,  0.0493,  0.0011,  0.0438,  0.0266,  0.0149,\n",
      "        -0.0568,  0.0439,  0.0086, -0.0063, -0.0140,  0.0248,  0.0338,\n",
      "        -0.0383,  0.0314, -0.1020, -0.0611], device='cuda:2'))\n",
      "('f3.weight', Parameter containing:\n",
      "tensor(1.00000e-02 *\n",
      "       [[ 2.7817,  1.6742,  2.6733, -4.0394,  8.3556, -4.4285,  5.6000,\n",
      "          4.0991,  0.9599,  5.8794, -2.1146,  0.1235, -1.9029,  0.2670,\n",
      "          7.3131, -3.1911, -2.1275, -2.5693, -2.7649,  6.0641,  9.0091,\n",
      "          8.1974,  6.0047, -3.2778,  8.5030,  7.0095,  3.6928,  0.3697,\n",
      "         -3.4022,  0.0357,  6.0526,  5.8667, -0.5048, -2.2956, -2.4398,\n",
      "          5.3616,  4.1222, -4.7823,  5.1088, -1.4659, -0.0213,  3.5784,\n",
      "         -2.4054, -1.0372, -2.3801, -3.6429, -0.0771,  5.0837, -1.5892,\n",
      "          4.7245, -3.7508,  8.9110,  7.9656, -1.0717, -0.6507,  4.7777,\n",
      "         -2.5883, -4.6066,  6.1350, -1.5786, -1.4034, -2.9590, -5.9528,\n",
      "          6.0864,  8.3998,  2.6518, -5.3580,  9.1956,  3.0401, -4.6235,\n",
      "         -0.4883,  0.0459,  2.4537,  5.0231,  3.8063, -3.3567,  0.5695,\n",
      "         -3.9461,  4.8017,  1.9413,  2.1221, -1.8057, -0.0360, -5.5128,\n",
      "         -1.2231,  1.0720, -4.2767, -6.0878, -4.5078,  5.1625, -0.5918,\n",
      "         -0.1710, -1.8369,  5.4471,  0.2229, -1.3808, -4.9767,  6.3739,\n",
      "          3.1566,  4.4052, -0.0885, -2.0550,  8.3252,  2.0831, -5.5218,\n",
      "         -4.5713,  3.3697, -0.5883, -2.3000, -4.7366,  3.4662,  3.9392,\n",
      "          5.3771,  0.3666, -1.7670, -2.6378, -0.0604,  5.4143,  1.4932,\n",
      "          2.4007,  0.2365,  4.7101, -5.5287, -1.7103, -2.3441,  8.0573,\n",
      "          7.7117,  2.3705,  7.2737,  2.7951, -4.8154,  0.4816, -5.6250,\n",
      "         -2.9388,  7.1289,  2.5661,  2.5040, -1.4542,  2.8810,  1.4444,\n",
      "         -3.0063, -1.9716,  8.3043, -1.4303, -0.8817,  5.0335, -3.8948,\n",
      "         -4.9592,  7.5007, -0.7712, -1.7465, -1.6686,  0.0705,  1.8892,\n",
      "          9.0450,  0.2869, -2.2873, -0.9498,  5.9703,  6.9855, -2.7265,\n",
      "          1.7910,  6.7553,  6.3607,  4.3477,  8.5347,  0.6108, -1.3182,\n",
      "         -4.2354, -0.4275,  7.1051, -3.7344,  0.5549,  6.9396, -0.6103,\n",
      "         -2.4716,  3.7447,  8.5861, -4.6054, -4.1413, -5.0878, -1.7384,\n",
      "          9.6662,  7.2532,  6.4692, -3.6561,  4.2252, -3.8974,  0.8040,\n",
      "          8.1306,  0.3547,  4.5797, -1.7744,  4.5013, -3.4298,  8.6311,\n",
      "         -2.9848,  0.2487,  1.8497, -5.2334, -5.8729,  8.0748,  4.3226,\n",
      "         -3.4126, -2.2700,  0.0762, -2.5260,  9.5931, -0.0460,  3.9663,\n",
      "          0.6757, -4.0751,  9.2932,  7.3161, -4.4266,  4.3100,  0.1946,\n",
      "         -0.4786, -4.2594, -4.5662, -2.0495,  9.0318,  3.5814, -3.0835,\n",
      "          4.4178, -2.4270, -2.6790, -3.6868,  7.1535,  7.7982,  1.1997,\n",
      "         -1.8707,  9.1847,  0.0033,  0.0918,  8.7894,  7.2370,  5.9823,\n",
      "          9.0370, -4.1993,  4.3711, -2.4404,  2.2693, -3.0244,  4.5979,\n",
      "          3.8278,  6.1874, -5.5252,  8.2214,  0.4893, -4.6238,  2.8381,\n",
      "          2.8213, -5.2757,  4.6657,  7.3197]], device='cuda:2'))\n",
      "('f3.bias', Parameter containing:\n",
      "tensor(1.00000e-02 *\n",
      "       [-8.5135], device='cuda:2'))\n"
     ]
    }
   ],
   "source": [
    "for i in model.named_parameters():\n",
    "    print(i)"
   ]
  },
  {
   "cell_type": "code",
   "execution_count": 30,
   "metadata": {},
   "outputs": [
    {
     "data": {
      "text/plain": [
       "(15, 2)"
      ]
     },
     "execution_count": 30,
     "metadata": {},
     "output_type": "execute_result"
    }
   ],
   "source": [
    "Xs = np.sort(X,axis=0)\n",
    "Xs.shape"
   ]
  },
  {
   "cell_type": "code",
   "execution_count": 31,
   "metadata": {},
   "outputs": [
    {
     "data": {
      "text/plain": [
       "array([1.73797669, 1.85860514])"
      ]
     },
     "execution_count": 31,
     "metadata": {},
     "output_type": "execute_result"
    }
   ],
   "source": [
    "Xs[:2,0]"
   ]
  },
  {
   "cell_type": "code",
   "execution_count": 32,
   "metadata": {},
   "outputs": [],
   "source": [
    "files_dataset = csvDataset(Xs[:,0].reshape(-1,1),Xs[:,1].reshape(-1,1),transform= ToTensor())\n",
    "finals_loader = torch.utils.data.DataLoader(files_dataset,batch_size=1 ,shuffle=False)"
   ]
  },
  {
   "cell_type": "code",
   "execution_count": 33,
   "metadata": {},
   "outputs": [],
   "source": [
    "class Maxout(nn.Module):\n",
    "\n",
    "    def __init__(self, d_in, d_out, pool_size):\n",
    "        super().__init__()\n",
    "        self.d_in, self.d_out, self.pool_size = d_in, d_out, pool_size\n",
    "        self.lin = nn.Linear(d_in, d_out * pool_size)\n",
    "\n",
    "\n",
    "    def forward(self, inputs):\n",
    "        shape = list(inputs.size())\n",
    "        shape[-1] = self.d_out\n",
    "        shape.append(self.pool_size)\n",
    "        max_dim = len(shape) - 1\n",
    "        out = self.lin(inputs)\n",
    "        out = out.view(*shape)\n",
    "        \n",
    "        a = np.random.rand(self.pool_size)\n",
    "        for i in range(self.pool_size):\n",
    "            if a[i]>1:\n",
    "                out[:,:,i]=-20\n",
    "        \n",
    "        if inputs<2:\n",
    "            out[:,:,1:]=-20\n",
    "                \n",
    "        elif (inputs < 3):\n",
    "            out[:,:,0]=-20\n",
    "            out[:,:,2]=-20\n",
    "                \n",
    "        else:\n",
    "            out[:,:,:2]=-20\n",
    "                \n",
    "        m, i = out.max(max_dim)\n",
    "        return m\n",
    "    \n",
    "class maxout_Net(nn.Module):\n",
    "    def __init__(self,h,n):\n",
    "        super(type(self), self).__init__()\n",
    "        self.f1 = Maxout(h, h, n)\n",
    "    def forward(self, x):\n",
    "        out = x\n",
    "        out = self.f1(out)\n",
    "        return out"
   ]
  },
  {
   "cell_type": "code",
   "execution_count": 34,
   "metadata": {},
   "outputs": [],
   "source": [
    "model = maxout_Net(1,3)\n",
    "model = model.float().cuda()\n",
    "optimizer = optim.Adam(model.parameters(), weight_decay=0)\n",
    "criterion = F.mse_loss\n",
    "\n",
    "\n",
    "\n",
    "model, error= train_model_cc_fast(model, finals_loader,finals_loader, criterion, optimizer,X[:,0].shape[0], num_epochs=1000)"
   ]
  },
  {
   "cell_type": "code",
   "execution_count": null,
   "metadata": {},
   "outputs": [],
   "source": []
  },
  {
   "cell_type": "code",
   "execution_count": 35,
   "metadata": {},
   "outputs": [],
   "source": [
    "ypred = [model.forward(xx[i].reshape(1,1)).cpu().detach().numpy() for i in range(xx.shape[0])]\n",
    "ypred=np.array(ypred).reshape(400)"
   ]
  },
  {
   "cell_type": "code",
   "execution_count": 36,
   "metadata": {},
   "outputs": [
    {
     "data": {
      "text/plain": [
       "(400,)"
      ]
     },
     "execution_count": 36,
     "metadata": {},
     "output_type": "execute_result"
    }
   ],
   "source": [
    "ypred.shape"
   ]
  },
  {
   "cell_type": "code",
   "execution_count": 37,
   "metadata": {},
   "outputs": [
    {
     "data": {
      "text/plain": [
       "[<matplotlib.lines.Line2D at 0x7f31b6846518>]"
      ]
     },
     "execution_count": 37,
     "metadata": {},
     "output_type": "execute_result"
    },
    {
     "data": {
      "image/png": "[encoded data removed]",
      "text/plain": [
       "<Figure size 432x288 with 1 Axes>"
      ]
     },
     "metadata": {},
     "output_type": "display_data"
    }
   ],
   "source": [
    "plt.scatter(X[:,0],X[:,1])\n",
    "#plt.plot(x,y)\n",
    "plt.plot(x,ypred)"
   ]
  },
  {
   "cell_type": "code",
   "execution_count": 38,
   "metadata": {},
   "outputs": [
    {
     "name": "stdout",
     "output_type": "stream",
     "text": [
      "('f1.lin.weight', Parameter containing:\n",
      "tensor([[ 1.6933],\n",
      "        [ 3.9987],\n",
      "        [ 5.6836]], device='cuda:2'))\n",
      "('f1.lin.bias', Parameter containing:\n",
      "tensor([ 2.3219,  3.2676,  4.2207], device='cuda:2'))\n"
     ]
    }
   ],
   "source": [
    "for i in model.named_parameters():\n",
    "    print(i)"
   ]
  },
  {
   "cell_type": "code",
   "execution_count": 39,
   "metadata": {},
   "outputs": [
    {
     "data": {
      "text/plain": [
       "(24.113276, 3.5, 21.86725)"
      ]
     },
     "execution_count": 39,
     "metadata": {},
     "output_type": "execute_result"
    }
   ],
   "source": [
    "ypred[350],x[350],3.5*4.9175+4.656"
   ]
  },
  {
   "cell_type": "code",
   "execution_count": 40,
   "metadata": {},
   "outputs": [
    {
     "data": {
      "text/plain": [
       "(13.264369, 2.5, 12.893749999999999)"
      ]
     },
     "execution_count": 40,
     "metadata": {},
     "output_type": "execute_result"
    }
   ],
   "source": [
    "ypred[250],x[250],2.5*3.6955+3.655"
   ]
  },
  {
   "cell_type": "code",
   "execution_count": null,
   "metadata": {},
   "outputs": [],
   "source": []
  }
 ],
 "metadata": {
  "kernelspec": {
   "display_name": "Python 3",
   "language": "python",
   "name": "python3"
  },
  "language_info": {
   "codemirror_mode": {
    "name": "ipython",
    "version": 3
   },
   "file_extension": ".py",
   "mimetype": "text/x-python",
   "name": "python",
   "nbconvert_exporter": "python",
   "pygments_lexer": "ipython3",
   "version": "3.6.6"
  }
 },
 "nbformat": 4,
 "nbformat_minor": 2
}
