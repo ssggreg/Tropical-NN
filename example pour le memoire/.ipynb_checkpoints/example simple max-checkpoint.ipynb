{
 "cells": [
  {
   "cell_type": "code",
   "execution_count": 1,
   "metadata": {},
   "outputs": [
    {
     "name": "stdout",
     "output_type": "stream",
     "text": [
      "explained variance ratio (first two components): [0.92461872 0.05306648]\n"
     ]
    }
   ],
   "source": [
    "import matplotlib.pyplot as plt\n",
    "import numpy as np\n",
    "from sklearn import datasets\n",
    "from sklearn.decomposition import PCA\n",
    "from sklearn.discriminant_analysis import LinearDiscriminantAnalysis\n",
    "\n",
    "iris = datasets.load_iris()\n",
    "\n",
    "X = iris.data\n",
    "y = iris.target\n",
    "target_names = iris.target_names\n",
    "\n",
    "pca = PCA(n_components=2)\n",
    "X_r = pca.fit(X).transform(X)\n",
    "\n",
    "lda = LinearDiscriminantAnalysis(n_components=2)\n",
    "X_r2 = lda.fit(X, y).transform(X)\n",
    "\n",
    "# Percentage of variance explained for each components\n",
    "print('explained variance ratio (first two components): %s'\n",
    "      % str(pca.explained_variance_ratio_))\n"
   ]
  },
  {
   "cell_type": "code",
   "execution_count": 336,
   "metadata": {},
   "outputs": [],
   "source": [
    "x= np.arange(0,4,0.01)\n",
    "y= np.exp(x)"
   ]
  },
  {
   "cell_type": "code",
   "execution_count": 337,
   "metadata": {},
   "outputs": [
    {
     "data": {
      "text/plain": [
       "[<matplotlib.lines.Line2D at 0x7f15583c2fd0>]"
      ]
     },
     "execution_count": 337,
     "metadata": {},
     "output_type": "execute_result"
    },
    {
     "data": {
      "image/png": "[encoded data removed]",
      "text/plain": [
       "<Figure size 432x288 with 1 Axes>"
      ]
     },
     "metadata": {
      "needs_background": "light"
     },
     "output_type": "display_data"
    }
   ],
   "source": [
    "plt.plot(x,y)"
   ]
  },
  {
   "cell_type": "code",
   "execution_count": 338,
   "metadata": {},
   "outputs": [],
   "source": [
    "import numpy as np\n",
    "from sklearn.datasets.samples_generator import make_blobs\n",
    "import matplotlib.pyplot as plt\n",
    "from sklearn.datasets import make_classification\n",
    "from sklearn.metrics.pairwise import euclidean_distances"
   ]
  },
  {
   "cell_type": "code",
   "execution_count": 396,
   "metadata": {},
   "outputs": [],
   "source": [
    "circle = np.array([[x,np.exp(x)] for x in (np.random.rand(30)*2+1.5)])\n",
    "X, Y = make_blobs(n_samples=15, centers=circle, n_features=2,\n",
    "                 random_state=0,cluster_std =0.1)\n",
    "r = np.random.uniform(-2,2,(200,2))\n",
    "lr = (np.min(euclidean_distances(circle,r),axis = 0)>0.1)*1.\n",
    "Xtrain = np.concatenate((r,X))\n",
    "Ytrain = np.concatenate((lr,np.zeros(70))).astype(float)\n",
    "Xtrain.shape,Ytrain.shape\n",
    "Ytrain = Ytrain.reshape(-1,1)\n",
    "Ytrain.shape\n",
    "t = np.linspace(-2, 2,100, endpoint=False)\n",
    "T = np.zeros((10100,2))\n",
    "a=0\n",
    "for i in t:\n",
    "    for j in t:\n",
    "        T[a]=np.array([i,j])\n",
    "        a+=1\n",
    "    a+=1"
   ]
  },
  {
   "cell_type": "code",
   "execution_count": 397,
   "metadata": {},
   "outputs": [
    {
     "data": {
      "text/plain": [
       "[<matplotlib.lines.Line2D at 0x7f154ba54d30>]"
      ]
     },
     "execution_count": 397,
     "metadata": {},
     "output_type": "execute_result"
    },
    {
     "data": {
      "image/png": "[encoded data removed]",
      "text/plain": [
       "<Figure size 432x288 with 1 Axes>"
      ]
     },
     "metadata": {
      "needs_background": "light"
     },
     "output_type": "display_data"
    }
   ],
   "source": [
    "plt.scatter(X[:,0],X[:,1])\n",
    "plt.plot(x,y)"
   ]
  },
  {
   "cell_type": "markdown",
   "metadata": {},
   "source": [
    "plt.figure()\n",
    "colors = ['navy', 'turquoise', 'darkorange']\n",
    "lw = 2\n",
    "\n",
    "for color, i, target_name in zip(colors, [0, 1, 2], target_names):\n",
    "    plt.scatter(X_r[y == i, 0], X_r[y == i, 1], color=color, alpha=.8, lw=lw,\n",
    "                label=target_name)\n",
    "plt.legend(loc='best', shadow=False, scatterpoints=1)\n",
    "\n",
    "plt.scatter(x,f1(x),alpha=.1,)\n",
    "plt.scatter(x,f2(x))\n",
    "plt.scatter(x,f3(x))\n",
    "plt.ylim((-2,4))\n",
    "plt.title('PCA of IRIS dataset')\n",
    "\n"
   ]
  },
  {
   "cell_type": "markdown",
   "metadata": {},
   "source": [
    "plt.figure()\n",
    "for color, i, target_name in zip(colors, [0, 1, 2], target_names):\n",
    "    plt.scatter(X_r2[y == i, 0], X_r2[y == i, 1], alpha=.8, color=color,\n",
    "                label=target_name)\n",
    "plt.legend(loc='best', shadow=False, scatterpoints=1)\n",
    "plt.title('LDA of IRIS dataset')\n",
    "\n",
    "plt.show()"
   ]
  },
  {
   "cell_type": "code",
   "execution_count": 398,
   "metadata": {},
   "outputs": [],
   "source": [
    "import numpy as np\n",
    "import torch\n",
    "import torch.nn as nn\n",
    "import torch.optim as optim\n",
    "import matplotlib.pyplot as plt\n",
    "import seaborn as sns\n",
    "import pandas as pd\n",
    "import torch.nn.functional as F\n",
    "from torch.utils.data.dataloader import DataLoader\n",
    "from torch.optim.optimizer import Optimizer"
   ]
  },
  {
   "cell_type": "code",
   "execution_count": 399,
   "metadata": {},
   "outputs": [],
   "source": [
    "torch.cuda.set_device(2)"
   ]
  },
  {
   "cell_type": "code",
   "execution_count": 400,
   "metadata": {},
   "outputs": [],
   "source": [
    "class csvDataset():\n",
    "    def __init__(self, data,label, transform=None):\n",
    "        self.label = label\n",
    "        self.data = data\n",
    "        #self.train_set = TensorDataset()\n",
    "        self.transform = transform\n",
    "    def __len__(self):\n",
    "        return len(self.data)\n",
    "    def __getitem__(self, idx):\n",
    "        data = self.data[idx]\n",
    "        label = self.label[idx]\n",
    "        sample = { 'data': data,'label': label}\n",
    "        if self.transform:\n",
    "            sample = self.transform(sample)\n",
    "        return sample\n",
    "    \n",
    "class ToTensor(object):\n",
    "    def __call__(self, sample):\n",
    "        data, label= sample['data'],sample['label']\n",
    "        return {'data': torch.from_numpy(data).float(),'label': torch.from_numpy(label).float()}"
   ]
  },
  {
   "cell_type": "code",
   "execution_count": 401,
   "metadata": {},
   "outputs": [],
   "source": [
    "def train_model_cc_fast(model, trainloader,inference_loader, criterion, optimizer,size, num_epochs=25):\n",
    "    train_accuracy = []\n",
    "    for epoch in range(num_epochs):\n",
    "        model.train(True)\n",
    "        for i in trainloader:\n",
    "            inputs = i['data']\n",
    "            labels = i['label']\n",
    "            inputs, labels = inputs.cuda(), labels.cuda()\n",
    "            def closure():\n",
    "                optimizer.zero_grad()\n",
    "                logits = model.forward(inputs)\n",
    "                loss = criterion(logits,labels)\n",
    "                loss.backward()\n",
    "                return loss\n",
    "            loss = optimizer.step(closure)\n",
    "\n",
    "        train_accuracy.append(accuracy(model, trainloader,size))\n",
    "\n",
    "        \n",
    "    return model, train_accuracy"
   ]
  },
  {
   "cell_type": "code",
   "execution_count": 402,
   "metadata": {},
   "outputs": [],
   "source": [
    "def accuracy(model, dataloader,size):\n",
    "    \"\"\" Computes the model's classification accuracy on the train dataset\n",
    "    Computes classification accuracy and loss(optional) on the test dataset\n",
    "    The model should return logits\n",
    "    \"\"\"\n",
    "    model.eval()\n",
    "    with torch.no_grad():\n",
    "        error = 0.\n",
    "        for i in (dataloader):\n",
    "            inputs = i['data']\n",
    "            labels = i['label']\n",
    "            inputs, labels = inputs.cuda(), labels.cuda()\n",
    "            pred = model(inputs).cpu().numpy()\n",
    "            labels = labels.cpu().numpy()\n",
    "            error+= (np.sum((pred-labels)**2))\n",
    "            \n",
    "    accuracy = error / size\n",
    "    return accuracy"
   ]
  },
  {
   "cell_type": "code",
   "execution_count": 403,
   "metadata": {},
   "outputs": [],
   "source": [
    "\n",
    "file_dataset = csvDataset(X[:,0].reshape(-1,1),X[:,1].reshape(-1,1),transform= ToTensor())\n",
    "final_loader = torch.utils.data.DataLoader(file_dataset,batch_size=1 ,shuffle=True)"
   ]
  },
  {
   "cell_type": "code",
   "execution_count": 523,
   "metadata": {},
   "outputs": [],
   "source": [
    "class nettt(nn.Module):\n",
    "    def __init__(self,h):\n",
    "        super(type(self), self).__init__()\n",
    "        self.f1 = nn.Linear(1, h)\n",
    "        self.f2 = nn.Linear(h, h)\n",
    "        self.f3 = nn.Linear(h, h)\n",
    "        self.f4 = nn.Linear(h,  1)\n",
    "    def forward(self, x):\n",
    "        out = x\n",
    "        out = F.relu(self.f1(out))\n",
    "        out = F.relu(self.f2(out))\n",
    "        out = F.relu(self.f3(out))\n",
    "        out = self.f4(out)\n",
    "        return out"
   ]
  },
  {
   "cell_type": "code",
   "execution_count": 594,
   "metadata": {},
   "outputs": [],
   "source": [
    "torch.cuda.set_device(2)"
   ]
  },
  {
   "cell_type": "code",
   "execution_count": 595,
   "metadata": {},
   "outputs": [],
   "source": [
    "model = nettt(256)\n",
    "model = model.float().cuda()\n",
    "optimizer = optim.Adam(model.parameters(), weight_decay=0)\n",
    "criterion = F.mse_loss\n"
   ]
  },
  {
   "cell_type": "code",
   "execution_count": 596,
   "metadata": {},
   "outputs": [],
   "source": [
    "\n",
    "model, error= train_model_cc_fast(model, final_loader,final_loader, criterion, optimizer,X[:,0].shape[0], num_epochs=30)"
   ]
  },
  {
   "cell_type": "code",
   "execution_count": null,
   "metadata": {},
   "outputs": [],
   "source": []
  },
  {
   "cell_type": "code",
   "execution_count": 597,
   "metadata": {},
   "outputs": [
    {
     "data": {
      "text/plain": [
       "[<matplotlib.lines.Line2D at 0x7f154a8a32b0>]"
      ]
     },
     "execution_count": 597,
     "metadata": {},
     "output_type": "execute_result"
    },
    {
     "data": {
      "image/png": "[encoded data removed]",
      "text/plain": [
       "<Figure size 432x288 with 1 Axes>"
      ]
     },
     "metadata": {
      "needs_background": "light"
     },
     "output_type": "display_data"
    }
   ],
   "source": [
    "plt.plot(error)"
   ]
  },
  {
   "cell_type": "code",
   "execution_count": 598,
   "metadata": {},
   "outputs": [],
   "source": [
    "xx = torch.from_numpy(x).float().cuda().reshape(-1,1)"
   ]
  },
  {
   "cell_type": "code",
   "execution_count": 599,
   "metadata": {},
   "outputs": [],
   "source": [
    "ypred = model.forward(xx).cpu().detach().numpy()"
   ]
  },
  {
   "cell_type": "code",
   "execution_count": 600,
   "metadata": {},
   "outputs": [
    {
     "data": {
      "text/plain": [
       "[<matplotlib.lines.Line2D at 0x7f154a8a3be0>]"
      ]
     },
     "execution_count": 600,
     "metadata": {},
     "output_type": "execute_result"
    },
    {
     "data": {
      "image/png": "[encoded data removed]",
      "text/plain": [
       "<Figure size 432x288 with 1 Axes>"
      ]
     },
     "metadata": {
      "needs_background": "light"
     },
     "output_type": "display_data"
    }
   ],
   "source": [
    "plt.scatter(X[:,0],X[:,1])\n",
    "#plt.plot(x,y)\n",
    "plt.plot(x,ypred)"
   ]
  },
  {
   "cell_type": "code",
   "execution_count": 601,
   "metadata": {},
   "outputs": [
    {
     "name": "stdout",
     "output_type": "stream",
     "text": [
      "('weight', Parameter containing:\n",
      "tensor([[-6.0254e-02],\n",
      "        [-8.0826e-01],\n",
      "        [ 5.6159e-01],\n",
      "        [ 9.8965e-01],\n",
      "        [ 6.2548e-01],\n",
      "        [-4.2559e-01],\n",
      "        [-2.1710e-01],\n",
      "        [-8.9556e-01],\n",
      "        [ 9.6206e-01],\n",
      "        [ 9.1598e-01],\n",
      "        [-7.9325e-01],\n",
      "        [-5.3199e-01],\n",
      "        [-8.7364e-01],\n",
      "        [ 9.4256e-01],\n",
      "        [-1.2122e-01],\n",
      "        [ 9.8670e-01],\n",
      "        [-2.2345e-01],\n",
      "        [ 3.7909e-02],\n",
      "        [ 2.6203e-01],\n",
      "        [ 4.1711e-01],\n",
      "        [ 8.7886e-01],\n",
      "        [ 6.5198e-01],\n",
      "        [-6.9324e-01],\n",
      "        [-9.1337e-02],\n",
      "        [-1.5938e-01],\n",
      "        [ 5.0695e-01],\n",
      "        [ 6.4151e-01],\n",
      "        [ 5.2141e-01],\n",
      "        [ 3.5891e-01],\n",
      "        [ 7.2413e-01],\n",
      "        [ 4.7005e-01],\n",
      "        [ 1.7156e-02],\n",
      "        [ 5.7287e-02],\n",
      "        [ 7.1922e-01],\n",
      "        [ 1.9851e-03],\n",
      "        [-2.6259e-01],\n",
      "        [ 2.4185e-01],\n",
      "        [-3.0233e-01],\n",
      "        [-2.0900e-01],\n",
      "        [-6.2361e-01],\n",
      "        [ 8.1839e-01],\n",
      "        [ 4.8014e-01],\n",
      "        [-3.8470e-01],\n",
      "        [-1.5242e-01],\n",
      "        [-8.6093e-01],\n",
      "        [-9.2896e-01],\n",
      "        [ 4.8946e-01],\n",
      "        [ 3.4546e-02],\n",
      "        [-9.0932e-01],\n",
      "        [-6.7619e-01],\n",
      "        [ 3.3876e-02],\n",
      "        [ 6.3434e-01],\n",
      "        [ 8.6946e-01],\n",
      "        [ 2.8530e-01],\n",
      "        [-2.0966e-01],\n",
      "        [ 9.1110e-01],\n",
      "        [-7.5758e-01],\n",
      "        [-1.2782e-01],\n",
      "        [ 5.5526e-01],\n",
      "        [ 5.4488e-01],\n",
      "        [-1.1986e-02],\n",
      "        [-7.6058e-01],\n",
      "        [-7.5543e-01],\n",
      "        [ 5.1519e-01],\n",
      "        [-5.4216e-01],\n",
      "        [-5.8821e-01],\n",
      "        [-5.6768e-01],\n",
      "        [-7.5328e-02],\n",
      "        [ 6.1645e-01],\n",
      "        [ 2.1711e-01],\n",
      "        [ 1.3224e-02],\n",
      "        [ 7.4892e-01],\n",
      "        [-9.6776e-01],\n",
      "        [-8.9625e-01],\n",
      "        [ 7.4838e-01],\n",
      "        [-8.8237e-01],\n",
      "        [ 3.0845e-01],\n",
      "        [-4.9104e-01],\n",
      "        [-1.7688e-01],\n",
      "        [-3.5156e-01],\n",
      "        [-9.8569e-01],\n",
      "        [-6.2748e-01],\n",
      "        [-2.5958e-02],\n",
      "        [-1.5636e-01],\n",
      "        [ 7.2742e-01],\n",
      "        [ 7.6969e-01],\n",
      "        [ 1.0960e-01],\n",
      "        [ 7.6032e-02],\n",
      "        [ 9.5442e-01],\n",
      "        [-7.2694e-01],\n",
      "        [-5.6880e-01],\n",
      "        [-5.5762e-01],\n",
      "        [ 9.4763e-01],\n",
      "        [ 1.5961e-01],\n",
      "        [-7.0565e-01],\n",
      "        [-7.6284e-01],\n",
      "        [-9.5922e-01],\n",
      "        [-1.6885e-01],\n",
      "        [-1.5392e-01],\n",
      "        [ 1.3623e-01],\n",
      "        [-1.8116e-01],\n",
      "        [ 9.1482e-01],\n",
      "        [ 8.5639e-01],\n",
      "        [ 5.1079e-01],\n",
      "        [ 6.7176e-01],\n",
      "        [-4.4439e-01],\n",
      "        [-6.9471e-01],\n",
      "        [ 9.5144e-01],\n",
      "        [ 4.3351e-01],\n",
      "        [ 4.1458e-01],\n",
      "        [-2.9492e-04],\n",
      "        [ 3.4938e-06],\n",
      "        [-1.6614e-01],\n",
      "        [ 6.4261e-01],\n",
      "        [ 9.7156e-01],\n",
      "        [ 2.0698e-02],\n",
      "        [-6.6386e-01],\n",
      "        [ 2.6244e-01],\n",
      "        [ 2.0688e-01],\n",
      "        [-4.0881e-03],\n",
      "        [ 8.0865e-01],\n",
      "        [-4.7950e-01],\n",
      "        [-1.6179e-01],\n",
      "        [ 1.4569e-01],\n",
      "        [ 9.4492e-01],\n",
      "        [ 5.8144e-01],\n",
      "        [ 4.5496e-01],\n",
      "        [ 7.0244e-01],\n",
      "        [-1.0729e-01],\n",
      "        [-3.3026e-02],\n",
      "        [-8.0326e-02],\n",
      "        [-5.7435e-01],\n",
      "        [ 7.8953e-01],\n",
      "        [-6.7220e-01],\n",
      "        [ 6.0197e-01],\n",
      "        [-5.2500e-01],\n",
      "        [ 7.5838e-01],\n",
      "        [-9.7499e-01],\n",
      "        [ 6.8399e-01],\n",
      "        [ 5.8336e-01],\n",
      "        [-7.8521e-01],\n",
      "        [-3.0988e-01],\n",
      "        [-8.4396e-01],\n",
      "        [-2.6968e-01],\n",
      "        [-7.8088e-01],\n",
      "        [-8.7632e-01],\n",
      "        [ 5.3477e-01],\n",
      "        [-4.5643e-01],\n",
      "        [ 5.9478e-01],\n",
      "        [ 4.4053e-01],\n",
      "        [ 5.6371e-01],\n",
      "        [ 5.3595e-01],\n",
      "        [ 2.2030e-01],\n",
      "        [ 3.6007e-01],\n",
      "        [ 7.5447e-01],\n",
      "        [ 9.8443e-01],\n",
      "        [-9.6445e-01],\n",
      "        [ 7.3152e-01],\n",
      "        [ 7.8824e-01],\n",
      "        [-5.4676e-01],\n",
      "        [ 1.5480e-01],\n",
      "        [ 4.6677e-01],\n",
      "        [-8.6414e-01],\n",
      "        [-6.8788e-01],\n",
      "        [-6.2285e-01],\n",
      "        [-4.5480e-01],\n",
      "        [-1.5313e-01],\n",
      "        [ 3.3208e-01],\n",
      "        [ 6.2550e-01],\n",
      "        [ 5.4991e-01],\n",
      "        [-2.2445e-01],\n",
      "        [ 2.0323e-01],\n",
      "        [-8.3247e-01],\n",
      "        [-2.0215e-01],\n",
      "        [-5.0276e-01],\n",
      "        [-8.6455e-01],\n",
      "        [-6.0678e-01],\n",
      "        [ 2.9561e-01],\n",
      "        [-8.4796e-01],\n",
      "        [ 7.6350e-01],\n",
      "        [-9.2972e-01],\n",
      "        [-1.7720e-01],\n",
      "        [ 1.6981e-01],\n",
      "        [ 7.4175e-01],\n",
      "        [ 5.9135e-01],\n",
      "        [-1.9960e-01],\n",
      "        [-9.8018e-01],\n",
      "        [ 5.8520e-01],\n",
      "        [-3.4023e-01],\n",
      "        [-8.9982e-01],\n",
      "        [-9.2443e-02],\n",
      "        [-3.4029e-02],\n",
      "        [ 9.6505e-01],\n",
      "        [ 3.7952e-01],\n",
      "        [-4.2720e-01],\n",
      "        [ 9.6058e-01],\n",
      "        [ 5.7123e-01],\n",
      "        [-6.9051e-01],\n",
      "        [ 8.1015e-01],\n",
      "        [ 5.8337e-01],\n",
      "        [ 1.3451e-01],\n",
      "        [ 2.9393e-01],\n",
      "        [ 5.3565e-01],\n",
      "        [ 3.0222e-01],\n",
      "        [ 2.3254e-01],\n",
      "        [ 4.0519e-01],\n",
      "        [ 2.1708e-01],\n",
      "        [-4.4425e-01],\n",
      "        [ 3.5343e-01],\n",
      "        [ 9.8792e-01],\n",
      "        [ 3.6952e-01],\n",
      "        [-1.1823e-01],\n",
      "        [ 5.8200e-02],\n",
      "        [ 3.4606e-01],\n",
      "        [ 3.9120e-01],\n",
      "        [ 5.9090e-01],\n",
      "        [-2.9384e-01],\n",
      "        [-6.1482e-01],\n",
      "        [ 5.2239e-01],\n",
      "        [ 2.9835e-02],\n",
      "        [-4.8698e-01],\n",
      "        [-5.8738e-01],\n",
      "        [-5.3637e-01],\n",
      "        [ 9.3924e-01],\n",
      "        [ 6.5423e-01],\n",
      "        [ 9.8608e-02],\n",
      "        [-9.6897e-01],\n",
      "        [ 7.0981e-01],\n",
      "        [ 9.4107e-01],\n",
      "        [-3.5253e-01],\n",
      "        [-6.9861e-01],\n",
      "        [ 7.2120e-01],\n",
      "        [ 7.5481e-01],\n",
      "        [ 5.8017e-01],\n",
      "        [-1.7373e-01],\n",
      "        [-6.7274e-02],\n",
      "        [-8.9352e-01],\n",
      "        [ 6.1771e-01],\n",
      "        [-2.9453e-01],\n",
      "        [ 9.6131e-01],\n",
      "        [-4.2918e-01],\n",
      "        [-1.5306e-01],\n",
      "        [-5.6961e-01],\n",
      "        [-9.0206e-01],\n",
      "        [ 6.5908e-01],\n",
      "        [-5.3390e-01],\n",
      "        [ 2.2444e-01],\n",
      "        [-8.5635e-01],\n",
      "        [-8.5460e-02],\n",
      "        [ 5.2990e-01],\n",
      "        [-6.9838e-01],\n",
      "        [ 8.0492e-01],\n",
      "        [-9.5381e-01],\n",
      "        [-8.7920e-01],\n",
      "        [ 2.7839e-01],\n",
      "        [ 6.5560e-01]], device='cuda:2'))\n",
      "('bias', Parameter containing:\n",
      "tensor([ 0.6247, -0.3218,  0.2522,  0.1881,  0.2601,  0.0313,  0.8023,\n",
      "         0.7151,  0.7776, -1.0251, -0.1155,  0.3898, -0.1187,  0.6686,\n",
      "         0.6075,  0.6028,  0.8381, -0.2536, -0.4204,  0.2398,  0.1662,\n",
      "         0.5776, -0.1534,  0.3708, -0.8887, -0.1340, -0.8402,  0.4314,\n",
      "         0.9389,  0.3809, -0.8649,  0.7637, -0.1412, -0.8710,  0.7601,\n",
      "        -0.6494, -0.8415,  1.0729, -0.7595,  0.3973, -0.0389,  0.6895,\n",
      "        -0.8427, -0.8737, -0.3023,  0.9258,  0.6686, -0.5844,  0.1914,\n",
      "        -0.9026,  0.5631, -0.4514,  0.9774,  0.6334,  0.8023, -0.0108,\n",
      "        -0.3485, -0.6501, -0.6077, -0.2252,  0.4497, -0.3191,  0.6316,\n",
      "        -0.8151,  0.2643,  0.0927,  0.1574, -0.6675,  0.4057,  0.4878,\n",
      "         0.1995,  0.6389,  0.9976, -0.8000,  0.3159, -0.6434,  0.5077,\n",
      "        -0.6046, -0.0917, -0.1027, -0.9265, -0.2661,  0.8704,  0.5931,\n",
      "        -0.1731, -0.8870, -0.0993,  0.4910, -0.6076,  0.0290,  0.6604,\n",
      "        -0.3920,  0.6608,  0.5351, -0.6729, -0.2052, -0.6358,  0.6677,\n",
      "        -0.8783,  0.9397, -0.1862,  0.3813,  0.2151, -0.5499, -0.1899,\n",
      "         1.0182,  0.1422,  0.1509,  0.4460, -0.9483, -0.2756,  0.0697,\n",
      "         0.6056,  0.4123, -0.2392, -0.8444,  0.1055, -0.5982, -0.4788,\n",
      "         0.8414, -0.6463, -0.7404, -0.8839,  0.2807,  0.6936, -0.8936,\n",
      "        -0.9205,  0.7833, -0.4381,  0.6239,  0.3973, -0.8408, -0.1033,\n",
      "         0.0799,  0.3823,  0.1111, -0.6802,  0.7226, -0.0910, -0.3598,\n",
      "        -0.8235, -0.7944,  0.9380,  0.9908, -0.2650, -0.1911, -1.0132,\n",
      "        -0.7978, -0.4592, -0.5250,  0.5732, -0.3876,  0.4955, -0.7989,\n",
      "         0.6750, -1.0274,  0.1180,  0.5013, -1.0081, -0.7771,  0.9105,\n",
      "        -0.4391,  0.4944, -0.5364, -0.2442, -0.8787, -0.5023, -0.6698,\n",
      "         0.7869, -0.7861,  0.8506,  0.9822,  0.4861,  0.7763, -0.2705,\n",
      "         0.4565, -0.0085, -0.4248,  0.5404, -0.9654, -0.7414, -0.2623,\n",
      "         0.9674, -0.6580,  0.7418,  0.2356, -0.3223,  0.7783, -0.0010,\n",
      "         0.2344,  0.7553,  0.1944, -0.7598,  0.0760, -0.6395,  0.6346,\n",
      "        -0.7745,  0.3300,  0.2209,  0.1295,  0.1879,  0.2919, -0.4701,\n",
      "         0.3225, -0.5367, -0.2376, -0.9932, -0.1712,  0.0002,  0.3598,\n",
      "        -0.8433, -0.3640,  0.3143, -0.7821, -0.2813, -0.9918, -0.4404,\n",
      "        -0.3440, -0.1625, -0.1382,  0.6115,  0.6427,  0.3344, -0.5413,\n",
      "         0.6726, -0.5882, -0.7721, -0.2357,  0.2606, -0.3658,  0.2274,\n",
      "         0.0898,  0.3324, -0.9147,  0.6752,  0.6158,  0.4590,  0.5403,\n",
      "        -0.6570,  0.0073,  1.0280, -0.7849, -0.8524,  0.8952, -0.0385,\n",
      "         0.0204,  0.6481,  0.5680,  0.9561,  0.0522, -0.2134, -0.9807,\n",
      "         0.7896,  0.0521,  0.5247, -0.4899], device='cuda:2'))\n"
     ]
    }
   ],
   "source": [
    "for i in model.f1.named_parameters():\n",
    "    print(i)"
   ]
  },
  {
   "cell_type": "code",
   "execution_count": 634,
   "metadata": {},
   "outputs": [],
   "source": [
    "file_dataset = csvDataset(X[:,0].reshape(-1,1),X[:,1].reshape(-1,1),transform= ToTensor())\n",
    "final_loader = torch.utils.data.DataLoader(file_dataset,batch_size=5 ,shuffle=True)"
   ]
  },
  {
   "cell_type": "code",
   "execution_count": null,
   "metadata": {},
   "outputs": [],
   "source": [
    "class Maxout(nn.Module):\n",
    "\n",
    "    def __init__(self, d_in, d_out, pool_size):\n",
    "        super().__init__()\n",
    "        self.d_in, self.d_out, self.pool_size = d_in, d_out, pool_size\n",
    "        self.lin = nn.Linear(d_in, d_out * pool_size)\n",
    "\n",
    "\n",
    "    def forward(self, inputs):\n",
    "        shape = list(inputs.size())\n",
    "        shape[-1] = self.d_out\n",
    "        shape.append(self.pool_size)\n",
    "        max_dim = len(shape) - 1\n",
    "        out = self.lin(inputs)\n",
    "        out = out.view(*shape)\n",
    "        \n",
    "        a = np.random.rand(self.pool_size)\n",
    "        for i in range(self.pool_size):\n",
    "            if a[i]>0.2:\n",
    "                out[:,:,i]=-20 \n",
    "        m, i = out.max(max_dim)\n",
    "        return m\n",
    "    \n",
    "class maxout_Net(nn.Module):\n",
    "    def __init__(self,h,n):\n",
    "        super(type(self), self).__init__()\n",
    "        self.f1 = Maxout(h, h, n)\n",
    "    def forward(self, x):\n",
    "        out = x\n",
    "        out = self.f1(out)\n",
    "        return out"
   ]
  },
  {
   "cell_type": "code",
   "execution_count": null,
   "metadata": {},
   "outputs": [],
   "source": [
    "model = maxout_Net(1,10)\n",
    "model = model.float().cuda()\n",
    "optimizer = optim.Adam(model.parameters(), weight_decay=0)\n",
    "criterion = F.mse_loss\n",
    "\n",
    "\n",
    "\n",
    "model, error= train_model_cc_fast(model, final_loader,final_loader, criterion, optimizer,X[:,0].shape[0], num_epochs=10000)"
   ]
  },
  {
   "cell_type": "code",
   "execution_count": null,
   "metadata": {},
   "outputs": [],
   "source": [
    "ypred = model.forward(xx).cpu().detach().numpy()"
   ]
  },
  {
   "cell_type": "code",
   "execution_count": 667,
   "metadata": {},
   "outputs": [
    {
     "data": {
      "text/plain": [
       "[<matplotlib.lines.Line2D at 0x7f1548b0b9b0>]"
      ]
     },
     "execution_count": 667,
     "metadata": {},
     "output_type": "execute_result"
    },
    {
     "data": {
      "image/png": "[encoded data removed]",
      "text/plain": [
       "<Figure size 432x288 with 1 Axes>"
      ]
     },
     "metadata": {
      "needs_background": "light"
     },
     "output_type": "display_data"
    }
   ],
   "source": [
    "plt.scatter(X[:,0],X[:,1])\n",
    "#plt.plot(x,y)\n",
    "plt.plot(x,ypred)"
   ]
  },
  {
   "cell_type": "code",
   "execution_count": null,
   "metadata": {},
   "outputs": [],
   "source": []
  },
  {
   "cell_type": "code",
   "execution_count": null,
   "metadata": {},
   "outputs": [],
   "source": []
  },
  {
   "cell_type": "code",
   "execution_count": null,
   "metadata": {},
   "outputs": [],
   "source": []
  }
 ],
 "metadata": {
  "kernelspec": {
   "display_name": "Python 3",
   "language": "python",
   "name": "python3"
  },
  "language_info": {
   "codemirror_mode": {
    "name": "ipython",
    "version": 3
   },
   "file_extension": ".py",
   "mimetype": "text/x-python",
   "name": "python",
   "nbconvert_exporter": "python",
   "pygments_lexer": "ipython3",
   "version": "3.6.6"
  }
 },
 "nbformat": 4,
 "nbformat_minor": 2
}
