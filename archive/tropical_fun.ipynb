{
 "cells": [
  {
   "cell_type": "code",
   "execution_count": 1,
   "metadata": {},
   "outputs": [],
   "source": [
    "import numpy as np\n",
    "from sklearn.datasets.samples_generator import make_blobs\n",
    "import matplotlib.pyplot as plt\n",
    "from sklearn.datasets import make_classification\n",
    "from sklearn.metrics.pairwise import euclidean_distances"
   ]
  },
  {
   "cell_type": "code",
   "execution_count": 2,
   "metadata": {},
   "outputs": [],
   "source": [
    "from net_utils import *"
   ]
  },
  {
   "cell_type": "code",
   "execution_count": 3,
   "metadata": {},
   "outputs": [],
   "source": [
    "circle = np.array([[np.cos(x),np.sin(x)] for x in np.random.rand(100)*2*np.pi])\n",
    "X, Y = make_blobs(n_samples=70, centers=circle, n_features=2,\n",
    "                 random_state=0,cluster_std =0.1)\n",
    "r = np.random.uniform(-2,2,(200,2))\n",
    "lr = (np.min(euclidean_distances(circle,r),axis = 0)>0.1)*1.\n",
    "Xtrain = np.concatenate((r,X))\n",
    "Ytrain = np.concatenate((lr,np.zeros(70))).astype(float)\n",
    "Xtrain.shape,Ytrain.shape\n",
    "Ytrain = Ytrain.reshape(-1,1)\n",
    "Ytrain.shape\n",
    "t = np.linspace(-2, 2,100, endpoint=False)\n",
    "T = np.zeros((10100,2))\n",
    "a=0\n",
    "for i in t:\n",
    "    for j in t:\n",
    "        T[a]=np.array([i,j])\n",
    "        a+=1\n",
    "    a+=1"
   ]
  },
  {
   "cell_type": "code",
   "execution_count": 4,
   "metadata": {},
   "outputs": [],
   "source": [
    "model = Simple_Net()\n",
    "#optimizer = optim.Adam(model.parameters(), weight_decay=0.01)\n",
    "optimizer = Adam_bis(model.parameters(), prec = 4,weight_decay=0)\n",
    "criterion = F.binary_cross_entropy_with_logits\n",
    "file_dataset = csvDataset(Xtrain,Ytrain,transform= ToTensor())\n",
    "final_loader = torch.utils.data.DataLoader(file_dataset,batch_size=3, shuffle=True)\n",
    "inference_dataset = csvDataset(T,np.zeros((10100,2)),transform= ToTensor())\n",
    "inference_loader = torch.utils.data.DataLoader(inference_dataset,batch_size=10100, shuffle=False)"
   ]
  },
  {
   "cell_type": "code",
   "execution_count": 5,
   "metadata": {},
   "outputs": [],
   "source": [
    "model,train_accuracy,eval_n,weights = train_model_cc_fast(model, final_loader,inference_loader, criterion,\n",
    "    optimizer,Xtrain.shape[0], num_epochs=200)"
   ]
  },
  {
   "cell_type": "code",
   "execution_count": 6,
   "metadata": {},
   "outputs": [
    {
     "data": {
      "text/plain": [
       "<matplotlib.legend.Legend at 0x7f3183f11128>"
      ]
     },
     "execution_count": 6,
     "metadata": {},
     "output_type": "execute_result"
    },
    {
     "data": {
      "image/png": "[encoded data removed]",
      "text/plain": [
       "<Figure size 432x288 with 1 Axes>"
      ]
     },
     "metadata": {
      "needs_background": "light"
     },
     "output_type": "display_data"
    }
   ],
   "source": [
    "plt.plot(train_accuracy,label='accuracy')\n",
    "plt.legend()"
   ]
  },
  {
   "cell_type": "code",
   "execution_count": 7,
   "metadata": {},
   "outputs": [],
   "source": [
    "class Polynomial_Tropical_net:\n",
    "    \n",
    "    def __init__(self, poids,prec):\n",
    "\n",
    "        self.poids = poids\n",
    "        self.size = int(len(poids.values())/2)\n",
    "        self.F=[]\n",
    "        self.G=[]\n",
    "        self.H=[]\n",
    "        self.prec = prec\n",
    "        self.shapes=[2]\n",
    "        self.hyp = []\n",
    "        for i in range(1,self.size+1):\n",
    "            W = self.poids['f'+str(i)+'.weight']\n",
    "            self.shapes.append(W.shape[0])\n",
    "\n",
    "    def get_hypersurface(self,T):\n",
    "        for i in range(T.shape[0]):\n",
    "            self.generate_polynom(T[i])\n",
    "            \n",
    "    def trace_hypersurface(self):\n",
    "        R = np.zeros((len(self.hyp),2))\n",
    "        for i in range(len(self.hyp)):\n",
    "            R[i]=self.hyp[i]\n",
    "        plt.scatter(R[:, 0], R[:, 1], marker='o',s=25, edgecolor='k')       \n",
    "    \n",
    "    def stack_hypersurface(self):\n",
    "        R = np.zeros((len(self.hyp),2))\n",
    "        for i in range(len(self.hyp)):\n",
    "            R[i]=self.hyp[i]\n",
    "        return R\n",
    "    \n",
    "    def generate_polynom(self,x):\n",
    "        \n",
    "        state_f = x\n",
    "        state_g = np.zeros((self.shapes[0]))\n",
    "        state_h = np.zeros((self.shapes[0]))\n",
    "        self.F.append(state_f)\n",
    "        self.G.append(state_g)\n",
    "        self.H.append(state_h)\n",
    "        \n",
    "        \n",
    "        for i in range(1,self.size):\n",
    "            W = self.poids['f'+str(i)+'.weight']\n",
    "            W_plus,W_moins = decompose(W)\n",
    "            b = self.poids['f'+str(i)+'.bias']\n",
    "            \n",
    "            #a = np.zeros((W.shape[0]))\n",
    "            #c = np.zeros((W.shape[0]))\n",
    "            #for k in range(W.shape[0]):\n",
    "                \n",
    "             #       print(W[0].shape)\n",
    "                    \n",
    "              #      a[k]=np.maximum(W_plus[k,:].dot(state)+b[k],0+W_moins[k,:].dot(state))\n",
    "               #     b[k]=W_moins[k,:].dot(state)\n",
    "            state_g_next = W_plus.dot(state_g) + W_moins.dot(state_f)\n",
    "            state_h_next = W_plus.dot(state_f) + W_moins.dot(state_g)+b\n",
    "            state_f_next = np.maximum(state_h_next,state_g_next+0)\n",
    "            \n",
    "            if (min(abs((state_h_next-state_g_next)))<self.prec):\n",
    "                #print(x,'added')\n",
    "                self.hyp.append(x)\n",
    "            \n",
    "            #print(W_plus)\n",
    "            #print(state_f_next.shape,'f')\n",
    "            #print(state_g_next.shape,'g')\n",
    "            #print((state_h_next+b).shape,'h')\n",
    "            #print((state_f_next+b-state_g_next,'out'))\n",
    "\n",
    "            state_g,state_h,state_f=state_g_next,state_h_next,state_f_next\n",
    "            \n",
    "            self.F.append(state_f)\n",
    "            self.G.append(state_g)\n",
    "            self.H.append(state_h)\n",
    "            \n",
    "            #print(i , 'layer done')\n",
    "            \n",
    "            \n",
    "            \n",
    "        W = self.poids['f'+str(self.size)+'.weight']\n",
    "        W_plus,W_moins = decompose(W)\n",
    "        b = self.poids['f'+str(self.size)+'.bias']\n",
    "        state_g_next = W_plus.dot(state_g) + W_moins.dot(state_f)\n",
    "        state_h_next = W_plus.dot(state_f) + W_moins.dot(state_g)\n",
    "        \n",
    "        ll = state_h_next+b-state_g_next\n",
    "        #print(self.size , 'layer done')\n",
    "        return ll\n",
    "    \n",
    "    \n",
    "    \n",
    "    def give_polynom(self):\n",
    "        \n",
    "        input_size = self.poids['f1.weight'].shape[1]\n",
    "        \n",
    "        def id_(x):\n",
    "            return x\n",
    "        \n",
    "        def identity(number):\n",
    "            return [p]\n",
    "        \n",
    "        state_f = identity \n",
    "        state_g = []\n",
    "        state_h = []\n",
    "        self.F.append(state_f)\n",
    "        self.G.append(state_g)\n",
    "        self.H.append(state_h)\n",
    "        \n",
    "        \n",
    "        for i in range(1,self.size):\n",
    "            W = self.poids['f'+str(i)+'.weight']\n",
    "            W_plus,W_moins = decompose(W)\n",
    "            b = self.poids['f'+str(i)+'.bias']\n",
    "\n",
    "            state_g_next = W_plus.dot(state_g) + W_moins.dot(state_f)\n",
    "            state_h_next = W_plus.dot(state_f) + W_moins.dot(state_g)+b\n",
    "            state_f_next = np.maximum(state_h_next,state_g_next+0)\n",
    "\n",
    "            state_g,state_h,state_f=state_g_next,state_h_next,state_f_next\n",
    "            \n",
    "            self.F.append(state_f)\n",
    "            self.G.append(state_g)\n",
    "            self.H.append(state_h)\n",
    "            \n",
    "            \n",
    "            \n",
    "        W = self.poids['f'+str(self.size)+'.weight']\n",
    "        W_plus,W_moins = decompose(W)\n",
    "        b = self.poids['f'+str(self.size)+'.bias']\n",
    "        state_g_next = W_plus.dot(state_g) + W_moins.dot(state_f)\n",
    "        state_h_next = W_plus.dot(state_f) + W_moins.dot(state_g)\n",
    "        \n",
    "        ll = state_h_next+b-state_g_next\n",
    "        print('c')\n",
    "        return ll\n"
   ]
  },
  {
   "cell_type": "code",
   "execution_count": 8,
   "metadata": {},
   "outputs": [],
   "source": [
    "t = np.linspace(-2, 2,100, endpoint=False)\n",
    "T = np.zeros((10100,2))\n",
    "a=0\n",
    "for i in t:\n",
    "    for j in t:\n",
    "        T[a]=np.array([i,j])\n",
    "        a+=1\n",
    "    a+=1"
   ]
  },
  {
   "cell_type": "code",
   "execution_count": 9,
   "metadata": {},
   "outputs": [
    {
     "data": {
      "image/png": "[encoded data removed]",
      "text/plain": [
       "<Figure size 1080x432 with 10 Axes>"
      ]
     },
     "metadata": {},
     "output_type": "display_data"
    }
   ],
   "source": [
    "fig, axs = plt.subplots(2,5, figsize=(15, 6), facecolor='w', edgecolor='k')\n",
    "fig.subplots_adjust(hspace = .5, wspace=.001)\n",
    "\n",
    "axs = axs.ravel()\n",
    "\n",
    "for i in range(10):\n",
    "    rr = eval_n[i*20].reshape(10100)\n",
    "    axs[i].scatter(T[:, 0], T[:, 1], c =rr)\n",
    "    axs[i].set_title(str(1+i*20))"
   ]
  },
  {
   "cell_type": "code",
   "execution_count": 10,
   "metadata": {},
   "outputs": [
    {
     "data": {
      "image/png": "[encoded data removed]",
      "text/plain": [
       "<Figure size 1080x432 with 10 Axes>"
      ]
     },
     "metadata": {},
     "output_type": "display_data"
    }
   ],
   "source": [
    "fig, axs = plt.subplots(2,5, figsize=(15, 6), facecolor='w', edgecolor='k')\n",
    "fig.subplots_adjust(hspace = .5, wspace=.003)\n",
    "\n",
    "axs = axs.ravel()\n",
    "\n",
    "for i in range(10):\n",
    "    P = Polynomial_Tropical_net(weights[1+i*20],0.009)\n",
    "    P.get_hypersurface(T)\n",
    "    R = P.stack_hypersurface()\n",
    "    axs[i].scatter(R[:, 0], R[:, 1],marker='o',s=5, edgecolor='k')\n",
    "    axs[i].set_title(str(1+i*20))"
   ]
  },
  {
   "cell_type": "code",
   "execution_count": 11,
   "metadata": {},
   "outputs": [
    {
     "data": {
      "text/plain": [
       "array([[ 0.2561    ,  0.49629998],\n",
       "       [ 0.426     , -0.64419997],\n",
       "       [-0.6343    ,  0.3109    ],\n",
       "       [ 0.2043    ,  0.0267    ]], dtype=float32)"
      ]
     },
     "execution_count": 11,
     "metadata": {},
     "output_type": "execute_result"
    }
   ],
   "source": [
    "weights[0]['f1.weight']"
   ]
  },
  {
   "cell_type": "code",
   "execution_count": 12,
   "metadata": {},
   "outputs": [],
   "source": [
    "def id_(x):\n",
    "    return x"
   ]
  },
  {
   "cell_type": "code",
   "execution_count": 13,
   "metadata": {},
   "outputs": [],
   "source": [
    "def id_0(x):\n",
    "    return x[0]\n",
    "def id_1(x):\n",
    "    return x[1]"
   ]
  },
  {
   "cell_type": "code",
   "execution_count": 14,
   "metadata": {},
   "outputs": [],
   "source": [
    "class myfunction:\n",
    "    \n",
    "    \n",
    "    def __init__(self,poids):\n",
    "\n",
    "        self.f = [id_0,id_1]\n",
    "        self.poids = poids\n",
    "        self.size = int(len(poids.values())/2)\n",
    "        self.F = []\n",
    "        self.G = []\n",
    "        self.H = []\n",
    "        \n",
    "    def give_pol(self):\n",
    "        \n",
    "        state_f = self.f\n",
    "        self.F.append(state_f)\n",
    "        state_g = []\n",
    "        \n",
    "        for i in range(1,self.size):\n",
    "            W = self.poids['f'+str(i)+'.weight']\n",
    "            W_plus,W_moins = decompose(W)\n",
    "            b = self.poids['f'+str(i)+'.bias']\n",
    "            \n",
    "            if i>1:\n",
    "                print(len(state_f),'f',i)\n",
    "                print(len(state_g),'g',i)\n",
    "                print(len(state_h),'h',i)\n",
    "\n",
    "            state_g_next = add_liste_f(array_mult_(W_plus,state_g) , array_mult_(W_moins,state_f))\n",
    "            \n",
    "            state_h_next = add_liste_f(array_mult_(W_plus,state_f) , array_mult_(W_moins,state_g))\n",
    "            state_h_next = add_array_f(b,state_h_next)\n",
    "            \n",
    "            state_f_next = op_liste_ff(state_h_next,state_g_next,np.maximum)\n",
    "            state_g,state_h,state_f=state_g_next,state_h_next,state_f_next\n",
    "            \n",
    "            self.F.append(state_f)\n",
    "            self.G.append(state_g)\n",
    "            self.H.append(state_h)\n",
    "\n",
    "            \n",
    "            print('ok',i)\n",
    "        \n",
    "        print ('last layer')\n",
    "        W = self.poids['f'+str(self.size)+'.weight']\n",
    "        W_plus,W_moins = decompose(W)\n",
    "        b = self.poids['f'+str(self.size)+'.bias']\n",
    "        \n",
    "        state_g_next = add_liste_f(array_mult_(W_plus,state_g) , array_mult_(W_moins,state_f))\n",
    "        state_h_next = add_liste_f(array_mult_(W_plus,state_f) , array_mult_(W_moins,state_g))\n",
    "        state_h_next = add_array_f(b,state_h_next)\n",
    "\n",
    "        return  add_liste_f(state_h_next,[mult_f(-1,state_g_next[0])])\n",
    "        \n",
    "        \n",
    "\n"
   ]
  },
  {
   "cell_type": "code",
   "execution_count": 15,
   "metadata": {},
   "outputs": [],
   "source": [
    "def no_f(x):\n",
    "    return 0\n",
    "\n",
    "def add_f(number,f):\n",
    "    def new_f(x):\n",
    "        return number+f(x)\n",
    "    return new_f\n",
    "\n",
    "def add_array_f(array,f):\n",
    "    j = len(f)\n",
    "    k = []\n",
    "    for i in range (j):\n",
    "        k.append(add_f(array[i],f[i]))\n",
    "    return k\n",
    "\n",
    "def add_f_f(f,g):\n",
    "    def new_f(x):\n",
    "        return g(x)+f(x)\n",
    "    return new_f\n",
    "\n",
    "def add_liste_f(f,g):\n",
    "    if f==[]:\n",
    "        return g\n",
    "    \n",
    "    if g==[]:\n",
    "        return f\n",
    "    j = len(f)\n",
    "    k = []\n",
    "    for i in range (j):\n",
    "        k.append(add_f_f(f[i],g[i]))\n",
    "    return k\n",
    "\n",
    "def mult_f(number,f):\n",
    "    def new_f(x):\n",
    "        return number*f(x)\n",
    "    return new_f\n",
    "\n",
    "def array_mult_(array,f):\n",
    "    if f==[]:\n",
    "        return []\n",
    "    I,J = array.shape\n",
    "    rez_f = [no_f for i in range(I)]\n",
    "    for i in range(I):\n",
    "        for j in range(J):\n",
    "            rez_f[i]= add_f_f(mult_f(array[i,j],f[j]),rez_f[i])\n",
    "            \n",
    "    return rez_f\n",
    "\n",
    "def op_ff(f,g,h):\n",
    "    \n",
    "    def new_f(x):\n",
    "        return h(f(x),g(x))\n",
    "    return new_f\n",
    "\n",
    "def op_liste_ff(f,g,h):\n",
    "    j = len(f)\n",
    "    k = []\n",
    "    for i in range (j):\n",
    "        k.append(op_ff(f[i],g[i],h))\n",
    "    return k"
   ]
  },
  {
   "cell_type": "markdown",
   "metadata": {},
   "source": [
    "____________"
   ]
  },
  {
   "cell_type": "code",
   "execution_count": 16,
   "metadata": {},
   "outputs": [],
   "source": [
    "L =myfunction(weights[0])"
   ]
  },
  {
   "cell_type": "code",
   "execution_count": 17,
   "metadata": {},
   "outputs": [
    {
     "name": "stdout",
     "output_type": "stream",
     "text": [
      "ok 1\n",
      "4 f 2\n",
      "4 g 2\n",
      "4 h 2\n",
      "ok 2\n",
      "last layer\n"
     ]
    },
    {
     "data": {
      "text/plain": [
       "[<function __main__.add_f_f.<locals>.new_f(x)>]"
      ]
     },
     "execution_count": 17,
     "metadata": {},
     "output_type": "execute_result"
    }
   ],
   "source": [
    "L.give_pol()"
   ]
  },
  {
   "cell_type": "code",
   "execution_count": 18,
   "metadata": {},
   "outputs": [
    {
     "name": "stdout",
     "output_type": "stream",
     "text": [
      "ok 1\n",
      "5 f 2\n",
      "5 g 2\n",
      "5 h 2\n",
      "ok 2\n",
      "last layer\n"
     ]
    },
    {
     "data": {
      "text/plain": [
       "-0.315740309087565"
      ]
     },
     "execution_count": 18,
     "metadata": {},
     "output_type": "execute_result"
    }
   ],
   "source": [
    "L.give_pol()[0]((1,2))"
   ]
  },
  {
   "cell_type": "code",
   "execution_count": 19,
   "metadata": {},
   "outputs": [],
   "source": [
    "class myfunction_name:\n",
    "    \n",
    "    \n",
    "    def __init__(self,poids):\n",
    "\n",
    "        self.f = ['X1','X2']\n",
    "        self.poids = poids\n",
    "        self.size = int(len(poids.values())/2)\n",
    "        self.F = []\n",
    "        self.G = []\n",
    "        self.H = []\n",
    "        \n",
    "    def give_name(self):\n",
    "        \n",
    "        state_f = self.f\n",
    "        self.F.append(state_f)\n",
    "        state_g = []\n",
    "        \n",
    "        for i in range(1,self.size):\n",
    "            \n",
    "            W = self.poids['f'+str(i)+'.weight']\n",
    "            W_plus,W_moins = decompose(W)\n",
    "            b = self.poids['f'+str(i)+'.bias']\n",
    "            \n",
    "            state_g_next = add_liste_f_name(array_mult_name(W_plus,state_g) , array_mult_name(W_moins,state_f))\n",
    "            state_h_next = add_liste_f_name(array_mult_name(W_plus,state_f) , array_mult_name(W_moins,state_g))\n",
    "            state_h_next = add_array_f_name(b,state_h_next)\n",
    "            \n",
    "            state_f_next = op_liste_ff_name(state_h_next,state_g_next,'max')\n",
    "            state_g,state_h,state_f=state_g_next,state_h_next,state_f_next\n",
    "            \n",
    "            self.F.append(state_f)\n",
    "            self.G.append(state_g)\n",
    "            self.H.append(state_h)\n",
    "            \n",
    "            print('ok',i)\n",
    "        \n",
    "        print ('last layer')\n",
    "        W = self.poids['f'+str(self.size)+'.weight']\n",
    "        W_plus,W_moins = decompose(W)\n",
    "        b = self.poids['f'+str(self.size)+'.bias']\n",
    "        \n",
    "        state_g_next = add_liste_f_name(array_mult_name(W_plus,state_g) , array_mult_name(W_moins,state_f))\n",
    "        state_h_next = add_liste_f_name(array_mult_name(W_plus,state_f) , array_mult_name(W_moins,state_g))\n",
    "        state_h_next = add_array_f_name(b,state_h_next)\n",
    "        \n",
    "        return  add_liste_f_name(state_h_next,[mult_f_name(-1,state_g_next[0])])"
   ]
  },
  {
   "cell_type": "code",
   "execution_count": 20,
   "metadata": {},
   "outputs": [],
   "source": [
    "def add_f_name(number,f):\n",
    "    if f == '':\n",
    "        return str(number)\n",
    "    if number==0:\n",
    "        return f\n",
    "    return str(number)+ ' + ' + f\n",
    "\n",
    "\n",
    "def add_array_f_name(array,f):\n",
    "    j = len(f)\n",
    "    k = []\n",
    "    for i in range (j):\n",
    "        k.append(add_f_name(array[i],f[i]))\n",
    "    return k\n",
    "\n",
    "def add_f_f_name(f,g):\n",
    "    if f == '':\n",
    "        return g\n",
    "    if g == '':\n",
    "        return f\n",
    "    return f + ' + ' + g\n",
    "\n",
    "def add_liste_f_name(f,g):\n",
    "    if f==[]:\n",
    "        return g\n",
    "    \n",
    "    if g==[]:\n",
    "        return f\n",
    "    j = len(f)\n",
    "    k = []\n",
    "    for i in range (j):\n",
    "        k.append(add_f_f_name(f[i],g[i]))\n",
    "    return k\n",
    "\n",
    "def mult_f_name(number,f):\n",
    "    if number == 0:\n",
    "        return ''\n",
    "    return str(number)+' * ' + f\n",
    "\n",
    "def array_mult_name(array,f):\n",
    "    if f==[]:\n",
    "        return []\n",
    "    I,J = array.shape\n",
    "    rez_f = ['' for i in range(I)]\n",
    "    for i in range(I):\n",
    "        for j in range(J):\n",
    "            rez_f[i]= add_f_f_name(mult_f_name(array[i,j],f[j]),rez_f[i])\n",
    "    return rez_f\n",
    "\n",
    "def op_ff_name(f,g,h):\n",
    "    if g=='':\n",
    "        g='0'\n",
    "    if f=='':\n",
    "        f='0'    \n",
    "    return h + '(' + f + ',' + g +')'\n",
    "\n",
    "def op_liste_ff_name(f,g,h):\n",
    "    j = len(f)\n",
    "    k = []\n",
    "    for i in range (j):\n",
    "        k.append(op_ff_name(f[i],g[i],h))\n",
    "    return k"
   ]
  },
  {
   "cell_type": "code",
   "execution_count": 21,
   "metadata": {},
   "outputs": [],
   "source": [
    "LL =myfunction_name(weights[0])"
   ]
  },
  {
   "cell_type": "code",
   "execution_count": 22,
   "metadata": {},
   "outputs": [
    {
     "name": "stdout",
     "output_type": "stream",
     "text": [
      "ok 1\n",
      "ok 2\n",
      "last layer\n"
     ]
    },
    {
     "data": {
      "text/plain": [
       "['-0.3294 + 0.1209 * max(0.3954 + 0.2382 * max(-0.2908 + 0.2223 * X2,0.12879999 * X1) + 0.21669999 * max(-0.4552 + 0.4495 * X1,0.24939999 * X2) + 0.47939998 * max(-0.04 + 0.6929 * X2 + 0.092199996 * X1,0) + 0.3225 * 0.2557 * X1 + 0.248 * ,0.2382 * 0.12879999 * X1 + 0.21669999 * 0.24939999 * X2 + 0.47939998 *  + 0.3225 * max(-0.6387 + 0.4718 * X2,0.2557 * X1) + 0.248 * max(-0.72679996 + 0.5239 * X2 + 0.2482 * X1,0)) + 0.46739998 * max(0.1769 + 0.0128 * max(-0.2908 + 0.2223 * X2,0.12879999 * X1) + 0.092199996 * max(-0.04 + 0.6929 * X2 + 0.092199996 * X1,0) + 0.35779998 * max(-0.6387 + 0.4718 * X2,0.2557 * X1) + 0.12619999 * 0.24939999 * X2 + 0.2936 * ,0.0128 * 0.12879999 * X1 + 0.092199996 *  + 0.35779998 * 0.2557 * X1 + 0.12619999 * max(-0.4552 + 0.4495 * X1,0.24939999 * X2) + 0.2936 * max(-0.72679996 + 0.5239 * X2 + 0.2482 * X1,0)) + 0.26 * 0.0341 * 0.12879999 * X1 + 0.1743 *  + 0.1589 *  + 0.1735 * max(-0.4552 + 0.4495 * X1,0.24939999 * X2) + 0.0133 * max(-0.6387 + 0.4718 * X2,0.2557 * X1) + 0.2026 * 0.3491 * 0.2557 * X1 + 0.1514 * max(-0.2908 + 0.2223 * X2,0.12879999 * X1) + 0.2043 * max(-0.4552 + 0.4495 * X1,0.24939999 * X2) + 0.025799999 * max(-0.04 + 0.6929 * X2 + 0.092199996 * X1,0) + 0.3534 * max(-0.72679996 + 0.5239 * X2 + 0.2482 * X1,0) + 0.065 * 0.0188 * 0.12879999 * X1 + 0.2333 * 0.24939999 * X2 + 0.0954 *  + 0.1629 * 0.2557 * X1 + 0.3667 * max(-0.72679996 + 0.5239 * X2 + 0.2482 * X1,0) + -1 * 0.1209 * 0.2382 * 0.12879999 * X1 + 0.21669999 * 0.24939999 * X2 + 0.47939998 *  + 0.3225 * max(-0.6387 + 0.4718 * X2,0.2557 * X1) + 0.248 * max(-0.72679996 + 0.5239 * X2 + 0.2482 * X1,0) + 0.46739998 * 0.0128 * 0.12879999 * X1 + 0.092199996 *  + 0.35779998 * 0.2557 * X1 + 0.12619999 * max(-0.4552 + 0.4495 * X1,0.24939999 * X2) + 0.2936 * max(-0.72679996 + 0.5239 * X2 + 0.2482 * X1,0) + 0.26 * max(0.3285 + 0.0341 * max(-0.2908 + 0.2223 * X2,0.12879999 * X1) + 0.1743 * max(-0.04 + 0.6929 * X2 + 0.092199996 * X1,0) + 0.1589 * max(-0.72679996 + 0.5239 * X2 + 0.2482 * X1,0) + 0.1735 * 0.24939999 * X2 + 0.0133 * 0.2557 * X1,0.0341 * 0.12879999 * X1 + 0.1743 *  + 0.1589 *  + 0.1735 * max(-0.4552 + 0.4495 * X1,0.24939999 * X2) + 0.0133 * max(-0.6387 + 0.4718 * X2,0.2557 * X1)) + 0.2026 * max(-0.2848 + 0.3491 * max(-0.6387 + 0.4718 * X2,0.2557 * X1) + 0.1514 * 0.12879999 * X1 + 0.2043 * 0.24939999 * X2 + 0.025799999 *  + 0.3534 * ,0.3491 * 0.2557 * X1 + 0.1514 * max(-0.2908 + 0.2223 * X2,0.12879999 * X1) + 0.2043 * max(-0.4552 + 0.4495 * X1,0.24939999 * X2) + 0.025799999 * max(-0.04 + 0.6929 * X2 + 0.092199996 * X1,0) + 0.3534 * max(-0.72679996 + 0.5239 * X2 + 0.2482 * X1,0)) + 0.065 * max(-0.19659999 + 0.0188 * max(-0.2908 + 0.2223 * X2,0.12879999 * X1) + 0.2333 * max(-0.4552 + 0.4495 * X1,0.24939999 * X2) + 0.0954 * max(-0.04 + 0.6929 * X2 + 0.092199996 * X1,0) + 0.1629 * max(-0.6387 + 0.4718 * X2,0.2557 * X1) + 0.3667 * ,0.0188 * 0.12879999 * X1 + 0.2333 * 0.24939999 * X2 + 0.0954 *  + 0.1629 * 0.2557 * X1 + 0.3667 * max(-0.72679996 + 0.5239 * X2 + 0.2482 * X1,0))']"
      ]
     },
     "execution_count": 22,
     "metadata": {},
     "output_type": "execute_result"
    }
   ],
   "source": [
    "LL.give_name()"
   ]
  },
  {
   "cell_type": "code",
   "execution_count": 23,
   "metadata": {},
   "outputs": [
    {
     "data": {
      "text/plain": [
       "['max(-0.72679996 + 0.5239 * X2 + 0.2482 * X1,0)',\n",
       " 'max(-0.6387 + 0.4718 * X2,0.2557 * X1)',\n",
       " 'max(-0.04 + 0.6929 * X2 + 0.092199996 * X1,0)',\n",
       " 'max(-0.4552 + 0.4495 * X1,0.24939999 * X2)',\n",
       " 'max(-0.2908 + 0.2223 * X2,0.12879999 * X1)']"
      ]
     },
     "execution_count": 23,
     "metadata": {},
     "output_type": "execute_result"
    }
   ],
   "source": [
    "LL.F[1]"
   ]
  },
  {
   "cell_type": "code",
   "execution_count": 24,
   "metadata": {},
   "outputs": [
    {
     "data": {
      "text/plain": [
       "['', '0.2557 * X1', '', '0.24939999 * X2', '0.12879999 * X1']"
      ]
     },
     "execution_count": 24,
     "metadata": {},
     "output_type": "execute_result"
    }
   ],
   "source": [
    "LL.G[0]"
   ]
  },
  {
   "cell_type": "code",
   "execution_count": 25,
   "metadata": {},
   "outputs": [
    {
     "data": {
      "text/plain": [
       "['-0.72679996 + 0.5239 * X2 + 0.2482 * X1',\n",
       " '-0.6387 + 0.4718 * X2',\n",
       " '-0.04 + 0.6929 * X2 + 0.092199996 * X1',\n",
       " '-0.4552 + 0.4495 * X1',\n",
       " '-0.2908 + 0.2223 * X2']"
      ]
     },
     "execution_count": 25,
     "metadata": {},
     "output_type": "execute_result"
    }
   ],
   "source": [
    "LL.H[0]"
   ]
  },
  {
   "cell_type": "code",
   "execution_count": 26,
   "metadata": {},
   "outputs": [
    {
     "data": {
      "text/plain": [
       "(0.0, 0.0, 0.0)"
      ]
     },
     "execution_count": 26,
     "metadata": {},
     "output_type": "execute_result"
    }
   ],
   "source": [
    "L.F[1][0]((0,1)),L.F[1][0]((1,0)),L.F[1][0]((0,0))"
   ]
  },
  {
   "cell_type": "code",
   "execution_count": 27,
   "metadata": {},
   "outputs": [
    {
     "data": {
      "text/plain": [
       "array([[ 0.2482    ,  0.5239    ],\n",
       "       [-0.2557    ,  0.4718    ],\n",
       "       [ 0.0922    ,  0.6929    ],\n",
       "       [ 0.4495    , -0.24939999],\n",
       "       [-0.12879999,  0.2223    ]], dtype=float32)"
      ]
     },
     "execution_count": 27,
     "metadata": {},
     "output_type": "execute_result"
    }
   ],
   "source": [
    "weights[0]['f1.weight']"
   ]
  },
  {
   "cell_type": "code",
   "execution_count": 28,
   "metadata": {},
   "outputs": [
    {
     "data": {
      "text/plain": [
       "array([-0.72679996, -0.6387    , -0.04      , -0.4552    , -0.2908    ],\n",
       "      dtype=float32)"
      ]
     },
     "execution_count": 28,
     "metadata": {},
     "output_type": "execute_result"
    }
   ],
   "source": [
    "weights[0]['f1.bias']"
   ]
  },
  {
   "cell_type": "markdown",
   "metadata": {},
   "source": [
    "_____________"
   ]
  },
  {
   "cell_type": "markdown",
   "metadata": {},
   "source": [
    "_____________\n"
   ]
  },
  {
   "cell_type": "markdown",
   "metadata": {},
   "source": [
    "class myfunction_simple:\n",
    "    \n",
    "    \n",
    "    def __init__(self,poids):\n",
    "\n",
    "        self.f = [id_0,id_1]\n",
    "        self.poids = poids\n",
    "        self.size = int(len(poids.values())/2)\n",
    "        self.F = []\n",
    "        self.G = []\n",
    "        self.H = []\n",
    "\n",
    "        \n",
    "    def give_pol(self):\n",
    "        \n",
    "        state_f = self.f\n",
    "        state_g = []\n",
    "\n",
    "        self.F.append(state_f)\n",
    "        self.G.append(state_g)\n",
    "\n",
    "        \n",
    "        for i in range(1,self.size):\n",
    "            W = self.poids['f'+str(i)+'.weight']\n",
    "            W_plus,W_moins = decompose(W)\n",
    "            b = self.poids['f'+str(i)+'.bias']\n",
    "            \n",
    "            if i==1:\n",
    "                \n",
    "                state_g_next = [[]]\n",
    "                state_f_next = array_mult_(W,state_f)\n",
    "                state_f_next = add_array_f(b,state_f_next)                \n",
    "                \n",
    "                state_g,state_f=state_g_next,[[i] for i in state_f_next]\n",
    "\n",
    "                self.F.append(state_f)\n",
    "                self.G.append(state_g)\n",
    "\n",
    "            \n",
    "            if i>1:\n",
    "                print(len(state_f),'f',i)\n",
    "                print(len(state_g),'g',i)\n",
    "                print('test')\n",
    "                d = array_mult_simple(W_plus,state_f)\n",
    "                print('test')\n",
    "\n",
    "                state_g_next = add_ll_f_simple(array_mult_simple(W_plus,state_g) , array_mult_simple(W_moins,state_f))\n",
    "\n",
    "                state_f_next = add_ll_f_simple(array_mult_simple(W_plus,state_f) , array_mult_simple(W_moins,state_g))\n",
    "                \n",
    "                state_f_next = add_array_f_simple(b,state_f_next)\n",
    "\n",
    "                state_g,state_f=state_g_next,state_f_next\n",
    "\n",
    "                self.F.append(state_f)\n",
    "                self.G.append(state_g)\n",
    "            \n",
    "            print('ok',i)\n",
    "            \n",
    "        print ('last layer')\n",
    "        \n",
    "        W = self.poids['f'+str(self.size)+'.weight']\n",
    "        W_plus,W_moins = decompose(W)\n",
    "        b = self.poids['f'+str(self.size)+'.bias']\n",
    "        \n",
    "        print(len(state_f),'f',i)\n",
    "        print(len(state_g),'g',i)\n",
    "        \n",
    "        state_g_next = add_ll_f_simple(array_mult_simple(W_plus,state_g) , array_mult_simple(W_moins,state_f))\n",
    "        state_f_next = add_ll_f_simple(array_mult_simple(W_plus,state_f) , array_mult_simple(W_moins,state_g))\n",
    "        \n",
    "        print(len(state_f_next),'f','next',len(state_f_next))\n",
    "        print(len(state_g_next),'g','next',len(state_f_next))\n",
    "        \n",
    "        state_f_next = add_f_simple(b,state_f_next)\n",
    "\n",
    "        #return  add_liste_f(state_h_next,[mult_f(-1,state_g_next[0])])\n",
    "        state_g,state_f=state_g_next,state_f_next\n",
    "        \n",
    "        self.F.append(state_f)\n",
    "        self.G.append(state_g)"
   ]
  },
  {
   "cell_type": "markdown",
   "metadata": {},
   "source": [
    "## SIMPLIFICATION FORME FONCTIONNELLE"
   ]
  },
  {
   "cell_type": "code",
   "execution_count": 34,
   "metadata": {},
   "outputs": [],
   "source": [
    "\n",
    "class myfunction_simple:\n",
    "    \n",
    "    \n",
    "    def __init__(self,poids):\n",
    "\n",
    "        self.f = [id_0,id_1]\n",
    "        self.poids = poids\n",
    "        self.size = int(len(poids.values())/2)\n",
    "        self.F = []\n",
    "        self.G = []\n",
    "        self.H = []\n",
    "\n",
    "        \n",
    "    def give_pol(self):\n",
    "        \n",
    "        state_f = self.f\n",
    "        state_g = []\n",
    "        state_h = []\n",
    "        self.F.append(state_f)\n",
    "        self.G.append(state_g)\n",
    "        self.H.append(state_h)\n",
    "        \n",
    "        for i in range(1,self.size):\n",
    "            W = self.poids['f'+str(i)+'.weight']\n",
    "            W_plus,W_moins = decompose(W)\n",
    "            b = self.poids['f'+str(i)+'.bias']\n",
    "                        \n",
    "            if i ==1:\n",
    "                \n",
    "            \n",
    "                state_g_next = array_mult_ss(W_moins,state_f)\n",
    "                \n",
    "                state_h_next = array_mult_ss(W_plus,state_f)\n",
    "                state_h_next = add_array_f_simple(b,state_h_next)\n",
    "                \n",
    "                \n",
    "                \n",
    "                state_f_next = conc_f_simple(state_h_next,state_g_next)\n",
    "                \n",
    "                state_g,state_h,state_f=state_g_next,state_h_next,state_f_next\n",
    "\n",
    "                self.F.append(state_f)\n",
    "                self.G.append(state_g)\n",
    "                self.H.append(state_h)\n",
    "            \n",
    "            if i>1:\n",
    "                    \n",
    "                    \n",
    "                state_g_next = add_ll_f_simple(array_mult_simple(W_plus,state_g) , array_mult_simple(W_moins,state_f))\n",
    "                print('half')\n",
    "                state_h_next = add_ll_f_simple(array_mult_simple(W_plus,state_f) , array_mult_simple(W_moins,state_g))\n",
    "                state_h_next = add_array_f_simple(b,state_h_next)\n",
    "\n",
    "                state_f_next = conc_f_simple(state_h_next,state_g_next)\n",
    "\n",
    "                state_g,state_h,state_f=state_g_next,state_h_next,state_f_next\n",
    "\n",
    "                self.F.append(state_f)\n",
    "                self.G.append(state_g)\n",
    "                self.H.append(state_h)\n",
    "            \n",
    "            print('ok',i)"
   ]
  },
  {
   "cell_type": "code",
   "execution_count": 18,
   "metadata": {},
   "outputs": [],
   "source": [
    "def mult_ss(array,lf):\n",
    "    \n",
    "    ' mult_ss supposed to give a list given a list and a vector'\n",
    "    'ok'\n",
    "    if lf ==[]:\n",
    "        return []   \n",
    "    r = no_f\n",
    "    l = len(lf)\n",
    "    for j in range(l):\n",
    "        r = add_f_f(r,mult_f(array[j],lf[j]))      \n",
    "    return [r]\n",
    "\n",
    "\n",
    "def array_mult_ss(array,lf):\n",
    "    'starts with id liste, give list of list'\n",
    "    if lf==[]:\n",
    "        return [[]]\n",
    "    I,J = array.shape\n",
    "    rez_lf = []\n",
    "    \n",
    "    for i in range(I):            \n",
    "        rez_lf.append(mult_ss(array[i,:],lf)) \n",
    "        ' mult_ss give a list given a list and a vector'\n",
    "    return rez_lf"
   ]
  },
  {
   "cell_type": "code",
   "execution_count": 19,
   "metadata": {},
   "outputs": [],
   "source": [
    "def mult_simple(number,lf):\n",
    "    \n",
    "    \n",
    "    ' mult_simple is supposed to return a list given a number and a list'\n",
    "    'OK'\n",
    "    if lf ==[]:\n",
    "        return []\n",
    "    \n",
    "    r = []\n",
    "    l = len(lf)\n",
    "    for j in range(l):\n",
    "        r.append(mult_f(number,lf[j]))\n",
    "        \n",
    "    return r\n",
    "\n",
    "def mult_f_simple(number_array,llf):\n",
    "    \n",
    "    'mult_f_simple is supposed to return a list of functions given a vector and a list of list'\n",
    "    ' OK ' \n",
    "    if llf ==[[]]:\n",
    "        return [[]]\n",
    "    \n",
    "    r = []\n",
    "    l = len(llf)\n",
    "    for j in range(l):\n",
    "        print(j)\n",
    "        r = add_liste_f_simple(r,mult_simple(number_array[j],llf[j]))\n",
    "        ' mult_simple is supposed to return a list given a number and a list'\n",
    "    return r\n",
    "\n",
    "def array_mult_simple(array,llf):\n",
    "    'FIRST'\n",
    "    \" given a matrix, a list of list of functions, returns a list of list of functions\"\n",
    "    if llf==[[]]:\n",
    "        return [[]]\n",
    "    I,J = array.shape\n",
    "    rez_llf = []\n",
    "    \n",
    "    for i in range(I):            \n",
    "        rez_llf.append(mult_f_simple(array[i,:],llf)) \n",
    "        \" hence mult_f_simple is supposed to return a list of functions given a vector and a list of list\"\n",
    "    return rez_llf\n",
    "\n",
    "\n",
    "def add_liste_f_simple(lf,lg):\n",
    "    if lf==[]:\n",
    "        return lg\n",
    "    if lg==[]:\n",
    "        return lf\n",
    "    k = []\n",
    "    print(len(lf),len(lg))\n",
    "    for i in lf:\n",
    "        for j in lg:\n",
    "            k.append(add_f_f(i,j))\n",
    "    return k\n",
    "\n",
    "'''\n",
    "------------------------------------------------------------------------------------------------\n",
    "'''\n",
    "\n",
    "\n",
    "\n",
    "def add_ll_f_simple(llf,llg):\n",
    "    \n",
    "    \" given two lists of list return one list of lists adding term by term with a max\"\n",
    "     \n",
    "    if llf==[[]]:\n",
    "        return llg\n",
    "    if llg==[[]]:\n",
    "        return llf\n",
    "    l = len(llf)\n",
    "    return [add_liste_f_simple(llf[i],llg[i]) for i in range(l)]\n",
    "\n",
    "def conc_f_simple(llf,llg):\n",
    "    'OK'\n",
    "    if llf==[[]]:\n",
    "        return llg\n",
    "    if llg==[[]]:\n",
    "        return llf\n",
    "    l = len(llf)\n",
    "    return [llf[i]+llg[i] for i in range(l)]\n",
    "\n",
    "'''\n",
    "------------------------------------------------------------------------------------------------\n",
    "'''\n",
    "\n",
    "\n",
    "def add_f_simple(number,lf):\n",
    "    if lf ==[]:\n",
    "        return []\n",
    "    j = len(lf)\n",
    "    k = []\n",
    "    for i in range (j):\n",
    "        k.append(add_f(number,lf[i]))\n",
    "    return k\n",
    "\n",
    "def add_array_f_simple(array,llf):\n",
    "    j = len(llf)\n",
    "    k = []\n",
    "    for i in range (j):\n",
    "        k.append(add_f_simple(array[i],llf[i]))\n",
    "    return k"
   ]
  },
  {
   "cell_type": "markdown",
   "metadata": {},
   "source": [
    "def mult_f_simple(number_array,llf):\n",
    "    if llf ==[]:\n",
    "        return []\n",
    "    \n",
    "    r = []\n",
    "    l = len(lf)\n",
    "    for j in range(l):\n",
    "        def new_f(x):\n",
    "            return number_array[j]*lf(j)(x)\n",
    "        r.append(new_f)\n",
    "        \n",
    "    return r\n",
    "\n",
    "def array_mult_simple(array,llf):\n",
    "    if llf==[[]]:\n",
    "        return [[]]\n",
    "    I,J = array.shape\n",
    "    rez_llf = []\n",
    "    \n",
    "    for i in range(I):            \n",
    "        rez_llf.append(mult_f_simple(array[i,:],llf)) \n",
    "        \n",
    "    return rez_llf"
   ]
  },
  {
   "cell_type": "code",
   "execution_count": 20,
   "metadata": {},
   "outputs": [
    {
     "ename": "NameError",
     "evalue": "name 'myfunction_simple' is not defined",
     "output_type": "error",
     "traceback": [
      "\u001b[0;31m---------------------------------------------------------------------------\u001b[0m",
      "\u001b[0;31mNameError\u001b[0m                                 Traceback (most recent call last)",
      "\u001b[0;32m<ipython-input-20-e9541e9da057>\u001b[0m in \u001b[0;36m<module>\u001b[0;34m\u001b[0m\n\u001b[0;32m----> 1\u001b[0;31m \u001b[0mLL_simple\u001b[0m \u001b[0;34m=\u001b[0m\u001b[0mmyfunction_simple\u001b[0m\u001b[0;34m(\u001b[0m\u001b[0mweights\u001b[0m\u001b[0;34m[\u001b[0m\u001b[0;36m199\u001b[0m\u001b[0;34m]\u001b[0m\u001b[0;34m)\u001b[0m\u001b[0;34m\u001b[0m\u001b[0;34m\u001b[0m\u001b[0m\n\u001b[0m",
      "\u001b[0;31mNameError\u001b[0m: name 'myfunction_simple' is not defined"
     ]
    }
   ],
   "source": [
    "LL_simple =myfunction_simple(weights[199])"
   ]
  },
  {
   "cell_type": "code",
   "execution_count": 38,
   "metadata": {},
   "outputs": [
    {
     "name": "stdout",
     "output_type": "stream",
     "text": [
      "ok 1\n",
      "0\n",
      "1\n",
      "1 1\n",
      "2\n",
      "1 1\n",
      "3\n",
      "1 1\n",
      "4\n",
      "1 1\n",
      "0\n",
      "1\n",
      "1 1\n",
      "2\n",
      "1 1\n",
      "3\n",
      "1 1\n",
      "4\n",
      "1 1\n",
      "0\n",
      "1\n",
      "1 1\n",
      "2\n",
      "1 1\n",
      "3\n",
      "1 1\n",
      "4\n",
      "1 1\n",
      "0\n",
      "1\n",
      "1 1\n",
      "2\n",
      "1 1\n",
      "3\n",
      "1 1\n",
      "4\n",
      "1 1\n",
      "0\n",
      "1\n",
      "1 1\n",
      "2\n",
      "1 1\n",
      "3\n",
      "1 1\n",
      "4\n",
      "1 1\n",
      "0\n",
      "1\n",
      "2 2\n",
      "2\n",
      "4 2\n",
      "3\n",
      "8 2\n",
      "4\n",
      "16 2\n",
      "0\n",
      "1\n",
      "2 2\n",
      "2\n",
      "4 2\n",
      "3\n",
      "8 2\n",
      "4\n",
      "16 2\n",
      "0\n",
      "1\n",
      "2 2\n",
      "2\n",
      "4 2\n",
      "3\n",
      "8 2\n",
      "4\n",
      "16 2\n",
      "0\n",
      "1\n",
      "2 2\n",
      "2\n",
      "4 2\n",
      "3\n",
      "8 2\n",
      "4\n",
      "16 2\n",
      "0\n",
      "1\n",
      "2 2\n",
      "2\n",
      "4 2\n",
      "3\n",
      "8 2\n",
      "4\n",
      "16 2\n",
      "1 32\n",
      "1 32\n",
      "1 32\n",
      "1 32\n",
      "1 32\n",
      "half\n",
      "0\n",
      "1\n",
      "2 2\n",
      "2\n",
      "4 2\n",
      "3\n",
      "8 2\n",
      "4\n",
      "16 2\n",
      "0\n",
      "1\n",
      "2 2\n",
      "2\n",
      "4 2\n",
      "3\n",
      "8 2\n",
      "4\n",
      "16 2\n",
      "0\n",
      "1\n",
      "2 2\n",
      "2\n",
      "4 2\n",
      "3\n",
      "8 2\n",
      "4\n",
      "16 2\n",
      "0\n",
      "1\n",
      "2 2\n",
      "2\n",
      "4 2\n",
      "3\n",
      "8 2\n",
      "4\n",
      "16 2\n",
      "0\n",
      "1\n",
      "2 2\n",
      "2\n",
      "4 2\n",
      "3\n",
      "8 2\n",
      "4\n",
      "16 2\n",
      "0\n",
      "1\n",
      "1 1\n",
      "2\n",
      "1 1\n",
      "3\n",
      "1 1\n",
      "4\n",
      "1 1\n",
      "0\n",
      "1\n",
      "1 1\n",
      "2\n",
      "1 1\n",
      "3\n",
      "1 1\n",
      "4\n",
      "1 1\n",
      "0\n",
      "1\n",
      "1 1\n",
      "2\n",
      "1 1\n",
      "3\n",
      "1 1\n",
      "4\n",
      "1 1\n",
      "0\n",
      "1\n",
      "1 1\n",
      "2\n",
      "1 1\n",
      "3\n",
      "1 1\n",
      "4\n",
      "1 1\n",
      "0\n",
      "1\n",
      "1 1\n",
      "2\n",
      "1 1\n",
      "3\n",
      "1 1\n",
      "4\n",
      "1 1\n",
      "32 1\n",
      "32 1\n",
      "32 1\n",
      "32 1\n",
      "32 1\n",
      "ok 2\n"
     ]
    }
   ],
   "source": [
    "LL_simple.give_pol()"
   ]
  },
  {
   "cell_type": "markdown",
   "metadata": {},
   "source": [
    "________________"
   ]
  },
  {
   "cell_type": "markdown",
   "metadata": {},
   "source": [
    "## TEST\n"
   ]
  },
  {
   "cell_type": "code",
   "execution_count": 39,
   "metadata": {},
   "outputs": [
    {
     "data": {
      "text/plain": [
       "[<function __main__.id_0(x)>, <function __main__.id_1(x)>]"
      ]
     },
     "execution_count": 39,
     "metadata": {},
     "output_type": "execute_result"
    }
   ],
   "source": [
    "LL_simple.F[0]"
   ]
  },
  {
   "cell_type": "code",
   "execution_count": 40,
   "metadata": {},
   "outputs": [
    {
     "data": {
      "text/plain": [
       "(5, 2)"
      ]
     },
     "execution_count": 40,
     "metadata": {},
     "output_type": "execute_result"
    }
   ],
   "source": [
    "len(LL_simple.F[1]),len(LL_simple.F[1][0])"
   ]
  },
  {
   "cell_type": "code",
   "execution_count": 43,
   "metadata": {},
   "outputs": [
    {
     "name": "stdout",
     "output_type": "stream",
     "text": [
      "-0.8167999982833862\n",
      "0.0828000009059906\n",
      "0.359499990940094\n"
     ]
    }
   ],
   "source": [
    "test(LL_simple.F[1][0][0])"
   ]
  },
  {
   "cell_type": "code",
   "execution_count": 44,
   "metadata": {},
   "outputs": [
    {
     "name": "stdout",
     "output_type": "stream",
     "text": [
      "0.0\n",
      "0.0\n",
      "0.0\n"
     ]
    }
   ],
   "source": [
    "test(LL_simple.G[1][0][0])"
   ]
  },
  {
   "cell_type": "code",
   "execution_count": 45,
   "metadata": {},
   "outputs": [
    {
     "name": "stdout",
     "output_type": "stream",
     "text": [
      "-0.8167999982833862\n",
      "0.0828000009059906\n",
      "0.359499990940094\n"
     ]
    }
   ],
   "source": [
    "test(LL_simple.H[1][0][0])"
   ]
  },
  {
   "cell_type": "code",
   "execution_count": 46,
   "metadata": {},
   "outputs": [
    {
     "data": {
      "text/plain": [
       "array([[ 0.0828    ,  0.3595    ],\n",
       "       [-0.489     , -0.0068    ],\n",
       "       [ 0.2522    ,  0.6766    ],\n",
       "       [ 0.24689999, -0.5841    ],\n",
       "       [ 0.2729    ,  0.1462    ]], dtype=float32)"
      ]
     },
     "execution_count": 46,
     "metadata": {},
     "output_type": "execute_result"
    }
   ],
   "source": [
    "weights[199]['f1.weight']"
   ]
  },
  {
   "cell_type": "code",
   "execution_count": 47,
   "metadata": {},
   "outputs": [
    {
     "data": {
      "text/plain": [
       "array([-8.1680000e-01, -1.2239999e-01, -9.7499996e-02,  3.4999999e-03,\n",
       "        9.9999997e-05], dtype=float32)"
      ]
     },
     "execution_count": 47,
     "metadata": {},
     "output_type": "execute_result"
    }
   ],
   "source": [
    "weights[199]['f1.bias']"
   ]
  },
  {
   "cell_type": "markdown",
   "metadata": {},
   "source": [
    "___________________"
   ]
  },
  {
   "cell_type": "markdown",
   "metadata": {},
   "source": [
    "___________________"
   ]
  },
  {
   "cell_type": "markdown",
   "metadata": {},
   "source": [
    "___________________"
   ]
  },
  {
   "cell_type": "code",
   "execution_count": 48,
   "metadata": {},
   "outputs": [
    {
     "data": {
      "text/plain": [
       "(5, 64)"
      ]
     },
     "execution_count": 48,
     "metadata": {},
     "output_type": "execute_result"
    }
   ],
   "source": [
    "len(LL_simple.F[2]),len(LL_simple.F[2][0])"
   ]
  },
  {
   "cell_type": "code",
   "execution_count": 49,
   "metadata": {},
   "outputs": [
    {
     "data": {
      "text/plain": [
       "(5, 32)"
      ]
     },
     "execution_count": 49,
     "metadata": {},
     "output_type": "execute_result"
    }
   ],
   "source": [
    "len(LL_simple.G[2]),len(LL_simple.G[2][0])"
   ]
  },
  {
   "cell_type": "code",
   "execution_count": 50,
   "metadata": {},
   "outputs": [
    {
     "data": {
      "text/plain": [
       "(5, 32)"
      ]
     },
     "execution_count": 50,
     "metadata": {},
     "output_type": "execute_result"
    }
   ],
   "source": [
    "len(LL_simple.H[2]),len(LL_simple.H[2][0])"
   ]
  },
  {
   "cell_type": "markdown",
   "metadata": {},
   "source": [
    "___________________"
   ]
  },
  {
   "cell_type": "markdown",
   "metadata": {},
   "source": [
    "___________________"
   ]
  },
  {
   "cell_type": "code",
   "execution_count": 51,
   "metadata": {},
   "outputs": [
    {
     "ename": "IndexError",
     "evalue": "list index out of range",
     "output_type": "error",
     "traceback": [
      "\u001b[0;31m---------------------------------------------------------------------------\u001b[0m",
      "\u001b[0;31mIndexError\u001b[0m                                Traceback (most recent call last)",
      "\u001b[0;32m<ipython-input-51-b11feec695d5>\u001b[0m in \u001b[0;36m<module>\u001b[0;34m\u001b[0m\n\u001b[0;32m----> 1\u001b[0;31m \u001b[0mlen\u001b[0m\u001b[0;34m(\u001b[0m\u001b[0mLL_simple\u001b[0m\u001b[0;34m.\u001b[0m\u001b[0mF\u001b[0m\u001b[0;34m[\u001b[0m\u001b[0;36m3\u001b[0m\u001b[0;34m]\u001b[0m\u001b[0;34m)\u001b[0m\u001b[0;34m,\u001b[0m\u001b[0mlen\u001b[0m\u001b[0;34m(\u001b[0m\u001b[0mLL_simple\u001b[0m\u001b[0;34m.\u001b[0m\u001b[0mF\u001b[0m\u001b[0;34m[\u001b[0m\u001b[0;36m3\u001b[0m\u001b[0;34m]\u001b[0m\u001b[0;34m[\u001b[0m\u001b[0;36m0\u001b[0m\u001b[0;34m]\u001b[0m\u001b[0;34m)\u001b[0m\u001b[0;34m\u001b[0m\u001b[0;34m\u001b[0m\u001b[0m\n\u001b[0m",
      "\u001b[0;31mIndexError\u001b[0m: list index out of range"
     ]
    }
   ],
   "source": [
    "len(LL_simple.F[3]),len(LL_simple.F[3][0])"
   ]
  },
  {
   "cell_type": "code",
   "execution_count": 857,
   "metadata": {},
   "outputs": [
    {
     "data": {
      "text/plain": [
       "(1, 125000)"
      ]
     },
     "execution_count": 857,
     "metadata": {},
     "output_type": "execute_result"
    }
   ],
   "source": [
    "len(LL_simple.G[3]),len(LL_simple.G[3][0])"
   ]
  },
  {
   "cell_type": "code",
   "execution_count": 858,
   "metadata": {},
   "outputs": [
    {
     "data": {
      "text/plain": [
       "(1, 125000)"
      ]
     },
     "execution_count": 858,
     "metadata": {},
     "output_type": "execute_result"
    }
   ],
   "source": [
    "len(LL_simple.H[3]),len(LL_simple.H[3][0])"
   ]
  },
  {
   "cell_type": "code",
   "execution_count": 42,
   "metadata": {},
   "outputs": [],
   "source": [
    "def test(f):\n",
    "    print(f((0,0)))\n",
    "    print(f((1,0))-f((0,0)))\n",
    "    print(f((0,1))-f((0,0)))"
   ]
  },
  {
   "cell_type": "code",
   "execution_count": 926,
   "metadata": {},
   "outputs": [],
   "source": [
    "h = np.max([x((1,2)) for x in LL_simple.H[3][0]])"
   ]
  },
  {
   "cell_type": "code",
   "execution_count": 901,
   "metadata": {},
   "outputs": [],
   "source": [
    "g = np.max([x((1,2)) for x in LL_simple.G[3][0]])"
   ]
  },
  {
   "cell_type": "code",
   "execution_count": 902,
   "metadata": {},
   "outputs": [
    {
     "data": {
      "text/plain": [
       "-0.25145502418237253"
      ]
     },
     "execution_count": 902,
     "metadata": {},
     "output_type": "execute_result"
    }
   ],
   "source": [
    "h-g"
   ]
  },
  {
   "cell_type": "code",
   "execution_count": 868,
   "metadata": {},
   "outputs": [
    {
     "data": {
      "text/plain": [
       "tensor([6.9162], device='cuda:0', grad_fn=<AddBackward0>)"
      ]
     },
     "execution_count": 868,
     "metadata": {},
     "output_type": "execute_result"
    }
   ],
   "source": [
    "x = torch.tensor((1,2)).float().cuda()\n",
    "model.forward(x)"
   ]
  },
  {
   "cell_type": "code",
   "execution_count": 865,
   "metadata": {},
   "outputs": [
    {
     "data": {
      "text/plain": [
       "{'f1.weight': array([[ 0.1898    ,  0.18869999],\n",
       "        [-0.0046    , -0.4375    ],\n",
       "        [ 0.23099999,  0.0146    ],\n",
       "        [-0.33359998, -0.0018    ],\n",
       "        [-0.23809999,  0.5143    ]], dtype=float32),\n",
       " 'f1.bias': array([-0.0021, -0.0866, -0.0703, -0.1864, -0.0684], dtype=float32),\n",
       " 'f2.weight': array([[0.29839998, 0.6164    , 0.9025    , 0.8481    , 0.3184    ],\n",
       "        [0.2994    , 0.5674    , 0.7898    , 0.79249996, 0.28079998],\n",
       "        [0.53529996, 0.9381    , 1.2383    , 1.2916    , 0.4612    ],\n",
       "        [0.2298    , 0.4272    , 0.5924    , 0.59639996, 0.2096    ],\n",
       "        [0.0717    , 1.1632    , 1.049     , 0.4075    , 1.1631    ]],\n",
       "       dtype=float32),\n",
       " 'f2.bias': array([-0.22219999, -0.2041    , -0.33449998, -0.15519999,  0.1146    ],\n",
       "       dtype=float32),\n",
       " 'f3.weight': array([[ 5.3101997,  5.5599   ,  7.3687997,  3.3086998, -1.2031   ]],\n",
       "       dtype=float32),\n",
       " 'f3.bias': array([-0.0009], dtype=float32)}"
      ]
     },
     "execution_count": 865,
     "metadata": {},
     "output_type": "execute_result"
    }
   ],
   "source": [
    "weights[199]"
   ]
  },
  {
   "cell_type": "code",
   "execution_count": 866,
   "metadata": {},
   "outputs": [
    {
     "name": "stdout",
     "output_type": "stream",
     "text": [
      "Parameter containing:\n",
      "tensor([[ 0.1898,  0.1887],\n",
      "        [-0.0046, -0.4375],\n",
      "        [ 0.2310,  0.0146],\n",
      "        [-0.3336, -0.0018],\n",
      "        [-0.2381,  0.5143]], device='cuda:0', requires_grad=True)\n",
      "Parameter containing:\n",
      "tensor([-0.0021, -0.0866, -0.0703, -0.1864, -0.0684], device='cuda:0',\n",
      "       requires_grad=True)\n",
      "Parameter containing:\n",
      "tensor([[0.2984, 0.6164, 0.9025, 0.8481, 0.3184],\n",
      "        [0.2994, 0.5674, 0.7898, 0.7925, 0.2808],\n",
      "        [0.5353, 0.9381, 1.2383, 1.2916, 0.4612],\n",
      "        [0.2298, 0.4272, 0.5924, 0.5964, 0.2096],\n",
      "        [0.0717, 1.1632, 1.0490, 0.4075, 1.1631]], device='cuda:0',\n",
      "       requires_grad=True)\n",
      "Parameter containing:\n",
      "tensor([-0.2222, -0.2041, -0.3345, -0.1552,  0.1146], device='cuda:0',\n",
      "       requires_grad=True)\n",
      "Parameter containing:\n",
      "tensor([[ 5.3102,  5.5599,  7.3688,  3.3087, -1.2031]], device='cuda:0',\n",
      "       requires_grad=True)\n",
      "Parameter containing:\n",
      "tensor([-0.0009], device='cuda:0', requires_grad=True)\n"
     ]
    }
   ],
   "source": [
    "for i,j in model.named_parameters():\n",
    "    print(j)"
   ]
  },
  {
   "cell_type": "markdown",
   "metadata": {},
   "source": [
    "_____________"
   ]
  },
  {
   "cell_type": "code",
   "execution_count": 52,
   "metadata": {},
   "outputs": [],
   "source": [
    "L =myfunction(weights[199])"
   ]
  },
  {
   "cell_type": "code",
   "execution_count": 53,
   "metadata": {},
   "outputs": [
    {
     "name": "stdout",
     "output_type": "stream",
     "text": [
      "ok 1\n",
      "5 f 2\n",
      "5 g 2\n",
      "5 h 2\n",
      "ok 2\n",
      "last layer\n"
     ]
    },
    {
     "data": {
      "text/plain": [
       "6.792438892227194"
      ]
     },
     "execution_count": 53,
     "metadata": {},
     "output_type": "execute_result"
    }
   ],
   "source": [
    "L.give_pol()[0]((1,2))"
   ]
  },
  {
   "cell_type": "markdown",
   "metadata": {},
   "source": [
    "_______________"
   ]
  },
  {
   "cell_type": "code",
   "execution_count": 54,
   "metadata": {},
   "outputs": [
    {
     "data": {
      "text/plain": [
       "0.0"
      ]
     },
     "execution_count": 54,
     "metadata": {},
     "output_type": "execute_result"
    }
   ],
   "source": [
    "L.F[1][0]((1,2))"
   ]
  },
  {
   "cell_type": "code",
   "execution_count": 55,
   "metadata": {},
   "outputs": [
    {
     "data": {
      "text/plain": [
       "[-0.015000015497207642, 0.0]"
      ]
     },
     "execution_count": 55,
     "metadata": {},
     "output_type": "execute_result"
    }
   ],
   "source": [
    "[x((1,2)) for x in LL_simple.F[1][0]]"
   ]
  },
  {
   "cell_type": "code",
   "execution_count": 56,
   "metadata": {},
   "outputs": [
    {
     "data": {
      "text/plain": [
       "(0.0, -0.015000015497207642)"
      ]
     },
     "execution_count": 56,
     "metadata": {},
     "output_type": "execute_result"
    }
   ],
   "source": [
    "L.G[0][0]((1,2)),L.H[0][0]((1,2))"
   ]
  },
  {
   "cell_type": "code",
   "execution_count": 57,
   "metadata": {},
   "outputs": [
    {
     "data": {
      "text/plain": [
       "([0.0], [-0.015000015497207642])"
      ]
     },
     "execution_count": 57,
     "metadata": {},
     "output_type": "execute_result"
    }
   ],
   "source": [
    "[x((1,2)) for x in LL_simple.G[1][0]],[x((1,2)) for x in LL_simple.H[1][0]]"
   ]
  },
  {
   "cell_type": "markdown",
   "metadata": {},
   "source": [
    "## OK couche 1"
   ]
  },
  {
   "cell_type": "markdown",
   "metadata": {},
   "source": [
    "____________________"
   ]
  },
  {
   "cell_type": "code",
   "execution_count": null,
   "metadata": {},
   "outputs": [],
   "source": []
  },
  {
   "cell_type": "code",
   "execution_count": 58,
   "metadata": {},
   "outputs": [
    {
     "data": {
      "text/plain": [
       "2.412388215323671"
      ]
     },
     "execution_count": 58,
     "metadata": {},
     "output_type": "execute_result"
    }
   ],
   "source": [
    "L.F[2][0]((1,2))"
   ]
  },
  {
   "cell_type": "code",
   "execution_count": 59,
   "metadata": {},
   "outputs": [
    {
     "data": {
      "text/plain": [
       "2.412388215323671"
      ]
     },
     "execution_count": 59,
     "metadata": {},
     "output_type": "execute_result"
    }
   ],
   "source": [
    "np.max([x((1,2)) for x in LL_simple.F[2][0]])"
   ]
  },
  {
   "cell_type": "code",
   "execution_count": 60,
   "metadata": {},
   "outputs": [
    {
     "data": {
      "text/plain": [
       "(1.5836581931495752, 2.412388215323671)"
      ]
     },
     "execution_count": 60,
     "metadata": {},
     "output_type": "execute_result"
    }
   ],
   "source": [
    "L.G[1][0]((1,2)),L.H[1][0]((1,2))"
   ]
  },
  {
   "cell_type": "code",
   "execution_count": 61,
   "metadata": {},
   "outputs": [
    {
     "data": {
      "text/plain": [
       "(1.5836581931495752, 2.412388215323671)"
      ]
     },
     "execution_count": 61,
     "metadata": {},
     "output_type": "execute_result"
    }
   ],
   "source": [
    "np.max([x((1,2)) for x in LL_simple.G[2][0]]),np.max([x((1,2)) for x in LL_simple.H[2][0]])"
   ]
  },
  {
   "cell_type": "markdown",
   "metadata": {},
   "source": [
    "## OK couche 2"
   ]
  },
  {
   "cell_type": "markdown",
   "metadata": {},
   "source": [
    "_____________________"
   ]
  },
  {
   "cell_type": "markdown",
   "metadata": {},
   "source": [
    "_____________________"
   ]
  },
  {
   "cell_type": "markdown",
   "metadata": {},
   "source": [
    "_____________________"
   ]
  },
  {
   "cell_type": "markdown",
   "metadata": {},
   "source": [
    "# forme ax1+bx2+c"
   ]
  },
  {
   "cell_type": "code",
   "execution_count": 21,
   "metadata": {},
   "outputs": [],
   "source": [
    "class my_final:\n",
    "    \n",
    "    \n",
    "    def __init__(self,poids):\n",
    "\n",
    "        self.f = [np.array([1,0,0]),np.array([0,1,0])]\n",
    "        self.poids = poids\n",
    "        self.size = int(len(poids.values())/2)\n",
    "        self.F = []\n",
    "        self.G = []\n",
    "        self.H = []\n",
    "\n",
    "        \n",
    "    def give_pol(self):\n",
    "        \n",
    "        state_f = self.f\n",
    "        state_g = []\n",
    "        state_h = []\n",
    "        self.F.append(state_f)\n",
    "        self.G.append(state_g)\n",
    "        self.H.append(state_h)\n",
    "        \n",
    "        for i in range(1,self.size+1):\n",
    "        #for i in range(1,2):\n",
    "            W = self.poids['f'+str(i)+'.weight']\n",
    "            W_plus,W_moins = decompose(W)\n",
    "            b = self.poids['f'+str(i)+'.bias']\n",
    "                        \n",
    "            if i ==1:\n",
    "                \n",
    "            \n",
    "                state_g_next = array_mult_final_l(W_moins,state_f)\n",
    "                \n",
    "                state_h_next = array_mult_final_l(W_plus,state_f)\n",
    "                state_h_next = add_array_f_final(b,state_h_next)\n",
    "                \n",
    "                \n",
    "                \n",
    "                state_f_next = conc_f_simple(state_h_next,state_g_next)\n",
    "                \n",
    "                state_g,state_h,state_f=state_g_next,state_h_next,state_f_next\n",
    "\n",
    "                self.F.append(state_f)\n",
    "                self.G.append(state_g)\n",
    "                self.H.append(state_h)\n",
    "            \n",
    "            if i>1:\n",
    "                    \n",
    "                    \n",
    "                state_g_next = add_ll_f_final(array_mult_final_ll(W_plus,state_g) , array_mult_final_ll(W_moins,state_f))\n",
    "                print('half')\n",
    "                state_h_next = add_ll_f_final(array_mult_final_ll(W_plus,state_f) , array_mult_final_ll(W_moins,state_g))\n",
    "                state_h_next = add_array_f_final(b,state_h_next)\n",
    "\n",
    "                state_f_next = conc_f_simple(state_h_next,state_g_next)\n",
    "\n",
    "                state_g,state_h,state_f=state_g_next,state_h_next,state_f_next\n",
    "\n",
    "                self.F.append(state_f)\n",
    "                self.G.append(state_g)\n",
    "                self.H.append(state_h)\n",
    "            \n",
    "            print('ok',i)"
   ]
  },
  {
   "cell_type": "code",
   "execution_count": 22,
   "metadata": {},
   "outputs": [],
   "source": [
    "def mult_final_a(array,lf):\n",
    "    \n",
    "    ' mult_ss supposed to give a list given a list and a vector'\n",
    "    'ok'\n",
    "    if lf ==[]:\n",
    "        return []   \n",
    "    r = np.array([0.,0.,0.])\n",
    "    l = len(lf)\n",
    "    for j in range(l):\n",
    "        r += array[j]*lf[j]      \n",
    "    return [r]\n",
    "\n",
    "\n",
    "def array_mult_final_l(array,lf):\n",
    "    if lf==[]:\n",
    "        return [[]]\n",
    "    I,J = array.shape\n",
    "    rez_lf = []\n",
    "    \n",
    "    for i in range(I):            \n",
    "        rez_lf.append(mult_final_a(array[i,:],lf)) \n",
    "    return rez_lf\n",
    "\n",
    "\n",
    "def add_f_final(number,lf):\n",
    "    if lf ==[]:\n",
    "        return []\n",
    "    j = len(lf)\n",
    "    k = []\n",
    "    for i in range (j):\n",
    "        lf[i][2]+= number\n",
    "    return k\n",
    "\n",
    "def add_array_f_final(array,llf):\n",
    "    j = len(llf)\n",
    "    for i in range (j):\n",
    "        add_f_final(array[i],llf[i])\n",
    "    return llf"
   ]
  },
  {
   "cell_type": "code",
   "execution_count": 28,
   "metadata": {},
   "outputs": [],
   "source": [
    "LL_final = my_final(weights[199])"
   ]
  },
  {
   "cell_type": "code",
   "execution_count": 29,
   "metadata": {
    "scrolled": true
   },
   "outputs": [
    {
     "name": "stdout",
     "output_type": "stream",
     "text": [
      "ok 1\n",
      "3 1\n",
      "3 1\n",
      "3 1\n",
      "3 1\n",
      "3 1\n",
      "3 1\n",
      "3 1\n",
      "3 1\n",
      "3 1\n",
      "3 1\n",
      "3 1\n",
      "3 1\n",
      "3 1\n",
      "3 1\n",
      "3 1\n",
      "3 1\n",
      "3 2\n",
      "6 2\n",
      "12 2\n",
      "24 2\n",
      "3 2\n",
      "6 2\n",
      "12 2\n",
      "24 2\n",
      "3 2\n",
      "6 2\n",
      "12 2\n",
      "24 2\n",
      "3 2\n",
      "6 2\n",
      "12 2\n",
      "24 2\n",
      "3 48\n",
      "3 48\n",
      "3 48\n",
      "3 48\n",
      "half\n",
      "3 2\n",
      "6 2\n",
      "12 2\n",
      "24 2\n",
      "3 2\n",
      "6 2\n",
      "12 2\n",
      "24 2\n",
      "3 2\n",
      "6 2\n",
      "12 2\n",
      "24 2\n",
      "3 2\n",
      "6 2\n",
      "12 2\n",
      "24 2\n",
      "3 1\n",
      "3 1\n",
      "3 1\n",
      "3 1\n",
      "3 1\n",
      "3 1\n",
      "3 1\n",
      "3 1\n",
      "3 1\n",
      "3 1\n",
      "3 1\n",
      "3 1\n",
      "3 1\n",
      "3 1\n",
      "3 1\n",
      "3 1\n",
      "48 3\n",
      "48 3\n",
      "48 3\n",
      "48 3\n",
      "ok 2\n",
      "3 144\n",
      "432 144\n",
      "62208 144\n"
     ]
    },
    {
     "name": "stderr",
     "output_type": "stream",
     "text": [
      "/home/gregoire/anaconda3/envs/pytorch_fury/lib/python3.6/site-packages/ipykernel_launcher.py:45: DeprecationWarning: elementwise comparison failed; this will raise an error in the future.\n"
     ]
    },
    {
     "name": "stdout",
     "output_type": "stream",
     "text": [
      "8957952 144\n"
     ]
    },
    {
     "ename": "KeyboardInterrupt",
     "evalue": "",
     "output_type": "error",
     "traceback": [
      "\u001b[0;31m---------------------------------------------------------------------------\u001b[0m",
      "\u001b[0;31mKeyboardInterrupt\u001b[0m                         Traceback (most recent call last)",
      "\u001b[0;32m<ipython-input-29-e19be82d3b5e>\u001b[0m in \u001b[0;36m<module>\u001b[0;34m\u001b[0m\n\u001b[0;32m----> 1\u001b[0;31m \u001b[0mLL_final\u001b[0m\u001b[0;34m.\u001b[0m\u001b[0mgive_pol\u001b[0m\u001b[0;34m(\u001b[0m\u001b[0;34m)\u001b[0m\u001b[0;34m\u001b[0m\u001b[0;34m\u001b[0m\u001b[0m\n\u001b[0m",
      "\u001b[0;32m<ipython-input-21-b95443c8bcb8>\u001b[0m in \u001b[0;36mgive_pol\u001b[0;34m(self)\u001b[0m\n\u001b[1;32m     48\u001b[0m \u001b[0;34m\u001b[0m\u001b[0m\n\u001b[1;32m     49\u001b[0m \u001b[0;34m\u001b[0m\u001b[0m\n\u001b[0;32m---> 50\u001b[0;31m                 \u001b[0mstate_g_next\u001b[0m \u001b[0;34m=\u001b[0m \u001b[0madd_ll_f_final\u001b[0m\u001b[0;34m(\u001b[0m\u001b[0marray_mult_final_ll\u001b[0m\u001b[0;34m(\u001b[0m\u001b[0mW_plus\u001b[0m\u001b[0;34m,\u001b[0m\u001b[0mstate_g\u001b[0m\u001b[0;34m)\u001b[0m \u001b[0;34m,\u001b[0m \u001b[0marray_mult_final_ll\u001b[0m\u001b[0;34m(\u001b[0m\u001b[0mW_moins\u001b[0m\u001b[0;34m,\u001b[0m\u001b[0mstate_f\u001b[0m\u001b[0;34m)\u001b[0m\u001b[0;34m)\u001b[0m\u001b[0;34m\u001b[0m\u001b[0;34m\u001b[0m\u001b[0m\n\u001b[0m\u001b[1;32m     51\u001b[0m                 \u001b[0mprint\u001b[0m\u001b[0;34m(\u001b[0m\u001b[0;34m'half'\u001b[0m\u001b[0;34m)\u001b[0m\u001b[0;34m\u001b[0m\u001b[0;34m\u001b[0m\u001b[0m\n\u001b[1;32m     52\u001b[0m                 \u001b[0mstate_h_next\u001b[0m \u001b[0;34m=\u001b[0m \u001b[0madd_ll_f_final\u001b[0m\u001b[0;34m(\u001b[0m\u001b[0marray_mult_final_ll\u001b[0m\u001b[0;34m(\u001b[0m\u001b[0mW_plus\u001b[0m\u001b[0;34m,\u001b[0m\u001b[0mstate_f\u001b[0m\u001b[0;34m)\u001b[0m \u001b[0;34m,\u001b[0m \u001b[0marray_mult_final_ll\u001b[0m\u001b[0;34m(\u001b[0m\u001b[0mW_moins\u001b[0m\u001b[0;34m,\u001b[0m\u001b[0mstate_g\u001b[0m\u001b[0;34m)\u001b[0m\u001b[0;34m)\u001b[0m\u001b[0;34m\u001b[0m\u001b[0;34m\u001b[0m\u001b[0m\n",
      "\u001b[0;32m<ipython-input-26-20d1f1c8a1b8>\u001b[0m in \u001b[0;36marray_mult_final_ll\u001b[0;34m(array, llf)\u001b[0m\n\u001b[1;32m     37\u001b[0m \u001b[0;34m\u001b[0m\u001b[0m\n\u001b[1;32m     38\u001b[0m     \u001b[0;32mfor\u001b[0m \u001b[0mi\u001b[0m \u001b[0;32min\u001b[0m \u001b[0mrange\u001b[0m\u001b[0;34m(\u001b[0m\u001b[0mI\u001b[0m\u001b[0;34m)\u001b[0m\u001b[0;34m:\u001b[0m\u001b[0;34m\u001b[0m\u001b[0;34m\u001b[0m\u001b[0m\n\u001b[0;32m---> 39\u001b[0;31m         \u001b[0mrez_llf\u001b[0m\u001b[0;34m.\u001b[0m\u001b[0mappend\u001b[0m\u001b[0;34m(\u001b[0m\u001b[0mmult_f_final\u001b[0m\u001b[0;34m(\u001b[0m\u001b[0marray\u001b[0m\u001b[0;34m[\u001b[0m\u001b[0mi\u001b[0m\u001b[0;34m,\u001b[0m\u001b[0;34m:\u001b[0m\u001b[0;34m]\u001b[0m\u001b[0;34m,\u001b[0m\u001b[0mllf\u001b[0m\u001b[0;34m)\u001b[0m\u001b[0;34m)\u001b[0m\u001b[0;34m\u001b[0m\u001b[0;34m\u001b[0m\u001b[0m\n\u001b[0m\u001b[1;32m     40\u001b[0m         \u001b[0;34m\" hence mult_f_simple is supposed to return a list of functions given a vector and a list of list\"\u001b[0m\u001b[0;34m\u001b[0m\u001b[0;34m\u001b[0m\u001b[0m\n\u001b[1;32m     41\u001b[0m     \u001b[0;32mreturn\u001b[0m \u001b[0mrez_llf\u001b[0m\u001b[0;34m\u001b[0m\u001b[0;34m\u001b[0m\u001b[0m\n",
      "\u001b[0;32m<ipython-input-26-20d1f1c8a1b8>\u001b[0m in \u001b[0;36mmult_f_final\u001b[0;34m(number_array, llf)\u001b[0m\n\u001b[1;32m     24\u001b[0m     \u001b[0ml\u001b[0m \u001b[0;34m=\u001b[0m \u001b[0mlen\u001b[0m\u001b[0;34m(\u001b[0m\u001b[0mllf\u001b[0m\u001b[0;34m)\u001b[0m\u001b[0;34m\u001b[0m\u001b[0;34m\u001b[0m\u001b[0m\n\u001b[1;32m     25\u001b[0m     \u001b[0;32mfor\u001b[0m \u001b[0mj\u001b[0m \u001b[0;32min\u001b[0m \u001b[0mrange\u001b[0m\u001b[0;34m(\u001b[0m\u001b[0ml\u001b[0m\u001b[0;34m)\u001b[0m\u001b[0;34m:\u001b[0m\u001b[0;34m\u001b[0m\u001b[0;34m\u001b[0m\u001b[0m\n\u001b[0;32m---> 26\u001b[0;31m         \u001b[0mr\u001b[0m \u001b[0;34m=\u001b[0m \u001b[0madd_liste_f_final\u001b[0m\u001b[0;34m(\u001b[0m\u001b[0mr\u001b[0m\u001b[0;34m,\u001b[0m\u001b[0mmult_final_n\u001b[0m\u001b[0;34m(\u001b[0m\u001b[0mnumber_array\u001b[0m\u001b[0;34m[\u001b[0m\u001b[0mj\u001b[0m\u001b[0;34m]\u001b[0m\u001b[0;34m,\u001b[0m\u001b[0mllf\u001b[0m\u001b[0;34m[\u001b[0m\u001b[0mj\u001b[0m\u001b[0;34m]\u001b[0m\u001b[0;34m)\u001b[0m\u001b[0;34m)\u001b[0m\u001b[0;34m\u001b[0m\u001b[0;34m\u001b[0m\u001b[0m\n\u001b[0m\u001b[1;32m     27\u001b[0m         \u001b[0;34m' mult_simple is supposed to return a list given a number and a list'\u001b[0m\u001b[0;34m\u001b[0m\u001b[0;34m\u001b[0m\u001b[0m\n\u001b[1;32m     28\u001b[0m     \u001b[0;32mreturn\u001b[0m \u001b[0mr\u001b[0m\u001b[0;34m\u001b[0m\u001b[0;34m\u001b[0m\u001b[0m\n",
      "\u001b[0;32m<ipython-input-26-20d1f1c8a1b8>\u001b[0m in \u001b[0;36madd_liste_f_final\u001b[0;34m(lf, lg)\u001b[0m\n\u001b[1;32m     51\u001b[0m     \u001b[0;32mfor\u001b[0m \u001b[0mi\u001b[0m \u001b[0;32min\u001b[0m \u001b[0mlf\u001b[0m\u001b[0;34m:\u001b[0m\u001b[0;34m\u001b[0m\u001b[0;34m\u001b[0m\u001b[0m\n\u001b[1;32m     52\u001b[0m         \u001b[0;32mfor\u001b[0m \u001b[0mj\u001b[0m \u001b[0;32min\u001b[0m \u001b[0mlg\u001b[0m\u001b[0;34m:\u001b[0m\u001b[0;34m\u001b[0m\u001b[0;34m\u001b[0m\u001b[0m\n\u001b[0;32m---> 53\u001b[0;31m             \u001b[0mk\u001b[0m\u001b[0;34m.\u001b[0m\u001b[0mappend\u001b[0m\u001b[0;34m(\u001b[0m\u001b[0mi\u001b[0m\u001b[0;34m+\u001b[0m\u001b[0mj\u001b[0m\u001b[0;34m)\u001b[0m\u001b[0;34m\u001b[0m\u001b[0;34m\u001b[0m\u001b[0m\n\u001b[0m\u001b[1;32m     54\u001b[0m     \u001b[0;32mreturn\u001b[0m \u001b[0mk\u001b[0m\u001b[0;34m\u001b[0m\u001b[0;34m\u001b[0m\u001b[0m\n\u001b[1;32m     55\u001b[0m \u001b[0;34m\u001b[0m\u001b[0m\n",
      "\u001b[0;31mKeyboardInterrupt\u001b[0m: "
     ]
    }
   ],
   "source": [
    "LL_final.give_pol()"
   ]
  },
  {
   "cell_type": "code",
   "execution_count": 25,
   "metadata": {},
   "outputs": [
    {
     "data": {
      "text/plain": [
       "[array([ 0.0809    ,  0.90719998, -0.1892    ]), array([0., 0., 0.])]"
      ]
     },
     "execution_count": 25,
     "metadata": {},
     "output_type": "execute_result"
    }
   ],
   "source": [
    "LL_final.F[1][0]"
   ]
  },
  {
   "cell_type": "code",
   "execution_count": 26,
   "metadata": {},
   "outputs": [],
   "source": [
    "def mult_final_n(number,lf):\n",
    "    \n",
    "    \n",
    "    ' mult_simple is supposed to return a list given a number and a list'\n",
    "    'OK'\n",
    "    if lf ==[]:\n",
    "        return []\n",
    "    \n",
    "    r = []\n",
    "    l = len(lf)\n",
    "    for j in range(l):\n",
    "        r.append(number*lf[j])\n",
    "        \n",
    "    return r\n",
    "\n",
    "def mult_f_final(number_array,llf):\n",
    "    \n",
    "    'mult_f_simple is supposed to return a list of functions given a vector and a list of list'\n",
    "    ' OK ' \n",
    "    if llf ==[[]]:\n",
    "        return [[]]\n",
    "    \n",
    "    r = np.array([0.,0.,0.])\n",
    "    l = len(llf)\n",
    "    for j in range(l):\n",
    "        r = add_liste_f_final(r,mult_final_n(number_array[j],llf[j]))\n",
    "        ' mult_simple is supposed to return a list given a number and a list'\n",
    "    return r\n",
    "\n",
    "def array_mult_final_ll(array,llf):\n",
    "    'FIRST'\n",
    "    \" given a matrix, a list of list of functions, returns a list of list of functions\"\n",
    "    if llf==[[]]:\n",
    "        return [[]]\n",
    "    I,J = array.shape\n",
    "    rez_llf = []\n",
    "    \n",
    "    for i in range(I):            \n",
    "        rez_llf.append(mult_f_final(array[i,:],llf)) \n",
    "        \" hence mult_f_simple is supposed to return a list of functions given a vector and a list of list\"\n",
    "    return rez_llf\n",
    "\n",
    "\n",
    "def add_liste_f_final(lf,lg):\n",
    "    if lf==[]:\n",
    "        return lg\n",
    "    if lg==[]:\n",
    "        return lf\n",
    "    k = []\n",
    "    print(len(lf),len(lg))\n",
    "    for i in lf:\n",
    "        for j in lg:\n",
    "            k.append(i+j)\n",
    "    return k\n",
    "\n",
    "'''\n",
    "------------------------------------------------------------------------------------------------\n",
    "'''\n",
    "\n",
    "\n",
    "\n",
    "def add_ll_f_final(llf,llg):\n",
    "    \n",
    "    \" given two lists of list return one list of lists adding term by term with a max\"\n",
    "     \n",
    "    if llf==[[]]:\n",
    "        return llg\n",
    "    if llg==[[]]:\n",
    "        return llf\n",
    "    l = len(llf)\n",
    "    return [add_liste_f_final(llf[i],llg[i]) for i in range(l)]\n"
   ]
  },
  {
   "cell_type": "markdown",
   "metadata": {},
   "source": [
    "def simplify_final(lf):\n",
    "    "
   ]
  },
  {
   "cell_type": "code",
   "execution_count": null,
   "metadata": {},
   "outputs": [],
   "source": []
  }
 ],
 "metadata": {
  "kernelspec": {
   "display_name": "Python 3",
   "language": "python",
   "name": "python3"
  },
  "language_info": {
   "codemirror_mode": {
    "name": "ipython",
    "version": 3
   },
   "file_extension": ".py",
   "mimetype": "text/x-python",
   "name": "python",
   "nbconvert_exporter": "python",
   "pygments_lexer": "ipython3",
   "version": "3.6.6"
  }
 },
 "nbformat": 4,
 "nbformat_minor": 2
}
