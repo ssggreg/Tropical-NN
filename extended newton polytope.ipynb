{
 "cells": [
  {
   "cell_type": "code",
   "execution_count": 1,
   "metadata": {},
   "outputs": [],
   "source": [
    "import matplotlib.pyplot as plt\n",
    "import numpy as np\n",
    "import seaborn as sns\n",
    "sns.set()"
   ]
  },
  {
   "cell_type": "code",
   "execution_count": 2,
   "metadata": {},
   "outputs": [],
   "source": [
    "def decompose(w):\n",
    "        return (w+abs(w))/2,(-w+abs(w))/2"
   ]
  },
  {
   "cell_type": "markdown",
   "metadata": {},
   "source": [
    "## one h net\n",
    "\n",
    "Supposons un reseau simple : de type one_net d architecture 2 5 1\n",
    "\n",
    "avec une activation relu : 2 5 (relu) 1 (relu)"
   ]
  },
  {
   "cell_type": "markdown",
   "metadata": {},
   "source": [
    "W1 = np.array([[2,0,-3,-4,2],[-1,0,2,1,-2]]).reshape(5,2)\n",
    "W1,W1.shape"
   ]
  },
  {
   "cell_type": "code",
   "execution_count": 3,
   "metadata": {},
   "outputs": [
    {
     "data": {
      "text/plain": [
       "array([[-1,  1],\n",
       "       [ 1, -3],\n",
       "       [ 1,  2],\n",
       "       [-4,  1],\n",
       "       [ 3,  2]])"
      ]
     },
     "execution_count": 3,
     "metadata": {},
     "output_type": "execute_result"
    }
   ],
   "source": [
    "W1 = np.array([[-1,1,1,-4,3],[1,-3,2,1,2]]).T\n",
    "W1\n"
   ]
  },
  {
   "cell_type": "markdown",
   "metadata": {},
   "source": [
    "b1 = np.array([2,0,-3,-4,2]).reshape(5,1)\n",
    "b1,b1.shape"
   ]
  },
  {
   "cell_type": "code",
   "execution_count": 30,
   "metadata": {},
   "outputs": [
    {
     "data": {
      "text/plain": [
       "array([ 1, -1,  2,  0, -2])"
      ]
     },
     "execution_count": 30,
     "metadata": {},
     "output_type": "execute_result"
    }
   ],
   "source": [
    "b1 = np.array([1,-1,2,0,-2]).reshape(5)\n",
    "b1"
   ]
  },
  {
   "cell_type": "markdown",
   "metadata": {},
   "source": [
    "W2= np.array([-1,-2,0,1,-5]).reshape(1,5)\n",
    "W2,W2.shape"
   ]
  },
  {
   "cell_type": "code",
   "execution_count": 5,
   "metadata": {},
   "outputs": [],
   "source": [
    "W2= np.array([1,2,1,-1,-3]).reshape(1,-1)"
   ]
  },
  {
   "cell_type": "markdown",
   "metadata": {},
   "source": [
    "b2 = np.array([2])\n",
    "b2,b2.shape"
   ]
  },
  {
   "cell_type": "code",
   "execution_count": 6,
   "metadata": {},
   "outputs": [],
   "source": [
    "b2 = np.array([0])"
   ]
  },
  {
   "cell_type": "markdown",
   "metadata": {},
   "source": [
    "x = np.array([1,2])\n",
    "a = W1.dot(x)+b1\n",
    "a,W2.dot(a+b2)"
   ]
  },
  {
   "cell_type": "markdown",
   "metadata": {},
   "source": [
    "----------------------------------"
   ]
  },
  {
   "cell_type": "markdown",
   "metadata": {},
   "source": [
    "premiere couche\n"
   ]
  },
  {
   "cell_type": "code",
   "execution_count": 28,
   "metadata": {},
   "outputs": [],
   "source": [
    "def G1(x):\n",
    "    return decompose(W1)[1].dot(x)\n",
    "\n",
    "def H1(x):\n",
    "    return decompose(W1)[0].dot(x)+b1\n",
    "\n",
    "def F1(x):\n",
    "    return np.maximum(G1(x),H1(x))\n",
    "\n",
    "def NU1(x):\n",
    "    return F1(x)-G1(x)"
   ]
  },
  {
   "cell_type": "code",
   "execution_count": 31,
   "metadata": {},
   "outputs": [
    {
     "data": {
      "text/plain": [
       "(array([1., 6., 0., 4., 0.]), array([3., 0., 7., 2., 5.]))"
      ]
     },
     "execution_count": 31,
     "metadata": {},
     "output_type": "execute_result"
    }
   ],
   "source": [
    "G1(x),H1(x)"
   ]
  },
  {
   "cell_type": "code",
   "execution_count": 32,
   "metadata": {},
   "outputs": [
    {
     "data": {
      "text/plain": [
       "(array([3., 6., 7., 4., 5.]), array([2., 0., 7., 0., 5.]))"
      ]
     },
     "execution_count": 32,
     "metadata": {},
     "output_type": "execute_result"
    }
   ],
   "source": [
    "F1(x),NU1(x)"
   ]
  },
  {
   "cell_type": "code",
   "execution_count": 34,
   "metadata": {},
   "outputs": [],
   "source": [
    "PG1 = np.concatenate((decompose(W1)[1],0*b1.reshape(-1,1)),axis=1)\n",
    "PH1 = np.concatenate((decompose(W1)[0],b1.reshape(-1,1)),axis=1)\n",
    "PF1 = np.stack((PG1,PH1),axis=1)"
   ]
  },
  {
   "cell_type": "markdown",
   "metadata": {},
   "source": [
    "PH1"
   ]
  },
  {
   "cell_type": "code",
   "execution_count": 35,
   "metadata": {},
   "outputs": [
    {
     "data": {
      "text/plain": [
       "(array([[[ 1.,  0.,  0.],\n",
       "         [ 0.,  1.,  1.]],\n",
       " \n",
       "        [[ 0.,  3.,  0.],\n",
       "         [ 1.,  0., -1.]],\n",
       " \n",
       "        [[ 0.,  0.,  0.],\n",
       "         [ 1.,  2.,  2.]],\n",
       " \n",
       "        [[ 4.,  0.,  0.],\n",
       "         [ 0.,  1.,  0.]],\n",
       " \n",
       "        [[ 0.,  0.,  0.],\n",
       "         [ 3.,  2., -2.]]]), (5, 2, 3))"
      ]
     },
     "execution_count": 35,
     "metadata": {},
     "output_type": "execute_result"
    }
   ],
   "source": [
    "PF1,PF1.shape"
   ]
  },
  {
   "cell_type": "markdown",
   "metadata": {},
   "source": [
    "ATTENTION : ici PG1_i et PH1_i sont des points et PF1_i un segment"
   ]
  },
  {
   "cell_type": "markdown",
   "metadata": {},
   "source": [
    "________________"
   ]
  },
  {
   "cell_type": "markdown",
   "metadata": {},
   "source": [
    "deuxieme couche derniere couche, une sortie, c est donc relativement facile\n"
   ]
  },
  {
   "cell_type": "code",
   "execution_count": 47,
   "metadata": {},
   "outputs": [],
   "source": [
    "H2_PF1 = np.zeros((5,2,3))\n",
    "for i in range(5):\n",
    "        H2_PF1[i]= PF1[i] * decompose(W2)[1][0][i]\n",
    "        \n",
    "H2_PG1 = np.zeros((5,2,3))\n",
    "for i in range(5):\n",
    "        H2_PG1[i]= PG1[i] * decompose(W2)[0][0][i]\n",
    "        \n",
    "G2_PF1 = np.zeros((5,2,3))\n",
    "for i in range(5):\n",
    "        G2_PF1[i]= PF1[i] * decompose(W2)[0][0][i]\n",
    "        \n",
    "G2_PG1 = np.zeros((5,2,3))\n",
    "for i in range(5):\n",
    "        G2_PG1[i]= PG1[i] * decompose(W2)[1][0][i]    \n",
    "        "
   ]
  },
  {
   "cell_type": "code",
   "execution_count": 48,
   "metadata": {},
   "outputs": [
    {
     "name": "stdout",
     "output_type": "stream",
     "text": [
      "g 1 1.0\n",
      "g 2 2.0\n",
      "g 3 1.0\n",
      "f 4 1.0\n",
      "f 5 3.0\n"
     ]
    }
   ],
   "source": [
    "H2 = []\n",
    "for i in range(5):\n",
    "    if decompose(W2)[1][0][i] !=0:\n",
    "        H2.append(PF1[i] * decompose(W2)[1][0][i])\n",
    "        print('f',i+1,decompose(W2)[1][0][i])\n",
    "    else:\n",
    "        H2.append(PG1[i] * decompose(W2)[0][0][i])\n",
    "        print('g',i+1,decompose(W2)[0][0][i])     \n",
    "        "
   ]
  },
  {
   "cell_type": "code",
   "execution_count": 49,
   "metadata": {},
   "outputs": [
    {
     "name": "stdout",
     "output_type": "stream",
     "text": [
      "f 1 1.0\n",
      "f 2 2.0\n",
      "f 3 1.0\n",
      "g 4 1.0\n",
      "g 5 3.0\n"
     ]
    }
   ],
   "source": [
    "G2 = []\n",
    "for i in range(5):\n",
    "    if decompose(W2)[1][0][i] !=0:\n",
    "        G2.append(PG1[i] * decompose(W2)[1][0][i])\n",
    "        print('g',i+1,decompose(W2)[1][0][i])\n",
    "    else:\n",
    "        G2.append(PF1[i] * decompose(W2)[0][0][i])\n",
    "        print('f',i+1,decompose(W2)[0][0][i])"
   ]
  },
  {
   "cell_type": "markdown",
   "metadata": {},
   "source": [
    "mix H2 G2 ?\n"
   ]
  },
  {
   "cell_type": "code",
   "execution_count": 50,
   "metadata": {},
   "outputs": [
    {
     "data": {
      "text/plain": [
       "[array([1., 0., 0.]),\n",
       " array([0., 6., 0.]),\n",
       " array([0., 0., 0.]),\n",
       " array([[4., 0., 0.],\n",
       "        [0., 1., 0.]]),\n",
       " array([[ 0.,  0.,  0.],\n",
       "        [ 9.,  6., -6.]])]"
      ]
     },
     "execution_count": 50,
     "metadata": {},
     "output_type": "execute_result"
    }
   ],
   "source": [
    "H2"
   ]
  },
  {
   "cell_type": "code",
   "execution_count": 61,
   "metadata": {},
   "outputs": [
    {
     "data": {
      "text/plain": [
       "array([[5., 6., 0.],\n",
       "       [1., 7., 0.]])"
      ]
     },
     "execution_count": 61,
     "metadata": {},
     "output_type": "execute_result"
    }
   ],
   "source": [
    "SS=H2[0]+H2[1]+H2[2]+H2[3]\n",
    "SS"
   ]
  },
  {
   "cell_type": "code",
   "execution_count": 64,
   "metadata": {},
   "outputs": [
    {
     "data": {
      "text/plain": [
       "array([[ 0.,  0.,  0.],\n",
       "       [ 9.,  6., -6.]])"
      ]
     },
     "execution_count": 64,
     "metadata": {},
     "output_type": "execute_result"
    }
   ],
   "source": [
    "SSS=H2[4]\n",
    "SSS"
   ]
  },
  {
   "cell_type": "code",
   "execution_count": 65,
   "metadata": {},
   "outputs": [
    {
     "data": {
      "text/plain": [
       "(array([5., 6., 0.]),\n",
       " array([14., 12., -6.]),\n",
       " array([1., 7., 0.]),\n",
       " array([10., 13., -6.]))"
      ]
     },
     "execution_count": 65,
     "metadata": {},
     "output_type": "execute_result"
    }
   ],
   "source": [
    "SS[0]+SSS[0],SS[0]+SSS[1],SS[1]+SSS[0],SS[1]+SSS[1]"
   ]
  },
  {
   "cell_type": "code",
   "execution_count": 66,
   "metadata": {},
   "outputs": [
    {
     "data": {
      "text/plain": [
       "array([[5., 0., 0.],\n",
       "       [4., 1., 1.]])"
      ]
     },
     "execution_count": 66,
     "metadata": {},
     "output_type": "execute_result"
    }
   ],
   "source": [
    "G2[0]+G2[4]+G2[3]"
   ]
  },
  {
   "cell_type": "code",
   "execution_count": 71,
   "metadata": {},
   "outputs": [
    {
     "data": {
      "text/plain": [
       "array([[ 0.,  6.,  0.],\n",
       "       [ 2.,  0., -2.]])"
      ]
     },
     "execution_count": 71,
     "metadata": {},
     "output_type": "execute_result"
    }
   ],
   "source": [
    "G2[1]"
   ]
  },
  {
   "cell_type": "code",
   "execution_count": 68,
   "metadata": {},
   "outputs": [
    {
     "data": {
      "text/plain": [
       "array([[0., 0., 0.],\n",
       "       [1., 2., 2.]])"
      ]
     },
     "execution_count": 68,
     "metadata": {},
     "output_type": "execute_result"
    }
   ],
   "source": [
    "G2[2]"
   ]
  },
  {
   "cell_type": "code",
   "execution_count": 73,
   "metadata": {},
   "outputs": [],
   "source": [
    "def Mink(a,b):\n",
    "    a_l = a.shape[0]\n",
    "    b_l = b.shape[0]\n",
    "    \n",
    "    c = np.zeros((a_l*b_l,3))\n",
    "    \n",
    "    for i in range(a_l):\n",
    "        for j in range(b_l):\n",
    "            \n",
    "            c[j+b_l*i]=a[i]+b[j]\n",
    "            \n",
    "    return c"
   ]
  },
  {
   "cell_type": "code",
   "execution_count": 75,
   "metadata": {},
   "outputs": [
    {
     "data": {
      "text/plain": [
       "array([[ 5.,  6.,  0.],\n",
       "       [ 4.,  7.,  1.],\n",
       "       [ 6.,  8.,  2.],\n",
       "       [ 5.,  9.,  3.],\n",
       "       [ 7.,  0., -2.],\n",
       "       [ 6.,  1., -1.],\n",
       "       [ 8.,  2.,  0.],\n",
       "       [ 7.,  3.,  1.]])"
      ]
     },
     "execution_count": 75,
     "metadata": {},
     "output_type": "execute_result"
    }
   ],
   "source": [
    "Mink(Mink(G2[1],G2[2]),G2[0]+G2[4]+G2[3])"
   ]
  },
  {
   "cell_type": "markdown",
   "metadata": {},
   "source": [
    "On a des points et des lignes"
   ]
  },
  {
   "cell_type": "markdown",
   "metadata": {},
   "source": [
    "Il faut maintenant faire une somme de Minkowski de tout ca, \n",
    "\n",
    "Ensuite prendre convex hull pour trouver f\n",
    "\n",
    "puis projeter puis passer au squelette !"
   ]
  },
  {
   "cell_type": "code",
   "execution_count": null,
   "metadata": {},
   "outputs": [],
   "source": []
  }
 ],
 "metadata": {
  "kernelspec": {
   "display_name": "Python 3",
   "language": "python",
   "name": "python3"
  },
  "language_info": {
   "codemirror_mode": {
    "name": "ipython",
    "version": 3
   },
   "file_extension": ".py",
   "mimetype": "text/x-python",
   "name": "python",
   "nbconvert_exporter": "python",
   "pygments_lexer": "ipython3",
   "version": "3.6.6"
  }
 },
 "nbformat": 4,
 "nbformat_minor": 2
}
